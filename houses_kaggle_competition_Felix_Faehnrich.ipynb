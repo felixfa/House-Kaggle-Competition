{
 "cells": [
  {
   "cell_type": "markdown",
   "metadata": {
    "heading_collapsed": true
   },
   "source": [
    "# 🔥 Kaggle House Prices - Advanced Regression Techniques\n",
    "# Le Wagon Batch Challenge"
   ]
  },
  {
   "cell_type": "markdown",
   "metadata": {
    "hidden": true
   },
   "source": [
    "Welcome to your first Kaggle competition!\n",
    "\n",
    "Your objective is to **submit online an answer** to the open competition [House Prices - Advanced Regression Techniques](https://www.kaggle.com/c/house-prices-advanced-regression-techniques/data)\n",
    "\n",
    "- Fortunately, you have already come across the house dataset in the bootcamp!\n",
    "- You will be semi-guided up to a **baseline model**\n",
    "- Only after will you be free to improve & refine your models\n",
    "- We will approach the problem through **pipelines** (the best practice to take!)\n",
    "\n",
    "A word on Kaggle:\n",
    "- Kaggle will rank your submission amongst all participants!\n",
    "- But don't worry, everyone is publicly removed from the leaderboard after 2 months\n",
    "- You can make to 10 submissions per day"
   ]
  },
  {
   "cell_type": "markdown",
   "metadata": {
    "heading_collapsed": true,
    "hidden": true
   },
   "source": [
    "## Setup Kaggle\n",
    "\n",
    "👉 Create an account on Kaggle if you want to participate in the competition. \n",
    "\n",
    "👉 Join the [House Prices Challenge](https://www.kaggle.com/c/house-prices-advanced-regression-techniques/data) \n",
    "\n",
    "👉 Write down your Kaggle `username` the [result spreadsheet here](https://docs.google.com/spreadsheets/d/1ZEBKwa_k1Ytb0WCOh-Nopq3eaezwBNu1SAqKXEXRguc/edit#gid=0) (pick the correct batch!)\n",
    "\n",
    "**Your whole class will compete as a group against the team of TAs**"
   ]
  },
  {
   "cell_type": "markdown",
   "metadata": {
    "heading_collapsed": true,
    "hidden": true
   },
   "source": [
    "## Kaggle contest rules: Custom metric required\n",
    "Submissions are evaluated on Root-Mean-Squared-Error (RMSE) between the logarithm of the predicted value and the logarithm of the observed sales price.\n",
    "\n",
    "(Taking logs means that errors in predicting expensive houses and cheap houses will affect the result equally.)\n",
    "\n",
    "❓ Read the Kaggle [contest evaluation rules](https://www.kaggle.com/c/house-prices-advanced-regression-techniques/overview/evaluation) \n",
    "- Which performance metric do you need? Is it readily available in sklearn?\n",
    "- Create a scorer using [`make_scorer`](https://scikit-learn.org/stable/modules/generated/sklearn.metrics.make_scorer.html) and store it into a variable named `rmsle`\n",
    "- Create also the negative score `rmsle_neg` which is best when _maximized_. This will come handy later as `GridSearchCV` requires a score to _maximize_"
   ]
  },
  {
   "cell_type": "markdown",
   "metadata": {
    "heading_collapsed": true
   },
   "source": [
    "# Imports\n",
    "\n",
    "- canonical imports\n",
    "- sklearn   imports\n",
    "- xgboost   imports"
   ]
  },
  {
   "cell_type": "code",
   "execution_count": 155,
   "metadata": {
    "hidden": true
   },
   "outputs": [],
   "source": [
    "# Canonical imports\n",
    "\n",
    "import pandas as pd\n",
    "import numpy as np\n",
    "import matplotlib.pyplot as plt\n",
    "import statsmodels.api as sm\n",
    "import seaborn as sns\n",
    "import math\n",
    "from scipy import stats\n",
    "from tempfile import mkdtemp\n",
    "from shutil import rmtree\n",
    "\n",
    "# sklearn imports\n",
    "\n",
    "from sklearn import set_config; set_config(display='diagram')\n",
    "\n",
    "from sklearn.pipeline import Pipeline\n",
    "\n",
    "from sklearn.impute import KNNImputer, SimpleImputer\n",
    "from sklearn.feature_selection import SelectPercentile, mutual_info_regression\n",
    "\n",
    "from sklearn.compose import ColumnTransformer, make_column_selector\n",
    "from sklearn.metrics import make_scorer, mean_squared_error\n",
    "\n",
    "from sklearn.preprocessing import MinMaxScaler, RobustScaler, StandardScaler\n",
    "from sklearn.preprocessing import OrdinalEncoder, OneHotEncoder\n",
    "\n",
    "from sklearn.model_selection import cross_validate, GridSearchCV, RandomizedSearchCV\n",
    "from sklearn.model_selection import train_test_split, learning_curve\n",
    "\n",
    "from sklearn.linear_model import Ridge\n",
    "from sklearn.svm import SVR\n",
    "from sklearn.tree import DecisionTreeRegressor\n",
    "from sklearn.ensemble import GradientBoostingRegressor, VotingRegressor\n",
    "\n",
    "from sklearn.ensemble import AdaBoostRegressor\n",
    "\n",
    "# xgboost imports\n",
    "\n",
    "from xgboost import XGBRegressor"
   ]
  },
  {
   "cell_type": "markdown",
   "metadata": {
    "heading_collapsed": true
   },
   "source": [
    "# Datasets loading\n",
    "\n",
    "- Training data set: (1460, 81) , Testing data set: (1459, 80)\n",
    "- The training data set has 0 duplicates"
   ]
  },
  {
   "cell_type": "markdown",
   "metadata": {
    "hidden": true
   },
   "source": [
    "We have already downloaded for you everything from Kaggle into your current notebook folder:\n",
    "- `train.csv` is your (1460 * 81) training set containing `X` and `y`\n",
    "- `test.csv` is your (1459 * 80) testing set without the associated target `y`!\n",
    "- `sample_submission.csv` describing the format required to submit your answer\n",
    "- `data_description.txt` describing all columns\n",
    "\n",
    "Your goal is to predict the `y_pred` missing from your test set and submit it to discover your test_score & ranking\n",
    "\n",
    "You can use this direct download link if you don't want to create a Kaggle account\n",
    "\n",
    "data = pd.read_csv(\"https://wagon-public-datasets.s3.amazonaws.com/houses_train_raw.csv\")\n"
   ]
  },
  {
   "cell_type": "code",
   "execution_count": 2,
   "metadata": {
    "hidden": true
   },
   "outputs": [
    {
     "name": "stdout",
     "output_type": "stream",
     "text": [
      "Training data set: (1460, 81) , Testing data set: (1459, 80)\n",
      "The training data set has 0 duplicates\n"
     ]
    }
   ],
   "source": [
    "# Reading training and test data sets\n",
    "# Check for duplicates in the training data set >> There are not duplicates\n",
    "\n",
    "data_train = pd.read_csv(\"./data/train.csv\")\n",
    "data_test = pd.read_csv(\"./data/test.csv\")\n",
    "\n",
    "print(f\"Training data set: {data_train.shape} , Testing data set: {data_test.shape}\")\n",
    "print(f\"The training data set has {len(data_train)-len(data_train.drop_duplicates())} duplicates\")"
   ]
  },
  {
   "cell_type": "markdown",
   "metadata": {
    "heading_collapsed": true
   },
   "source": [
    "# Common functions for the baseline and the iterations\n",
    "\n",
    "**Functions:**\n",
    ">- def select_features (data_train, y_target, feat_to_be_excluded) return list_of_features\n",
    ">- def initialize_X_y (data_train, data_test, y_target, X_features) return X_train, y_train, X_test\n",
    ">- def explore_dtypes (X_train) return cat_features, int_features, float_features\n",
    ">- def csv_ready_to_submit (df_y_pred, columns_to_write, file_name)\n",
    ">\n",
    ">- def rmsle_metric(y_true, y_pred)\n",
    ">- def rmsle_neg_metric(y_true, y_pred)\n",
    "\n",
    "**Temporary folder to store the transformers of the pipelines: \"cachedir = mkdtemp()\"**\n",
    ">- Transformer parameters can be cached into memory in order to avoid recalculating transformer variables during cross validations and grid searches\n",
    ">>- Use the Pipeline parameter memory\n",
    ">>- Clear the cache directory after the cross-validation: \"rmtree(cachedir)\">"
   ]
  },
  {
   "cell_type": "code",
   "execution_count": 151,
   "metadata": {
    "hidden": true
   },
   "outputs": [],
   "source": [
    "# Selecting the target and the initial set of features for the baseline model\n",
    "#----------------------------------------------------------------------------\n",
    "#           target = 'SalePrice'\n",
    "#           features_excluded = [target] + list_of_ excluded (f.i. features_nulls)\n",
    "#           features = list(data_train.drop(columns= features_excluded).columns)\n",
    "#           print(f\"Number of features for the baseline model = {len(features)}\")\n",
    "\n",
    "def select_features (data_train, y_target, feat_to_be_excluded):\n",
    "    ''' y_target: the string name of the column to be predicted''' \n",
    "    ''' feat_to_be_excluded: list of column to be drop from the features list '''\n",
    "\n",
    "    features_excluded = [y_target] + feat_to_be_excluded    \n",
    "    list_of_features = list(data_train.drop(columns= features_excluded).columns)    \n",
    "    print(f\"Number of features = {len(list_of_features)}\")\n",
    "    \n",
    "    return list_of_features\n",
    "\n",
    "# Initializing X, y with training and test data sets\n",
    "#---------------------------------------------------\n",
    "#   X_train, y_train for training\n",
    "#   X_test for testing the performance of the model\n",
    "\n",
    "def initialize_X_y (data_train, data_test, y_target, X_features):\n",
    "    ''' data_train: training data set '''\n",
    "    ''' data_test : test data set ''' \n",
    "    ''' y_target  : the string name of the column to be predicted''' \n",
    "    ''' X_features: list of features '''\n",
    "    ''' return: (data_train[features],data_train[target],data_test[features])'''\n",
    "    \n",
    "    X_train = data_train[X_features]\n",
    "    y_train = data_train[y_target]\n",
    "    X_test = data_test[X_features]\n",
    "    \n",
    "    return X_train, y_train, X_test\n",
    "\n",
    "# Exploring dtypes of features\n",
    "#---------------------------------------------------\n",
    "#     print(pd.Series({\"Categorical\":len(cat_features),\n",
    "#                      \"Integer\":len(int_features),\n",
    "#                      \"Float\":len(float_features)}))\n",
    "\n",
    "def explore_dtypes (X_train):\n",
    "    ''' return 3 lists: categorical_features, int_features, float_features '''\n",
    "    ''' X_train: training data set '''\n",
    "    \n",
    "    df_tmp = pd.DataFrame(X_train.dtypes)\n",
    "\n",
    "    cat_features = list(df_tmp[df_tmp[0] == 'object'].index)\n",
    "    int_features = list(df_tmp[df_tmp[0] == 'int64'].index)\n",
    "    float_features = list(df_tmp[df_tmp[0] == 'float64'].index)\n",
    "\n",
    "    print(pd.Series({\"Categorical\":len(cat_features),\n",
    "                     \"Integer\":len(int_features),\n",
    "                     \"Float\":len(float_features)}))\n",
    "\n",
    "    return cat_features, int_features, float_features\n",
    "\n",
    "# Writing the csv ready to be submitted to Kaggle\n",
    "#---------------------------------------------------\n",
    "#     df_y_pred is a dataframe with the predictions\n",
    "#     columns to write according to the Kaggle challenge rules\n",
    "\n",
    "def csv_ready_to_submit (df_y_pred, columns_to_write, file_name):\n",
    "    \n",
    "    df_y_pred.to_csv(file_name,index=False,columns=columns_to_write,mode=\"w\")\n",
    "    \n",
    "# rmsle: RMSE between the logarithm of the predicted value and the logarithm of the observed price\n",
    "# rmsle_neg : -rmsle which is best when maximized through \"GridSearchCV\" \n",
    "# RMSE stands for Root-Mean-Squared-Error\n",
    "\n",
    "def rmsle_metric(y_true, y_pred):\n",
    "    \n",
    "    y_true_log = pd.Series(y_true).apply(lambda x: math.log(x))\n",
    "    y_pred_log = pd.Series(y_pred).apply(lambda x: math.log(x))\n",
    "    \n",
    "    return mean_squared_error (y_true_log, y_pred_log, squared=False )\n",
    "\n",
    "def rmsle_neg_metric(y_true, y_pred):\n",
    "    \n",
    "    y_true_log = pd.Series(y_true).apply(lambda x: math.log(x))\n",
    "    y_pred_log = pd.Series(y_pred).apply(lambda x: math.log(x))\n",
    "    \n",
    "    return - mean_squared_error (y_true_log, y_pred_log, squared=False )\n",
    "\n",
    "rmsle = make_scorer(rmsle_metric, greater_is_better=False)\n",
    "rmsle_neg = make_scorer(rmsle_neg_metric, greater_is_better=True)"
   ]
  },
  {
   "cell_type": "code",
   "execution_count": 4,
   "metadata": {
    "hidden": true
   },
   "outputs": [],
   "source": [
    "# Create a temporary folder to store the transformers of the pipelines\n",
    "# Transformer parameters can be cached into memory\n",
    "# Avoid recalculating transformer variables during cross validations or grid searches\n",
    "# Only helps when transformer fit time is long and dataset very large\n",
    "# Use the Pipeline parameter memory\n",
    "# Clear the cache directory after the cross-validation: rmtree(cachedir)\n",
    "\n",
    "cachedir = mkdtemp()\n"
   ]
  },
  {
   "cell_type": "markdown",
   "metadata": {},
   "source": [
    "# 🐣 BASELINE"
   ]
  },
  {
   "cell_type": "markdown",
   "metadata": {
    "heading_collapsed": true
   },
   "source": [
    "## Preparing the initial data for the baseline:  \"preproc_baseline\"\n",
    "\n",
    "Exclusion of categorical features with more than 6 unique values \n",
    ">- Categorical features in the dataset         43\n",
    ">-    Categorical features included          34\n",
    ">>Simple-Impute with most frequent values and One-Hot-Encode (Drop all others features)\n",
    ">-    Categorical features excluded           9\n",
    ">>['Neighborhood', 'Exterior2nd', 'Exterior1st', 'SaleType', 'Condition1', 'Condition2', 'HouseStyle', 'RoofMatl', 'Functional']\n",
    "\n",
    "Numerical features\n",
    ">- Simple-Impute with strategy 'mean'\n",
    ">- Min-Max Scale "
   ]
  },
  {
   "cell_type": "code",
   "execution_count": 5,
   "metadata": {
    "ExecuteTime": {
     "end_time": "2021-02-03T08:28:56.210320Z",
     "start_time": "2021-02-03T08:28:56.204853Z"
    },
    "hidden": true
   },
   "outputs": [
    {
     "name": "stdout",
     "output_type": "stream",
     "text": [
      "Number of features = 80\n",
      "X_train.shape(1460, 80)\n",
      "y_train.shape (1460,)\n",
      "X_test.shape (1459, 80)\n",
      "Categorical    43\n",
      "Integer        34\n",
      "Float           3\n",
      "dtype: int64\n"
     ]
    }
   ],
   "source": [
    "# Initializing X, y with training and test data sets\n",
    "#   X_train, y_train for training\n",
    "#   X_test for testing the performance of the model\n",
    "\n",
    "target = 'SalePrice'\n",
    "feat_to_be_excluded = []\n",
    "\n",
    "features_base = select_features (data_train, target, feat_to_be_excluded )\n",
    "\n",
    "X_train, y_train, X_test = initialize_X_y(data_train, data_test, target, features_base)\n",
    "\n",
    "print(f\"X_train.shape{X_train.shape}\\ny_train.shape {y_train.shape}\\nX_test.shape {X_test.shape}\")\n",
    "\n",
    "# Exploring dtypes of features\n",
    "\n",
    "cat_features_base, int_features_base, float_features_base = explore_dtypes (X_train)\n",
    "\n",
    "num_features_base = int_features_base + float_features_base"
   ]
  },
  {
   "cell_type": "markdown",
   "metadata": {
    "hidden": true
   },
   "source": [
    "80 features is too much to deal with one-by-one for a first baseline pipeline! Let's treat them solely based on their `dtype`:\n",
    "\n",
    "❓ How many numerical features vs. categorical features do we have?\n",
    "\n",
    "❓ Store the Series `feat_categorical_nunique` containing the number of **unique values** for each categorical feature in our training set. How many unique categories are there in total ?\n",
    "\n",
    "🤔 If we were to `OneHotEncode` all categorical features, our feature matrix `X_preproc` would become pretty big and spare, with almost 300 (highly correlated) features for only 1400 observations. Ideally, we should aim at feeding our model with 50-100 features max (📚 Read this [rule of thumb](https://datascience.stackexchange.com/a/11480/98300))\n",
    "\n",
    "There are 2 main strategies to reduce the number of categorical features post-preprocessing:\n",
    "- **[Remove](https://scikit-learn.org/stable/modules/classes.html#module-sklearn.feature_selection)** features that bring too little explanation to our model. This may require statistical analysis of feature importance \n",
    "- **[Ordinally encode](https://scikit-learn.org/stable/modules/generated/sklearn.preprocessing.OrdinalEncoder.html)** (instead of one-hot-encode) categorical features into integers. However this forces a notion of \"order\" (1>2>3...) that can be detrimental if not set properly!\n",
    "\n",
    "💡 As a starter, what about simply removing all features that have **7 unique values or more**, and one-hot-encode every others? Let's keep ordinal encoding and statistical feature selection for the next iteration.\n",
    "\n",
    "❓ Store features to OHE in a list `feat_categorical_small` below. How many features will be OHE?"
   ]
  },
  {
   "cell_type": "code",
   "execution_count": 6,
   "metadata": {
    "ExecuteTime": {
     "end_time": "2021-02-03T08:29:00.579358Z",
     "start_time": "2021-02-03T08:29:00.566973Z"
    },
    "hidden": true
   },
   "outputs": [
    {
     "name": "stdout",
     "output_type": "stream",
     "text": [
      "--------------------------------------------------------------------\n",
      "Total number of unique values for the categorical features = 252\n",
      "--------------------------------------------------------------------\n"
     ]
    },
    {
     "data": {
      "text/plain": [
       "<AxesSubplot:ylabel='Count'>"
      ]
     },
     "execution_count": 6,
     "metadata": {},
     "output_type": "execute_result"
    },
    {
     "data": {
      "image/png": "[encoded data removed]",
      "text/plain": [
       "<Figure size 432x288 with 1 Axes>"
      ]
     },
     "metadata": {
      "needs_background": "light"
     },
     "output_type": "display_data"
    }
   ],
   "source": [
    "# Exploring unique_values for categorical features\n",
    "# cat_features_unique_values[feature] = number of unique values of the feature excluding np.nan\n",
    "\n",
    "cat_features_unique_values = {}\n",
    "\n",
    "for feat in cat_features_base:\n",
    "    cat_features_unique_values[feat] = pd.Series(data_train[feat].unique()).notnull().sum()\n",
    " \n",
    "feat_categorical_nunique_base = pd.Series(cat_features_unique_values).sort_values(ascending=False)\n",
    "\n",
    "print(\"--------------------------------------------------------------------\")\n",
    "print(f\"Total number of unique values for the categorical features = \\\n",
    "{feat_categorical_nunique_base.sum()}\\n--------------------------------------------------------------------\")\n",
    "\n",
    "# Histogram of number of unique value per categorical feature\n",
    "\n",
    "sns.histplot(feat_categorical_nunique_base, binwidth=1)"
   ]
  },
  {
   "cell_type": "code",
   "execution_count": 7,
   "metadata": {
    "ExecuteTime": {
     "end_time": "2021-02-03T08:29:06.573333Z",
     "start_time": "2021-02-03T08:29:06.566047Z"
    },
    "hidden": true
   },
   "outputs": [
    {
     "name": "stdout",
     "output_type": "stream",
     "text": [
      "---------------------------------------------------------------------------------\n",
      "Categorical features excluded due to having more than 6 unique values \n",
      "['Neighborhood', 'Exterior2nd', 'Exterior1st', 'SaleType', 'Condition1', 'Condition2', 'HouseStyle', 'RoofMatl', 'Functional']\n",
      "---------------------------------------------------------------------------------\n"
     ]
    },
    {
     "data": {
      "text/plain": [
       "Categorical features in the dataset    43\n",
       "Categorical features included          34\n",
       "Categorical features excluded           9\n",
       "dtype: int64"
      ]
     },
     "execution_count": 7,
     "metadata": {},
     "output_type": "execute_result"
    }
   ],
   "source": [
    "# Classifying categorical features based on their number of unique values\n",
    "\n",
    "UNIQUE_VALUES_THRESHOLD = 7\n",
    "\n",
    "feat_categorical_small_base = list(feat_categorical_nunique_base\n",
    "                              [feat_categorical_nunique_base < UNIQUE_VALUES_THRESHOLD].index)\n",
    "\n",
    "feat_categorical_large_base = list(feat_categorical_nunique_base \n",
    "                              [feat_categorical_nunique_base >= UNIQUE_VALUES_THRESHOLD].index)\n",
    "\n",
    "cat_features_nunique_base = pd.Series({\n",
    "                                  \"Categorical features in the dataset\":len(feat_categorical_nunique_base), \n",
    "                                  \"Categorical features included\"      :len(feat_categorical_small_base),\n",
    "                                  \"Categorical features excluded\"      :len(feat_categorical_large_base)\n",
    "                                    })\n",
    "\n",
    "# feat_categorical_nunique[feat_categorical_small]\n",
    "\n",
    "feat_categorical_small = feat_categorical_small_base\n",
    "\n",
    "print(\"---------------------------------------------------------------------------------\")\n",
    "print(f\"Categorical features excluded due to having more than 6 unique values \\n{feat_categorical_large_base}\")\n",
    "print(\"---------------------------------------------------------------------------------\")\n",
    "\n",
    "cat_features_nunique_base"
   ]
  },
  {
   "cell_type": "markdown",
   "metadata": {
    "hidden": true
   },
   "source": [
    "🧪 Test your code below (and clear the cell once it passed)"
   ]
  },
  {
   "cell_type": "code",
   "execution_count": 8,
   "metadata": {
    "ExecuteTime": {
     "end_time": "2021-02-03T08:29:10.601850Z",
     "start_time": "2021-02-03T08:29:08.693622Z"
    },
    "hidden": true
   },
   "outputs": [
    {
     "name": "stdout",
     "output_type": "stream",
     "text": [
      "\u001b[1m============================= test session starts ==============================\u001b[0m\n",
      "platform linux -- Python 3.8.6, pytest-6.2.1, py-1.10.0, pluggy-0.13.1 -- /home/jm/.pyenv/versions/3.8.6/envs/lewagon/bin/python3.8\n",
      "cachedir: .pytest_cache\n",
      "rootdir: /home/jm/code/JPDZ67/data-challenges/05-ML/07-Ensemble-Methods/01-Houses-Kaggle-Competition\n",
      "plugins: anyio-2.0.2\n",
      "\u001b[1mcollecting ... \u001b[0mcollected 1 item\n",
      "\n",
      "tests/test_features_overview.py::TestFeaturesOverview::test_feat_categorical_small \u001b[32mPASSED\u001b[0m\u001b[32m [100%]\u001b[0m\n",
      "\n",
      "\u001b[32m============================== \u001b[32m\u001b[1m1 passed\u001b[0m\u001b[32m in 0.02s\u001b[0m\u001b[32m ===============================\u001b[0m\n",
      "\n",
      "\n",
      "💯 You can commit your code:\n",
      "\n",
      "\u001b[1;32mgit\u001b[39m add tests/features_overview.pickle\n",
      "\n",
      "\u001b[32mgit\u001b[39m commit -m \u001b[33m'Completed features_overview step'\u001b[39m\n",
      "\n",
      "\u001b[32mgit\u001b[39m push origin master\n"
     ]
    }
   ],
   "source": [
    "from nbresult import ChallengeResult\n",
    "result = ChallengeResult('features_overview',\n",
    "    n=len(feat_categorical_small))\n",
    "result.write(); print(result.check())"
   ]
  },
  {
   "cell_type": "code",
   "execution_count": 9,
   "metadata": {
    "ExecuteTime": {
     "end_time": "2021-02-03T08:29:46.327429Z",
     "start_time": "2021-02-03T08:29:46.298030Z"
    },
    "hidden": true
   },
   "outputs": [
    {
     "data": {
      "text/html": [
       "<style>div.sk-top-container {color: black;background-color: white;}div.sk-toggleable {background-color: white;}label.sk-toggleable__label {cursor: pointer;display: block;width: 100%;margin-bottom: 0;padding: 0.2em 0.3em;box-sizing: border-box;text-align: center;}div.sk-toggleable__content {max-height: 0;max-width: 0;overflow: hidden;text-align: left;background-color: #f0f8ff;}div.sk-toggleable__content pre {margin: 0.2em;color: black;border-radius: 0.25em;background-color: #f0f8ff;}input.sk-toggleable__control:checked~div.sk-toggleable__content {max-height: 200px;max-width: 100%;overflow: auto;}div.sk-estimator input.sk-toggleable__control:checked~label.sk-toggleable__label {background-color: #d4ebff;}div.sk-label input.sk-toggleable__control:checked~label.sk-toggleable__label {background-color: #d4ebff;}input.sk-hidden--visually {border: 0;clip: rect(1px 1px 1px 1px);clip: rect(1px, 1px, 1px, 1px);height: 1px;margin: -1px;overflow: hidden;padding: 0;position: absolute;width: 1px;}div.sk-estimator {font-family: monospace;background-color: #f0f8ff;margin: 0.25em 0.25em;border: 1px dotted black;border-radius: 0.25em;box-sizing: border-box;}div.sk-estimator:hover {background-color: #d4ebff;}div.sk-parallel-item::after {content: \"\";width: 100%;border-bottom: 1px solid gray;flex-grow: 1;}div.sk-label:hover label.sk-toggleable__label {background-color: #d4ebff;}div.sk-serial::before {content: \"\";position: absolute;border-left: 1px solid gray;box-sizing: border-box;top: 2em;bottom: 0;left: 50%;}div.sk-serial {display: flex;flex-direction: column;align-items: center;background-color: white;}div.sk-item {z-index: 1;}div.sk-parallel {display: flex;align-items: stretch;justify-content: center;background-color: white;}div.sk-parallel-item {display: flex;flex-direction: column;position: relative;background-color: white;}div.sk-parallel-item:first-child::after {align-self: flex-end;width: 50%;}div.sk-parallel-item:last-child::after {align-self: flex-start;width: 50%;}div.sk-parallel-item:only-child::after {width: 0;}div.sk-dashed-wrapped {border: 1px dashed gray;margin: 0.2em;box-sizing: border-box;padding-bottom: 0.1em;background-color: white;position: relative;}div.sk-label label {font-family: monospace;font-weight: bold;background-color: white;display: inline-block;line-height: 1.2em;}div.sk-label-container {position: relative;z-index: 2;text-align: center;}div.sk-container {display: inline-block;position: relative;}</style><div class=\"sk-top-container\"><div class=\"sk-container\"><div class=\"sk-item sk-dashed-wrapped\"><div class=\"sk-label-container\"><div class=\"sk-label sk-toggleable\"><input class=\"sk-toggleable__control sk-hidden--visually\" id=\"3b3c01c2-cec7-4041-8809-95ab3528ba4c\" type=\"checkbox\" ><label class=\"sk-toggleable__label\" for=\"3b3c01c2-cec7-4041-8809-95ab3528ba4c\">ColumnTransformer</label><div class=\"sk-toggleable__content\"><pre>ColumnTransformer(transformers=[('num_transformer',\n",
       "                                 Pipeline(memory='/tmp/tmp4dt566r5',\n",
       "                                          steps=[('num_imputer',\n",
       "                                                  SimpleImputer()),\n",
       "                                                 ('num_scaler',\n",
       "                                                  MinMaxScaler())]),\n",
       "                                 ['Id', 'MSSubClass', 'LotArea', 'OverallQual',\n",
       "                                  'OverallCond', 'YearBuilt', 'YearRemodAdd',\n",
       "                                  'BsmtFinSF1', 'BsmtFinSF2', 'BsmtUnfSF',\n",
       "                                  'TotalBsmtSF', '1stFlrSF', '2ndFlrSF',\n",
       "                                  'LowQualFinSF', 'GrLivArea', 'BsmtFul...\n",
       "                                 ['BsmtFinType2', 'Heating', 'RoofStyle',\n",
       "                                  'SaleCondition', 'BsmtFinType1', 'GarageType',\n",
       "                                  'Foundation', 'Electrical', 'FireplaceQu',\n",
       "                                  'HeatingQC', 'GarageQual', 'GarageCond',\n",
       "                                  'MSZoning', 'LotConfig', 'ExterCond',\n",
       "                                  'BldgType', 'BsmtExposure', 'MiscFeature',\n",
       "                                  'Fence', 'LotShape', 'LandContour',\n",
       "                                  'BsmtCond', 'KitchenQual', 'MasVnrType',\n",
       "                                  'ExterQual', 'BsmtQual', 'LandSlope',\n",
       "                                  'GarageFinish', 'PavedDrive', 'PoolQC', ...])])</pre></div></div></div><div class=\"sk-parallel\"><div class=\"sk-parallel-item\"><div class=\"sk-item\"><div class=\"sk-label-container\"><div class=\"sk-label sk-toggleable\"><input class=\"sk-toggleable__control sk-hidden--visually\" id=\"e553aacf-88bd-4d02-91a4-c1420117e114\" type=\"checkbox\" ><label class=\"sk-toggleable__label\" for=\"e553aacf-88bd-4d02-91a4-c1420117e114\">num_transformer</label><div class=\"sk-toggleable__content\"><pre>['Id', 'MSSubClass', 'LotArea', 'OverallQual', 'OverallCond', 'YearBuilt', 'YearRemodAdd', 'BsmtFinSF1', 'BsmtFinSF2', 'BsmtUnfSF', 'TotalBsmtSF', '1stFlrSF', '2ndFlrSF', 'LowQualFinSF', 'GrLivArea', 'BsmtFullBath', 'BsmtHalfBath', 'FullBath', 'HalfBath', 'BedroomAbvGr', 'KitchenAbvGr', 'TotRmsAbvGrd', 'Fireplaces', 'GarageCars', 'GarageArea', 'WoodDeckSF', 'OpenPorchSF', 'EnclosedPorch', '3SsnPorch', 'ScreenPorch', 'PoolArea', 'MiscVal', 'MoSold', 'YrSold', 'LotFrontage', 'MasVnrArea', 'GarageYrBlt']</pre></div></div></div><div class=\"sk-serial\"><div class=\"sk-item\"><div class=\"sk-serial\"><div class=\"sk-item\"><div class=\"sk-estimator sk-toggleable\"><input class=\"sk-toggleable__control sk-hidden--visually\" id=\"0aaa32d6-14b9-47c0-84e4-644c4aade65e\" type=\"checkbox\" ><label class=\"sk-toggleable__label\" for=\"0aaa32d6-14b9-47c0-84e4-644c4aade65e\">SimpleImputer</label><div class=\"sk-toggleable__content\"><pre>SimpleImputer()</pre></div></div></div><div class=\"sk-item\"><div class=\"sk-estimator sk-toggleable\"><input class=\"sk-toggleable__control sk-hidden--visually\" id=\"92118152-1a91-41b1-8a2b-d5447c2097ae\" type=\"checkbox\" ><label class=\"sk-toggleable__label\" for=\"92118152-1a91-41b1-8a2b-d5447c2097ae\">MinMaxScaler</label><div class=\"sk-toggleable__content\"><pre>MinMaxScaler()</pre></div></div></div></div></div></div></div></div><div class=\"sk-parallel-item\"><div class=\"sk-item\"><div class=\"sk-label-container\"><div class=\"sk-label sk-toggleable\"><input class=\"sk-toggleable__control sk-hidden--visually\" id=\"02c32434-a932-4d7c-8ac3-8794b067d927\" type=\"checkbox\" ><label class=\"sk-toggleable__label\" for=\"02c32434-a932-4d7c-8ac3-8794b067d927\">cat_transformer</label><div class=\"sk-toggleable__content\"><pre>['BsmtFinType2', 'Heating', 'RoofStyle', 'SaleCondition', 'BsmtFinType1', 'GarageType', 'Foundation', 'Electrical', 'FireplaceQu', 'HeatingQC', 'GarageQual', 'GarageCond', 'MSZoning', 'LotConfig', 'ExterCond', 'BldgType', 'BsmtExposure', 'MiscFeature', 'Fence', 'LotShape', 'LandContour', 'BsmtCond', 'KitchenQual', 'MasVnrType', 'ExterQual', 'BsmtQual', 'LandSlope', 'GarageFinish', 'PavedDrive', 'PoolQC', 'Utilities', 'CentralAir', 'Street', 'Alley']</pre></div></div></div><div class=\"sk-serial\"><div class=\"sk-item\"><div class=\"sk-serial\"><div class=\"sk-item\"><div class=\"sk-estimator sk-toggleable\"><input class=\"sk-toggleable__control sk-hidden--visually\" id=\"ae218ab9-a9f4-47ae-bafe-dd92da754f46\" type=\"checkbox\" ><label class=\"sk-toggleable__label\" for=\"ae218ab9-a9f4-47ae-bafe-dd92da754f46\">SimpleImputer</label><div class=\"sk-toggleable__content\"><pre>SimpleImputer(strategy='most_frequent')</pre></div></div></div><div class=\"sk-item\"><div class=\"sk-estimator sk-toggleable\"><input class=\"sk-toggleable__control sk-hidden--visually\" id=\"f0a5fe3a-3b3e-4bc8-9aa4-08caff990ba5\" type=\"checkbox\" ><label class=\"sk-toggleable__label\" for=\"f0a5fe3a-3b3e-4bc8-9aa4-08caff990ba5\">OneHotEncoder</label><div class=\"sk-toggleable__content\"><pre>OneHotEncoder(handle_unknown='ignore', sparse=False)</pre></div></div></div></div></div></div></div></div></div></div></div></div>"
      ],
      "text/plain": [
       "ColumnTransformer(transformers=[('num_transformer',\n",
       "                                 Pipeline(memory='/tmp/tmp4dt566r5',\n",
       "                                          steps=[('num_imputer',\n",
       "                                                  SimpleImputer()),\n",
       "                                                 ('num_scaler',\n",
       "                                                  MinMaxScaler())]),\n",
       "                                 ['Id', 'MSSubClass', 'LotArea', 'OverallQual',\n",
       "                                  'OverallCond', 'YearBuilt', 'YearRemodAdd',\n",
       "                                  'BsmtFinSF1', 'BsmtFinSF2', 'BsmtUnfSF',\n",
       "                                  'TotalBsmtSF', '1stFlrSF', '2ndFlrSF',\n",
       "                                  'LowQualFinSF', 'GrLivArea', 'BsmtFul...\n",
       "                                 ['BsmtFinType2', 'Heating', 'RoofStyle',\n",
       "                                  'SaleCondition', 'BsmtFinType1', 'GarageType',\n",
       "                                  'Foundation', 'Electrical', 'FireplaceQu',\n",
       "                                  'HeatingQC', 'GarageQual', 'GarageCond',\n",
       "                                  'MSZoning', 'LotConfig', 'ExterCond',\n",
       "                                  'BldgType', 'BsmtExposure', 'MiscFeature',\n",
       "                                  'Fence', 'LotShape', 'LandContour',\n",
       "                                  'BsmtCond', 'KitchenQual', 'MasVnrType',\n",
       "                                  'ExterQual', 'BsmtQual', 'LandSlope',\n",
       "                                  'GarageFinish', 'PavedDrive', 'PoolQC', ...])])"
      ]
     },
     "execution_count": 9,
     "metadata": {},
     "output_type": "execute_result"
    }
   ],
   "source": [
    "# Numerical features: Simple-Impute with strategy 'mean' and Min-Max Scale\n",
    "\n",
    "num_transform_pipe_base = \\\n",
    "                Pipeline([ ('num_imputer', SimpleImputer(strategy=\"mean\")),\n",
    "                ('num_scaler', MinMaxScaler()) ], memory = cachedir)\n",
    "\n",
    "# Categorical features: Simple-Impute with most frequent values and OHE \"feat_categorical_small\"\n",
    "\n",
    "cat_transform_pipe_base = \\\n",
    "                Pipeline([ ('cat_imputer', SimpleImputer(strategy=\"most_frequent\")),\n",
    "                ('cat_transformer', OneHotEncoder(handle_unknown='ignore',sparse=False)) ],\n",
    "                memory = cachedir)\n",
    "\n",
    "# For categorical features OHE only if they have less than 7 unique values, otherwise drop them\n",
    "\n",
    "preproc_baseline = \\\n",
    "                ColumnTransformer([('num_transformer', num_transform_pipe_base, num_features_base),\n",
    "                ('cat_transformer', cat_transform_pipe_base, feat_categorical_small_base) ])\n",
    "\n",
    "preproc_baseline"
   ]
  },
  {
   "cell_type": "markdown",
   "metadata": {
    "hidden": true
   },
   "source": [
    "❓ Look at the **shape** of your preprocessed dataframe."
   ]
  },
  {
   "cell_type": "code",
   "execution_count": 10,
   "metadata": {
    "ExecuteTime": {
     "end_time": "2021-02-03T08:29:48.945399Z",
     "start_time": "2021-02-03T08:29:48.899742Z"
    },
    "hidden": true
   },
   "outputs": [
    {
     "data": {
      "text/plain": [
       "(1460, 184)"
      ]
     },
     "execution_count": 10,
     "metadata": {},
     "output_type": "execute_result"
    }
   ],
   "source": [
    "shape_preproc_baseline = pd.DataFrame(preproc_baseline.fit_transform(X_train)).shape\n",
    "shape_preproc_baseline"
   ]
  },
  {
   "cell_type": "markdown",
   "metadata": {
    "hidden": true
   },
   "source": [
    "🧪 Test your code below"
   ]
  },
  {
   "cell_type": "code",
   "execution_count": 11,
   "metadata": {
    "ExecuteTime": {
     "end_time": "2021-02-03T08:29:51.189687Z",
     "start_time": "2021-02-03T08:29:50.059279Z"
    },
    "hidden": true
   },
   "outputs": [
    {
     "name": "stdout",
     "output_type": "stream",
     "text": [
      "\u001b[1m============================= test session starts ==============================\u001b[0m\n",
      "platform linux -- Python 3.8.6, pytest-6.2.1, py-1.10.0, pluggy-0.13.1 -- /home/jm/.pyenv/versions/3.8.6/envs/lewagon/bin/python3.8\n",
      "cachedir: .pytest_cache\n",
      "rootdir: /home/jm/code/JPDZ67/data-challenges/05-ML/07-Ensemble-Methods/01-Houses-Kaggle-Competition\n",
      "plugins: anyio-2.0.2\n",
      "\u001b[1mcollecting ... \u001b[0mcollected 1 item\n",
      "\n",
      "tests/test_preproc_baseline.py::TestPreprocBaseline::test_shape \u001b[32mPASSED\u001b[0m\u001b[32m   [100%]\u001b[0m\n",
      "\n",
      "\u001b[32m============================== \u001b[32m\u001b[1m1 passed\u001b[0m\u001b[32m in 0.02s\u001b[0m\u001b[32m ===============================\u001b[0m\n",
      "\n",
      "\n",
      "💯 You can commit your code:\n",
      "\n",
      "\u001b[1;32mgit\u001b[39m add tests/preproc_baseline.pickle\n",
      "\n",
      "\u001b[32mgit\u001b[39m commit -m \u001b[33m'Completed preproc_baseline step'\u001b[39m\n",
      "\n",
      "\u001b[32mgit\u001b[39m push origin master\n"
     ]
    }
   ],
   "source": [
    "from nbresult import ChallengeResult\n",
    "result = ChallengeResult('preproc_baseline',\n",
    "    shape=shape_preproc_baseline)\n",
    "result.write()\n",
    "print(result.check())"
   ]
  },
  {
   "cell_type": "markdown",
   "metadata": {
    "heading_collapsed": true
   },
   "source": [
    "## Model baseline\n",
    "\n",
    "\n",
    "### Ridge Regressor >> rmsle score for the baseline= 0.16631913339626253\n",
    " \n",
    ">- Pipe a basic Ridge regressor to your `preproc_baseline` and store it to `pipe_baseline` variable.\n",
    ">- 5-fold cross_validate your pipe_baseline using this metric to get a first glance at your baseline perf.\n",
    "Store your mean score as score_baseline\n"
   ]
  },
  {
   "cell_type": "code",
   "execution_count": 12,
   "metadata": {
    "ExecuteTime": {
     "end_time": "2021-02-03T08:29:52.307918Z",
     "start_time": "2021-02-03T08:29:52.248129Z"
    },
    "hidden": true
   },
   "outputs": [
    {
     "data": {
      "text/html": [
       "<style>div.sk-top-container {color: black;background-color: white;}div.sk-toggleable {background-color: white;}label.sk-toggleable__label {cursor: pointer;display: block;width: 100%;margin-bottom: 0;padding: 0.2em 0.3em;box-sizing: border-box;text-align: center;}div.sk-toggleable__content {max-height: 0;max-width: 0;overflow: hidden;text-align: left;background-color: #f0f8ff;}div.sk-toggleable__content pre {margin: 0.2em;color: black;border-radius: 0.25em;background-color: #f0f8ff;}input.sk-toggleable__control:checked~div.sk-toggleable__content {max-height: 200px;max-width: 100%;overflow: auto;}div.sk-estimator input.sk-toggleable__control:checked~label.sk-toggleable__label {background-color: #d4ebff;}div.sk-label input.sk-toggleable__control:checked~label.sk-toggleable__label {background-color: #d4ebff;}input.sk-hidden--visually {border: 0;clip: rect(1px 1px 1px 1px);clip: rect(1px, 1px, 1px, 1px);height: 1px;margin: -1px;overflow: hidden;padding: 0;position: absolute;width: 1px;}div.sk-estimator {font-family: monospace;background-color: #f0f8ff;margin: 0.25em 0.25em;border: 1px dotted black;border-radius: 0.25em;box-sizing: border-box;}div.sk-estimator:hover {background-color: #d4ebff;}div.sk-parallel-item::after {content: \"\";width: 100%;border-bottom: 1px solid gray;flex-grow: 1;}div.sk-label:hover label.sk-toggleable__label {background-color: #d4ebff;}div.sk-serial::before {content: \"\";position: absolute;border-left: 1px solid gray;box-sizing: border-box;top: 2em;bottom: 0;left: 50%;}div.sk-serial {display: flex;flex-direction: column;align-items: center;background-color: white;}div.sk-item {z-index: 1;}div.sk-parallel {display: flex;align-items: stretch;justify-content: center;background-color: white;}div.sk-parallel-item {display: flex;flex-direction: column;position: relative;background-color: white;}div.sk-parallel-item:first-child::after {align-self: flex-end;width: 50%;}div.sk-parallel-item:last-child::after {align-self: flex-start;width: 50%;}div.sk-parallel-item:only-child::after {width: 0;}div.sk-dashed-wrapped {border: 1px dashed gray;margin: 0.2em;box-sizing: border-box;padding-bottom: 0.1em;background-color: white;position: relative;}div.sk-label label {font-family: monospace;font-weight: bold;background-color: white;display: inline-block;line-height: 1.2em;}div.sk-label-container {position: relative;z-index: 2;text-align: center;}div.sk-container {display: inline-block;position: relative;}</style><div class=\"sk-top-container\"><div class=\"sk-container\"><div class=\"sk-item sk-dashed-wrapped\"><div class=\"sk-label-container\"><div class=\"sk-label sk-toggleable\"><input class=\"sk-toggleable__control sk-hidden--visually\" id=\"db3ea0e4-17fd-46d6-8868-b77c1dd00dc7\" type=\"checkbox\" ><label class=\"sk-toggleable__label\" for=\"db3ea0e4-17fd-46d6-8868-b77c1dd00dc7\">Pipeline</label><div class=\"sk-toggleable__content\"><pre>Pipeline(memory='/tmp/tmp4dt566r5',\n",
       "         steps=[('transformer',\n",
       "                 ColumnTransformer(transformers=[('num_transformer',\n",
       "                                                  Pipeline(memory='/tmp/tmp4dt566r5',\n",
       "                                                           steps=[('num_imputer',\n",
       "                                                                   SimpleImputer()),\n",
       "                                                                  ('num_scaler',\n",
       "                                                                   MinMaxScaler())]),\n",
       "                                                  ['Id', 'MSSubClass',\n",
       "                                                   'LotArea', 'OverallQual',\n",
       "                                                   'OverallCond', 'YearBuilt',\n",
       "                                                   'YearRemodAdd', 'BsmtFinSF1',\n",
       "                                                   'BsmtFinSF2', 'BsmtUnfSF',\n",
       "                                                   'TotalBsmtSF',...\n",
       "                                                   'BsmtFinType1', 'GarageType',\n",
       "                                                   'Foundation', 'Electrical',\n",
       "                                                   'FireplaceQu', 'HeatingQC',\n",
       "                                                   'GarageQual', 'GarageCond',\n",
       "                                                   'MSZoning', 'LotConfig',\n",
       "                                                   'ExterCond', 'BldgType',\n",
       "                                                   'BsmtExposure',\n",
       "                                                   'MiscFeature', 'Fence',\n",
       "                                                   'LotShape', 'LandContour',\n",
       "                                                   'BsmtCond', 'KitchenQual',\n",
       "                                                   'MasVnrType', 'ExterQual',\n",
       "                                                   'BsmtQual', 'LandSlope',\n",
       "                                                   'GarageFinish', 'PavedDrive',\n",
       "                                                   'PoolQC', ...])])),\n",
       "                ('regressor', Ridge())])</pre></div></div></div><div class=\"sk-serial\"><div class=\"sk-item sk-dashed-wrapped\"><div class=\"sk-label-container\"><div class=\"sk-label sk-toggleable\"><input class=\"sk-toggleable__control sk-hidden--visually\" id=\"c5f70d0f-f737-4dfe-8e5e-3e83d47b653d\" type=\"checkbox\" ><label class=\"sk-toggleable__label\" for=\"c5f70d0f-f737-4dfe-8e5e-3e83d47b653d\">transformer: ColumnTransformer</label><div class=\"sk-toggleable__content\"><pre>ColumnTransformer(transformers=[('num_transformer',\n",
       "                                 Pipeline(memory='/tmp/tmp4dt566r5',\n",
       "                                          steps=[('num_imputer',\n",
       "                                                  SimpleImputer()),\n",
       "                                                 ('num_scaler',\n",
       "                                                  MinMaxScaler())]),\n",
       "                                 ['Id', 'MSSubClass', 'LotArea', 'OverallQual',\n",
       "                                  'OverallCond', 'YearBuilt', 'YearRemodAdd',\n",
       "                                  'BsmtFinSF1', 'BsmtFinSF2', 'BsmtUnfSF',\n",
       "                                  'TotalBsmtSF', '1stFlrSF', '2ndFlrSF',\n",
       "                                  'LowQualFinSF', 'GrLivArea', 'BsmtFul...\n",
       "                                 ['BsmtFinType2', 'Heating', 'RoofStyle',\n",
       "                                  'SaleCondition', 'BsmtFinType1', 'GarageType',\n",
       "                                  'Foundation', 'Electrical', 'FireplaceQu',\n",
       "                                  'HeatingQC', 'GarageQual', 'GarageCond',\n",
       "                                  'MSZoning', 'LotConfig', 'ExterCond',\n",
       "                                  'BldgType', 'BsmtExposure', 'MiscFeature',\n",
       "                                  'Fence', 'LotShape', 'LandContour',\n",
       "                                  'BsmtCond', 'KitchenQual', 'MasVnrType',\n",
       "                                  'ExterQual', 'BsmtQual', 'LandSlope',\n",
       "                                  'GarageFinish', 'PavedDrive', 'PoolQC', ...])])</pre></div></div></div><div class=\"sk-parallel\"><div class=\"sk-parallel-item\"><div class=\"sk-item\"><div class=\"sk-label-container\"><div class=\"sk-label sk-toggleable\"><input class=\"sk-toggleable__control sk-hidden--visually\" id=\"0d984d4b-7f9c-49bc-b2cf-d846cff85839\" type=\"checkbox\" ><label class=\"sk-toggleable__label\" for=\"0d984d4b-7f9c-49bc-b2cf-d846cff85839\">num_transformer</label><div class=\"sk-toggleable__content\"><pre>['Id', 'MSSubClass', 'LotArea', 'OverallQual', 'OverallCond', 'YearBuilt', 'YearRemodAdd', 'BsmtFinSF1', 'BsmtFinSF2', 'BsmtUnfSF', 'TotalBsmtSF', '1stFlrSF', '2ndFlrSF', 'LowQualFinSF', 'GrLivArea', 'BsmtFullBath', 'BsmtHalfBath', 'FullBath', 'HalfBath', 'BedroomAbvGr', 'KitchenAbvGr', 'TotRmsAbvGrd', 'Fireplaces', 'GarageCars', 'GarageArea', 'WoodDeckSF', 'OpenPorchSF', 'EnclosedPorch', '3SsnPorch', 'ScreenPorch', 'PoolArea', 'MiscVal', 'MoSold', 'YrSold', 'LotFrontage', 'MasVnrArea', 'GarageYrBlt']</pre></div></div></div><div class=\"sk-serial\"><div class=\"sk-item\"><div class=\"sk-serial\"><div class=\"sk-item\"><div class=\"sk-estimator sk-toggleable\"><input class=\"sk-toggleable__control sk-hidden--visually\" id=\"e447efe7-a52e-43e3-969b-d61054fc0ccf\" type=\"checkbox\" ><label class=\"sk-toggleable__label\" for=\"e447efe7-a52e-43e3-969b-d61054fc0ccf\">SimpleImputer</label><div class=\"sk-toggleable__content\"><pre>SimpleImputer()</pre></div></div></div><div class=\"sk-item\"><div class=\"sk-estimator sk-toggleable\"><input class=\"sk-toggleable__control sk-hidden--visually\" id=\"8a36d6f2-6025-4af4-baaa-a7a8a3e163ef\" type=\"checkbox\" ><label class=\"sk-toggleable__label\" for=\"8a36d6f2-6025-4af4-baaa-a7a8a3e163ef\">MinMaxScaler</label><div class=\"sk-toggleable__content\"><pre>MinMaxScaler()</pre></div></div></div></div></div></div></div></div><div class=\"sk-parallel-item\"><div class=\"sk-item\"><div class=\"sk-label-container\"><div class=\"sk-label sk-toggleable\"><input class=\"sk-toggleable__control sk-hidden--visually\" id=\"77bea3ef-4993-4adb-85eb-670394882902\" type=\"checkbox\" ><label class=\"sk-toggleable__label\" for=\"77bea3ef-4993-4adb-85eb-670394882902\">cat_transformer</label><div class=\"sk-toggleable__content\"><pre>['BsmtFinType2', 'Heating', 'RoofStyle', 'SaleCondition', 'BsmtFinType1', 'GarageType', 'Foundation', 'Electrical', 'FireplaceQu', 'HeatingQC', 'GarageQual', 'GarageCond', 'MSZoning', 'LotConfig', 'ExterCond', 'BldgType', 'BsmtExposure', 'MiscFeature', 'Fence', 'LotShape', 'LandContour', 'BsmtCond', 'KitchenQual', 'MasVnrType', 'ExterQual', 'BsmtQual', 'LandSlope', 'GarageFinish', 'PavedDrive', 'PoolQC', 'Utilities', 'CentralAir', 'Street', 'Alley']</pre></div></div></div><div class=\"sk-serial\"><div class=\"sk-item\"><div class=\"sk-serial\"><div class=\"sk-item\"><div class=\"sk-estimator sk-toggleable\"><input class=\"sk-toggleable__control sk-hidden--visually\" id=\"753b76e9-ab95-41a3-aa26-167f22c6e457\" type=\"checkbox\" ><label class=\"sk-toggleable__label\" for=\"753b76e9-ab95-41a3-aa26-167f22c6e457\">SimpleImputer</label><div class=\"sk-toggleable__content\"><pre>SimpleImputer(strategy='most_frequent')</pre></div></div></div><div class=\"sk-item\"><div class=\"sk-estimator sk-toggleable\"><input class=\"sk-toggleable__control sk-hidden--visually\" id=\"fceeb7a7-3acb-4f0c-9fc5-f756d479d82c\" type=\"checkbox\" ><label class=\"sk-toggleable__label\" for=\"fceeb7a7-3acb-4f0c-9fc5-f756d479d82c\">OneHotEncoder</label><div class=\"sk-toggleable__content\"><pre>OneHotEncoder(handle_unknown='ignore', sparse=False)</pre></div></div></div></div></div></div></div></div></div></div><div class=\"sk-item\"><div class=\"sk-estimator sk-toggleable\"><input class=\"sk-toggleable__control sk-hidden--visually\" id=\"fa3bb7f9-ccb5-4941-9987-9db72a16e02d\" type=\"checkbox\" ><label class=\"sk-toggleable__label\" for=\"fa3bb7f9-ccb5-4941-9987-9db72a16e02d\">Ridge</label><div class=\"sk-toggleable__content\"><pre>Ridge()</pre></div></div></div></div></div></div></div>"
      ],
      "text/plain": [
       "Pipeline(memory='/tmp/tmp4dt566r5',\n",
       "         steps=[('transformer',\n",
       "                 ColumnTransformer(transformers=[('num_transformer',\n",
       "                                                  Pipeline(memory='/tmp/tmp4dt566r5',\n",
       "                                                           steps=[('num_imputer',\n",
       "                                                                   SimpleImputer()),\n",
       "                                                                  ('num_scaler',\n",
       "                                                                   MinMaxScaler())]),\n",
       "                                                  ['Id', 'MSSubClass',\n",
       "                                                   'LotArea', 'OverallQual',\n",
       "                                                   'OverallCond', 'YearBuilt',\n",
       "                                                   'YearRemodAdd', 'BsmtFinSF1',\n",
       "                                                   'BsmtFinSF2', 'BsmtUnfSF',\n",
       "                                                   'TotalBsmtSF',...\n",
       "                                                   'BsmtFinType1', 'GarageType',\n",
       "                                                   'Foundation', 'Electrical',\n",
       "                                                   'FireplaceQu', 'HeatingQC',\n",
       "                                                   'GarageQual', 'GarageCond',\n",
       "                                                   'MSZoning', 'LotConfig',\n",
       "                                                   'ExterCond', 'BldgType',\n",
       "                                                   'BsmtExposure',\n",
       "                                                   'MiscFeature', 'Fence',\n",
       "                                                   'LotShape', 'LandContour',\n",
       "                                                   'BsmtCond', 'KitchenQual',\n",
       "                                                   'MasVnrType', 'ExterQual',\n",
       "                                                   'BsmtQual', 'LandSlope',\n",
       "                                                   'GarageFinish', 'PavedDrive',\n",
       "                                                   'PoolQC', ...])])),\n",
       "                ('regressor', Ridge())])"
      ]
     },
     "execution_count": 12,
     "metadata": {},
     "output_type": "execute_result"
    }
   ],
   "source": [
    "pipe_baseline = Pipeline([ ('transformer', preproc_baseline),('regressor', Ridge()) ],\n",
    "                         memory = cachedir)\n",
    "pipe_baseline"
   ]
  },
  {
   "cell_type": "code",
   "execution_count": 153,
   "metadata": {
    "hidden": true
   },
   "outputs": [
    {
     "name": "stdout",
     "output_type": "stream",
     "text": [
      "---------------------------------------------------\n",
      " rmsle score for the baseline= 0.16632066236540652\n",
      "---------------------------------------------------\n"
     ]
    }
   ],
   "source": [
    "cv_results = cross_validate(pipe_baseline, X_train, y_train, cv=5, scoring=rmsle_neg)\n",
    "\n",
    "rmtree(cachedir)\n",
    "\n",
    "score_baseline = - cv_results['test_score'].mean()\n",
    "\n",
    "print(\"---------------------------------------------------\")\n",
    "print(f\" rmsle score for the baseline= {score_baseline}\")\n",
    "print(\"---------------------------------------------------\")"
   ]
  },
  {
   "cell_type": "markdown",
   "metadata": {
    "heading_collapsed": true
   },
   "source": [
    "## Predict baseline\n",
    "\n",
    "- Predict `y_pred_baseline` from the Kaggle `test.csv` dataset you stored in the `data` folder.\n",
    "- Finally, store your CSV ready to be submitted as `submission_baseline.csv` in the `data` folder. Read carefully the Kaggle required format and test it below (you don't need to submit this baseline online for now).\n",
    "\n",
    ">**Submission File Format**: The file should contain a header and have the following format:\n",
    ">\n",
    ">|Id|SalePrice|\n",
    ">| :- |---|\n",
    ">|1461|169000.1|\n",
    ">|1462|187724.1233|\n",
    ">|1463|175221|\n",
    ">|etc.|etc.|"
   ]
  },
  {
   "cell_type": "markdown",
   "metadata": {
    "ExecuteTime": {
     "end_time": "2021-02-03T08:29:58.984163Z",
     "start_time": "2021-02-03T08:29:58.586080Z"
    },
    "hidden": true
   },
   "source": [
    "You can use this direct download link if you don't want to create a Kaggle account\n",
    "- X_test = pd.read_csv(\"https://wagon-public-datasets.s3.amazonaws.com/houses_test_raw.csv\")"
   ]
  },
  {
   "cell_type": "code",
   "execution_count": 14,
   "metadata": {
    "hidden": true
   },
   "outputs": [
    {
     "data": {
      "text/html": [
       "<div>\n",
       "<style scoped>\n",
       "    .dataframe tbody tr th:only-of-type {\n",
       "        vertical-align: middle;\n",
       "    }\n",
       "\n",
       "    .dataframe tbody tr th {\n",
       "        vertical-align: top;\n",
       "    }\n",
       "\n",
       "    .dataframe thead th {\n",
       "        text-align: right;\n",
       "    }\n",
       "</style>\n",
       "<table border=\"1\" class=\"dataframe\">\n",
       "  <thead>\n",
       "    <tr style=\"text-align: right;\">\n",
       "      <th></th>\n",
       "      <th>SalePrice</th>\n",
       "      <th>Id</th>\n",
       "    </tr>\n",
       "  </thead>\n",
       "  <tbody>\n",
       "    <tr>\n",
       "      <th>0</th>\n",
       "      <td>112477.540571</td>\n",
       "      <td>1461</td>\n",
       "    </tr>\n",
       "    <tr>\n",
       "      <th>1</th>\n",
       "      <td>135486.397394</td>\n",
       "      <td>1462</td>\n",
       "    </tr>\n",
       "    <tr>\n",
       "      <th>2</th>\n",
       "      <td>173832.726703</td>\n",
       "      <td>1463</td>\n",
       "    </tr>\n",
       "    <tr>\n",
       "      <th>3</th>\n",
       "      <td>189339.042316</td>\n",
       "      <td>1464</td>\n",
       "    </tr>\n",
       "    <tr>\n",
       "      <th>4</th>\n",
       "      <td>186263.296279</td>\n",
       "      <td>1465</td>\n",
       "    </tr>\n",
       "  </tbody>\n",
       "</table>\n",
       "</div>"
      ],
      "text/plain": [
       "       SalePrice    Id\n",
       "0  112477.540571  1461\n",
       "1  135486.397394  1462\n",
       "2  173832.726703  1463\n",
       "3  189339.042316  1464\n",
       "4  186263.296279  1465"
      ]
     },
     "execution_count": 14,
     "metadata": {},
     "output_type": "execute_result"
    }
   ],
   "source": [
    "# Let's fit with the whole training data set\n",
    "\n",
    "pipe_baseline.fit(X_train, y_train)\n",
    "rmtree(cachedir)\n",
    "\n",
    "# Let's create a dataframe with the predictions for the test data set\n",
    "\n",
    "y_pred_baseline = pd.DataFrame(pipe_baseline.predict(X_test)).rename(columns={0:'SalePrice'})\n",
    "y_pred_baseline[\"Id\"] = X_test[\"Id\"]\n",
    "y_pred_baseline.head()"
   ]
  },
  {
   "cell_type": "code",
   "execution_count": 15,
   "metadata": {
    "hidden": true
   },
   "outputs": [],
   "source": [
    "# df.to_csv(\"./data/submission_baseline.csv\",index=False,columns=columns_to_write,mode=\"w\")\n",
    "\n",
    "columns_to_write = [\"Id\",\"SalePrice\"]\n",
    "file_name = \"./data/submission_baseline.csv\"\n",
    "\n",
    "csv_ready_to_submit (y_pred_baseline, columns_to_write, file_name)"
   ]
  },
  {
   "cell_type": "markdown",
   "metadata": {
    "hidden": true
   },
   "source": [
    "🧪 Test your code"
   ]
  },
  {
   "cell_type": "code",
   "execution_count": 16,
   "metadata": {
    "ExecuteTime": {
     "end_time": "2021-02-03T08:30:06.294037Z",
     "start_time": "2021-02-03T08:30:05.002420Z"
    },
    "hidden": true
   },
   "outputs": [
    {
     "name": "stdout",
     "output_type": "stream",
     "text": [
      "\u001b[1m============================= test session starts ==============================\u001b[0m\n",
      "platform linux -- Python 3.8.6, pytest-6.2.1, py-1.10.0, pluggy-0.13.1 -- /home/jm/.pyenv/versions/3.8.6/envs/lewagon/bin/python3.8\n",
      "cachedir: .pytest_cache\n",
      "rootdir: /home/jm/code/JPDZ67/data-challenges/05-ML/07-Ensemble-Methods/01-Houses-Kaggle-Competition\n",
      "plugins: anyio-2.0.2\n",
      "\u001b[1mcollecting ... \u001b[0mcollected 4 items\n",
      "\n",
      "tests/test_submission_baseline.py::TestSubmissionBaseline::test_score_baseline \u001b[32mPASSED\u001b[0m\u001b[32m [ 25%]\u001b[0m\n",
      "tests/test_submission_baseline.py::TestSubmissionBaseline::test_submission_columns \u001b[32mPASSED\u001b[0m\u001b[32m [ 50%]\u001b[0m\n",
      "tests/test_submission_baseline.py::TestSubmissionBaseline::test_submission_dtypes \u001b[32mPASSED\u001b[0m\u001b[32m [ 75%]\u001b[0m\n",
      "tests/test_submission_baseline.py::TestSubmissionBaseline::test_submission_shape \u001b[32mPASSED\u001b[0m\u001b[32m [100%]\u001b[0m\n",
      "\n",
      "\u001b[32m============================== \u001b[32m\u001b[1m4 passed\u001b[0m\u001b[32m in 0.11s\u001b[0m\u001b[32m ===============================\u001b[0m\n",
      "\n",
      "\n",
      "💯 You can commit your code:\n",
      "\n",
      "\u001b[1;32mgit\u001b[39m add tests/submission_baseline.pickle\n",
      "\n",
      "\u001b[32mgit\u001b[39m commit -m \u001b[33m'Completed submission_baseline step'\u001b[39m\n",
      "\n",
      "\u001b[32mgit\u001b[39m push origin master\n"
     ]
    }
   ],
   "source": [
    "from nbresult import ChallengeResult\n",
    "tmp = pd.read_csv(\"data/submission_baseline.csv\")\n",
    "result = ChallengeResult('submission_baseline',\n",
    "    score_baseline = score_baseline,\n",
    "    submission_shape = tmp.shape,\n",
    "    submission_columns = list(tmp.columns),\n",
    "    submission_dtypes = str(list(tmp.dtypes)),\n",
    ")\n",
    "result.write()\n",
    "print(result.check())"
   ]
  },
  {
   "cell_type": "markdown",
   "metadata": {},
   "source": [
    "# 🏋️‍♀️ ITERATIONS\n",
    "\n",
    "- Preprocessing data\n",
    "- Models iteration\n",
    ">- Ridge\n",
    ">- SVR, AdaBoost(SVR)\n",
    ">- Decision Tree Regression\n",
    ">- AdaBoost (DecisionTreeRegressor)\n",
    ">- GradientBoostingRegressor\n",
    ">- xgboost\n",
    "- Make the prediction with VotingRegressor ( stacking all the models with different weights )"
   ]
  },
  {
   "cell_type": "markdown",
   "metadata": {},
   "source": [
    "## Preprocessing: \"preproc_iteration_2\"\n",
    "\n",
    "**Features**\n",
    ">- Excluding 5 features with 40% or more of nan values\n",
    ">- Ordinal encoding of 16 categorical features\n",
    ">- OHE of 13 categorical features\n",
    ">- Statistical Feature Selection  *\"SelectPercentile(score_func= mutual_info_regression, percentile=80)\"*\n",
    "\n",
    "**Target**\n",
    ">- We transform our target to directly predict its log.\n",
    ">- Normally distributed variables should be easier to predict with linear models.\n",
    "\n"
   ]
  },
  {
   "cell_type": "markdown",
   "metadata": {
    "heading_collapsed": true
   },
   "source": [
    "### Excluding features with 40% or more of nan values\n",
    "\n",
    ">- Features with at least 40.0% of null values: ['PoolQC', 'MiscFeature', 'Alley', 'Fence', 'FireplaceQu']\n",
    ">- Delta score vs baseline = 0.0020853932834377364\n"
   ]
  },
  {
   "cell_type": "code",
   "execution_count": 17,
   "metadata": {
    "hidden": true
   },
   "outputs": [
    {
     "name": "stdout",
     "output_type": "stream",
     "text": [
      "Features with at least 40.0% of null values:\n",
      "['PoolQC', 'MiscFeature', 'Alley', 'Fence', 'FireplaceQu']\n"
     ]
    }
   ],
   "source": [
    "# features_too_nulls = List of features with 40% or more of nan values\n",
    "\n",
    "NAN_THRESHOLD = 0.4\n",
    "\n",
    "df_tmp = pd.DataFrame(data_train.isnull().sum().sort_values(ascending=False)/len(data_train))\n",
    "features_too_nulls = list(df_tmp [df_tmp >= NAN_THRESHOLD].dropna().index)\n",
    "\n",
    "print(f\"Features with at least {NAN_THRESHOLD*100}% of null values:\\n{features_too_nulls}\")"
   ]
  },
  {
   "cell_type": "code",
   "execution_count": 19,
   "metadata": {
    "hidden": true
   },
   "outputs": [
    {
     "name": "stdout",
     "output_type": "stream",
     "text": [
      "Number of features = 66\n",
      "X_train_1.shape (1460, 66), y_train_1.shape (1460,),X_test_1.shape (1459, 66)\n",
      "Categorical    29\n",
      "Integer        34\n",
      "Float           3\n",
      "dtype: int64\n"
     ]
    }
   ],
   "source": [
    "# Initializing X, y with training and test data sets excluding the list of features_nulls and feat_categorical_large_base\n",
    "#   X_train, y_train for training\n",
    "#   X_test for testing the performance of the model\n",
    "#   features_too_nulls = List of features with 50% or more of nan values\n",
    "#   feat_categorical_large_base = features with more than 6 unique values\n",
    "\n",
    "target = 'SalePrice'\n",
    "feat_to_be_excluded = feat_categorical_large_base + features_too_nulls\n",
    "\n",
    "features_iter_1 = select_features (data_train, target, feat_to_be_excluded )\n",
    "\n",
    "X_train_1, y_train_1, X_test_1 = initialize_X_y(data_train, data_test, target, features_iter_1)\n",
    "\n",
    "# Building list of columns to be transformed according to dtypes and exclusion rules \n",
    "#   X_train_1, y_train_1 for training iteration 1\n",
    "#   X_test_1 for testing the performance of the model iteration 1\n",
    "\n",
    "print(f\"X_train_1.shape {X_train_1.shape}, y_train_1.shape {y_train_1.shape},\\\n",
    "X_test_1.shape {X_test_1.shape}\")\n",
    "\n",
    "cat_features_1, int_features_1, float_features_1 = explore_dtypes (X_train_1)\n",
    "num_features_1 = int_features_1 + float_features_1"
   ]
  },
  {
   "cell_type": "code",
   "execution_count": 23,
   "metadata": {
    "hidden": true
   },
   "outputs": [
    {
     "data": {
      "text/html": [
       "<style>div.sk-top-container {color: black;background-color: white;}div.sk-toggleable {background-color: white;}label.sk-toggleable__label {cursor: pointer;display: block;width: 100%;margin-bottom: 0;padding: 0.2em 0.3em;box-sizing: border-box;text-align: center;}div.sk-toggleable__content {max-height: 0;max-width: 0;overflow: hidden;text-align: left;background-color: #f0f8ff;}div.sk-toggleable__content pre {margin: 0.2em;color: black;border-radius: 0.25em;background-color: #f0f8ff;}input.sk-toggleable__control:checked~div.sk-toggleable__content {max-height: 200px;max-width: 100%;overflow: auto;}div.sk-estimator input.sk-toggleable__control:checked~label.sk-toggleable__label {background-color: #d4ebff;}div.sk-label input.sk-toggleable__control:checked~label.sk-toggleable__label {background-color: #d4ebff;}input.sk-hidden--visually {border: 0;clip: rect(1px 1px 1px 1px);clip: rect(1px, 1px, 1px, 1px);height: 1px;margin: -1px;overflow: hidden;padding: 0;position: absolute;width: 1px;}div.sk-estimator {font-family: monospace;background-color: #f0f8ff;margin: 0.25em 0.25em;border: 1px dotted black;border-radius: 0.25em;box-sizing: border-box;}div.sk-estimator:hover {background-color: #d4ebff;}div.sk-parallel-item::after {content: \"\";width: 100%;border-bottom: 1px solid gray;flex-grow: 1;}div.sk-label:hover label.sk-toggleable__label {background-color: #d4ebff;}div.sk-serial::before {content: \"\";position: absolute;border-left: 1px solid gray;box-sizing: border-box;top: 2em;bottom: 0;left: 50%;}div.sk-serial {display: flex;flex-direction: column;align-items: center;background-color: white;}div.sk-item {z-index: 1;}div.sk-parallel {display: flex;align-items: stretch;justify-content: center;background-color: white;}div.sk-parallel-item {display: flex;flex-direction: column;position: relative;background-color: white;}div.sk-parallel-item:first-child::after {align-self: flex-end;width: 50%;}div.sk-parallel-item:last-child::after {align-self: flex-start;width: 50%;}div.sk-parallel-item:only-child::after {width: 0;}div.sk-dashed-wrapped {border: 1px dashed gray;margin: 0.2em;box-sizing: border-box;padding-bottom: 0.1em;background-color: white;position: relative;}div.sk-label label {font-family: monospace;font-weight: bold;background-color: white;display: inline-block;line-height: 1.2em;}div.sk-label-container {position: relative;z-index: 2;text-align: center;}div.sk-container {display: inline-block;position: relative;}</style><div class=\"sk-top-container\"><div class=\"sk-container\"><div class=\"sk-item sk-dashed-wrapped\"><div class=\"sk-label-container\"><div class=\"sk-label sk-toggleable\"><input class=\"sk-toggleable__control sk-hidden--visually\" id=\"0ac9589c-7a48-4b1b-855e-46d4c5d02488\" type=\"checkbox\" ><label class=\"sk-toggleable__label\" for=\"0ac9589c-7a48-4b1b-855e-46d4c5d02488\">ColumnTransformer</label><div class=\"sk-toggleable__content\"><pre>ColumnTransformer(transformers=[('num_transformer',\n",
       "                                 Pipeline(memory='/tmp/tmp4dt566r5',\n",
       "                                          steps=[('num_imputer',\n",
       "                                                  SimpleImputer()),\n",
       "                                                 ('num_scaler',\n",
       "                                                  MinMaxScaler())]),\n",
       "                                 ['Id', 'MSSubClass', 'LotArea', 'OverallQual',\n",
       "                                  'OverallCond', 'YearBuilt', 'YearRemodAdd',\n",
       "                                  'BsmtFinSF1', 'BsmtFinSF2', 'BsmtUnfSF',\n",
       "                                  'TotalBsmtSF', '1stFlrSF', '2ndFlrSF',\n",
       "                                  'LowQualFinSF', 'GrLivArea', 'BsmtFul...\n",
       "                                 ['MSZoning', 'Street', 'LotShape',\n",
       "                                  'LandContour', 'Utilities', 'LotConfig',\n",
       "                                  'LandSlope', 'BldgType', 'RoofStyle',\n",
       "                                  'MasVnrType', 'ExterQual', 'ExterCond',\n",
       "                                  'Foundation', 'BsmtQual', 'BsmtCond',\n",
       "                                  'BsmtExposure', 'BsmtFinType1',\n",
       "                                  'BsmtFinType2', 'Heating', 'HeatingQC',\n",
       "                                  'CentralAir', 'Electrical', 'KitchenQual',\n",
       "                                  'GarageType', 'GarageFinish', 'GarageQual',\n",
       "                                  'GarageCond', 'PavedDrive',\n",
       "                                  'SaleCondition'])])</pre></div></div></div><div class=\"sk-parallel\"><div class=\"sk-parallel-item\"><div class=\"sk-item\"><div class=\"sk-label-container\"><div class=\"sk-label sk-toggleable\"><input class=\"sk-toggleable__control sk-hidden--visually\" id=\"2b4b38f4-e905-4f50-995f-87e8637f43c8\" type=\"checkbox\" ><label class=\"sk-toggleable__label\" for=\"2b4b38f4-e905-4f50-995f-87e8637f43c8\">num_transformer</label><div class=\"sk-toggleable__content\"><pre>['Id', 'MSSubClass', 'LotArea', 'OverallQual', 'OverallCond', 'YearBuilt', 'YearRemodAdd', 'BsmtFinSF1', 'BsmtFinSF2', 'BsmtUnfSF', 'TotalBsmtSF', '1stFlrSF', '2ndFlrSF', 'LowQualFinSF', 'GrLivArea', 'BsmtFullBath', 'BsmtHalfBath', 'FullBath', 'HalfBath', 'BedroomAbvGr', 'KitchenAbvGr', 'TotRmsAbvGrd', 'Fireplaces', 'GarageCars', 'GarageArea', 'WoodDeckSF', 'OpenPorchSF', 'EnclosedPorch', '3SsnPorch', 'ScreenPorch', 'PoolArea', 'MiscVal', 'MoSold', 'YrSold', 'LotFrontage', 'MasVnrArea', 'GarageYrBlt']</pre></div></div></div><div class=\"sk-serial\"><div class=\"sk-item\"><div class=\"sk-serial\"><div class=\"sk-item\"><div class=\"sk-estimator sk-toggleable\"><input class=\"sk-toggleable__control sk-hidden--visually\" id=\"e6daaac7-dd31-48d6-b5ce-d891cb1687b5\" type=\"checkbox\" ><label class=\"sk-toggleable__label\" for=\"e6daaac7-dd31-48d6-b5ce-d891cb1687b5\">SimpleImputer</label><div class=\"sk-toggleable__content\"><pre>SimpleImputer()</pre></div></div></div><div class=\"sk-item\"><div class=\"sk-estimator sk-toggleable\"><input class=\"sk-toggleable__control sk-hidden--visually\" id=\"bbf0b8f3-7c06-4577-b764-3241961dd690\" type=\"checkbox\" ><label class=\"sk-toggleable__label\" for=\"bbf0b8f3-7c06-4577-b764-3241961dd690\">MinMaxScaler</label><div class=\"sk-toggleable__content\"><pre>MinMaxScaler()</pre></div></div></div></div></div></div></div></div><div class=\"sk-parallel-item\"><div class=\"sk-item\"><div class=\"sk-label-container\"><div class=\"sk-label sk-toggleable\"><input class=\"sk-toggleable__control sk-hidden--visually\" id=\"d756a5db-db54-41a5-af18-35b347155742\" type=\"checkbox\" ><label class=\"sk-toggleable__label\" for=\"d756a5db-db54-41a5-af18-35b347155742\">cat_transformer</label><div class=\"sk-toggleable__content\"><pre>['MSZoning', 'Street', 'LotShape', 'LandContour', 'Utilities', 'LotConfig', 'LandSlope', 'BldgType', 'RoofStyle', 'MasVnrType', 'ExterQual', 'ExterCond', 'Foundation', 'BsmtQual', 'BsmtCond', 'BsmtExposure', 'BsmtFinType1', 'BsmtFinType2', 'Heating', 'HeatingQC', 'CentralAir', 'Electrical', 'KitchenQual', 'GarageType', 'GarageFinish', 'GarageQual', 'GarageCond', 'PavedDrive', 'SaleCondition']</pre></div></div></div><div class=\"sk-serial\"><div class=\"sk-item\"><div class=\"sk-serial\"><div class=\"sk-item\"><div class=\"sk-estimator sk-toggleable\"><input class=\"sk-toggleable__control sk-hidden--visually\" id=\"ee454d19-cce3-4268-bd6b-a1c35cac8066\" type=\"checkbox\" ><label class=\"sk-toggleable__label\" for=\"ee454d19-cce3-4268-bd6b-a1c35cac8066\">SimpleImputer</label><div class=\"sk-toggleable__content\"><pre>SimpleImputer(strategy='most_frequent')</pre></div></div></div><div class=\"sk-item\"><div class=\"sk-estimator sk-toggleable\"><input class=\"sk-toggleable__control sk-hidden--visually\" id=\"790c3566-7fb3-446f-9e37-52f1973cb163\" type=\"checkbox\" ><label class=\"sk-toggleable__label\" for=\"790c3566-7fb3-446f-9e37-52f1973cb163\">OneHotEncoder</label><div class=\"sk-toggleable__content\"><pre>OneHotEncoder(handle_unknown='ignore', sparse=False)</pre></div></div></div></div></div></div></div></div></div></div></div></div>"
      ],
      "text/plain": [
       "ColumnTransformer(transformers=[('num_transformer',\n",
       "                                 Pipeline(memory='/tmp/tmp4dt566r5',\n",
       "                                          steps=[('num_imputer',\n",
       "                                                  SimpleImputer()),\n",
       "                                                 ('num_scaler',\n",
       "                                                  MinMaxScaler())]),\n",
       "                                 ['Id', 'MSSubClass', 'LotArea', 'OverallQual',\n",
       "                                  'OverallCond', 'YearBuilt', 'YearRemodAdd',\n",
       "                                  'BsmtFinSF1', 'BsmtFinSF2', 'BsmtUnfSF',\n",
       "                                  'TotalBsmtSF', '1stFlrSF', '2ndFlrSF',\n",
       "                                  'LowQualFinSF', 'GrLivArea', 'BsmtFul...\n",
       "                                 ['MSZoning', 'Street', 'LotShape',\n",
       "                                  'LandContour', 'Utilities', 'LotConfig',\n",
       "                                  'LandSlope', 'BldgType', 'RoofStyle',\n",
       "                                  'MasVnrType', 'ExterQual', 'ExterCond',\n",
       "                                  'Foundation', 'BsmtQual', 'BsmtCond',\n",
       "                                  'BsmtExposure', 'BsmtFinType1',\n",
       "                                  'BsmtFinType2', 'Heating', 'HeatingQC',\n",
       "                                  'CentralAir', 'Electrical', 'KitchenQual',\n",
       "                                  'GarageType', 'GarageFinish', 'GarageQual',\n",
       "                                  'GarageCond', 'PavedDrive',\n",
       "                                  'SaleCondition'])])"
      ]
     },
     "execution_count": 23,
     "metadata": {},
     "output_type": "execute_result"
    }
   ],
   "source": [
    "# Numerical features: Simple-Impute with strategy 'mean' and Min-Max Scale\n",
    "\n",
    "num_transform_pipe_1 = Pipeline([ ('num_imputer', SimpleImputer(strategy=\"mean\")),\n",
    "                                ('num_scaler', MinMaxScaler()) ],\n",
    "                               memory=cachedir)\n",
    "\n",
    "# Categorical features: Simple-Impute with most frequent values and OHE \"feat_categorical_small\"\n",
    "\n",
    "cat_transform_pipe_1 = Pipeline([ ('cat_imputer', SimpleImputer(strategy=\"most_frequent\")),\n",
    "                                  ('cat_transformer', OneHotEncoder(handle_unknown='ignore',sparse=False)) ],\n",
    "                                  memory=cachedir)\n",
    "\n",
    "# For categorical features OHE only if they have less than 7 unique values, otherwise drop them\n",
    "\n",
    "preproc_iteration_1 = ColumnTransformer( [ ('num_transformer', num_transform_pipe_1, num_features_1),\n",
    "                                           ('cat_transformer', cat_transform_pipe_1, cat_features_1)])\n",
    "\n",
    "preproc_iteration_1"
   ]
  },
  {
   "cell_type": "code",
   "execution_count": 24,
   "metadata": {
    "hidden": true
   },
   "outputs": [
    {
     "data": {
      "text/html": [
       "<style>div.sk-top-container {color: black;background-color: white;}div.sk-toggleable {background-color: white;}label.sk-toggleable__label {cursor: pointer;display: block;width: 100%;margin-bottom: 0;padding: 0.2em 0.3em;box-sizing: border-box;text-align: center;}div.sk-toggleable__content {max-height: 0;max-width: 0;overflow: hidden;text-align: left;background-color: #f0f8ff;}div.sk-toggleable__content pre {margin: 0.2em;color: black;border-radius: 0.25em;background-color: #f0f8ff;}input.sk-toggleable__control:checked~div.sk-toggleable__content {max-height: 200px;max-width: 100%;overflow: auto;}div.sk-estimator input.sk-toggleable__control:checked~label.sk-toggleable__label {background-color: #d4ebff;}div.sk-label input.sk-toggleable__control:checked~label.sk-toggleable__label {background-color: #d4ebff;}input.sk-hidden--visually {border: 0;clip: rect(1px 1px 1px 1px);clip: rect(1px, 1px, 1px, 1px);height: 1px;margin: -1px;overflow: hidden;padding: 0;position: absolute;width: 1px;}div.sk-estimator {font-family: monospace;background-color: #f0f8ff;margin: 0.25em 0.25em;border: 1px dotted black;border-radius: 0.25em;box-sizing: border-box;}div.sk-estimator:hover {background-color: #d4ebff;}div.sk-parallel-item::after {content: \"\";width: 100%;border-bottom: 1px solid gray;flex-grow: 1;}div.sk-label:hover label.sk-toggleable__label {background-color: #d4ebff;}div.sk-serial::before {content: \"\";position: absolute;border-left: 1px solid gray;box-sizing: border-box;top: 2em;bottom: 0;left: 50%;}div.sk-serial {display: flex;flex-direction: column;align-items: center;background-color: white;}div.sk-item {z-index: 1;}div.sk-parallel {display: flex;align-items: stretch;justify-content: center;background-color: white;}div.sk-parallel-item {display: flex;flex-direction: column;position: relative;background-color: white;}div.sk-parallel-item:first-child::after {align-self: flex-end;width: 50%;}div.sk-parallel-item:last-child::after {align-self: flex-start;width: 50%;}div.sk-parallel-item:only-child::after {width: 0;}div.sk-dashed-wrapped {border: 1px dashed gray;margin: 0.2em;box-sizing: border-box;padding-bottom: 0.1em;background-color: white;position: relative;}div.sk-label label {font-family: monospace;font-weight: bold;background-color: white;display: inline-block;line-height: 1.2em;}div.sk-label-container {position: relative;z-index: 2;text-align: center;}div.sk-container {display: inline-block;position: relative;}</style><div class=\"sk-top-container\"><div class=\"sk-container\"><div class=\"sk-item sk-dashed-wrapped\"><div class=\"sk-label-container\"><div class=\"sk-label sk-toggleable\"><input class=\"sk-toggleable__control sk-hidden--visually\" id=\"d1fede58-d390-42f2-84c7-5f730071e9bd\" type=\"checkbox\" ><label class=\"sk-toggleable__label\" for=\"d1fede58-d390-42f2-84c7-5f730071e9bd\">Pipeline</label><div class=\"sk-toggleable__content\"><pre>Pipeline(memory='/tmp/tmp4dt566r5',\n",
       "         steps=[('transformer',\n",
       "                 ColumnTransformer(transformers=[('num_transformer',\n",
       "                                                  Pipeline(memory='/tmp/tmp4dt566r5',\n",
       "                                                           steps=[('num_imputer',\n",
       "                                                                   SimpleImputer()),\n",
       "                                                                  ('num_scaler',\n",
       "                                                                   MinMaxScaler())]),\n",
       "                                                  ['Id', 'MSSubClass',\n",
       "                                                   'LotArea', 'OverallQual',\n",
       "                                                   'OverallCond', 'YearBuilt',\n",
       "                                                   'YearRemodAdd', 'BsmtFinSF1',\n",
       "                                                   'BsmtFinSF2', 'BsmtUnfSF',\n",
       "                                                   'TotalBsmtSF',...\n",
       "                                                   'LotShape', 'LandContour',\n",
       "                                                   'Utilities', 'LotConfig',\n",
       "                                                   'LandSlope', 'BldgType',\n",
       "                                                   'RoofStyle', 'MasVnrType',\n",
       "                                                   'ExterQual', 'ExterCond',\n",
       "                                                   'Foundation', 'BsmtQual',\n",
       "                                                   'BsmtCond', 'BsmtExposure',\n",
       "                                                   'BsmtFinType1',\n",
       "                                                   'BsmtFinType2', 'Heating',\n",
       "                                                   'HeatingQC', 'CentralAir',\n",
       "                                                   'Electrical', 'KitchenQual',\n",
       "                                                   'GarageType', 'GarageFinish',\n",
       "                                                   'GarageQual', 'GarageCond',\n",
       "                                                   'PavedDrive',\n",
       "                                                   'SaleCondition'])])),\n",
       "                ('regressor', Ridge())])</pre></div></div></div><div class=\"sk-serial\"><div class=\"sk-item sk-dashed-wrapped\"><div class=\"sk-label-container\"><div class=\"sk-label sk-toggleable\"><input class=\"sk-toggleable__control sk-hidden--visually\" id=\"4be0e08b-f850-466f-86c8-f93dfd549798\" type=\"checkbox\" ><label class=\"sk-toggleable__label\" for=\"4be0e08b-f850-466f-86c8-f93dfd549798\">transformer: ColumnTransformer</label><div class=\"sk-toggleable__content\"><pre>ColumnTransformer(transformers=[('num_transformer',\n",
       "                                 Pipeline(memory='/tmp/tmp4dt566r5',\n",
       "                                          steps=[('num_imputer',\n",
       "                                                  SimpleImputer()),\n",
       "                                                 ('num_scaler',\n",
       "                                                  MinMaxScaler())]),\n",
       "                                 ['Id', 'MSSubClass', 'LotArea', 'OverallQual',\n",
       "                                  'OverallCond', 'YearBuilt', 'YearRemodAdd',\n",
       "                                  'BsmtFinSF1', 'BsmtFinSF2', 'BsmtUnfSF',\n",
       "                                  'TotalBsmtSF', '1stFlrSF', '2ndFlrSF',\n",
       "                                  'LowQualFinSF', 'GrLivArea', 'BsmtFul...\n",
       "                                 ['MSZoning', 'Street', 'LotShape',\n",
       "                                  'LandContour', 'Utilities', 'LotConfig',\n",
       "                                  'LandSlope', 'BldgType', 'RoofStyle',\n",
       "                                  'MasVnrType', 'ExterQual', 'ExterCond',\n",
       "                                  'Foundation', 'BsmtQual', 'BsmtCond',\n",
       "                                  'BsmtExposure', 'BsmtFinType1',\n",
       "                                  'BsmtFinType2', 'Heating', 'HeatingQC',\n",
       "                                  'CentralAir', 'Electrical', 'KitchenQual',\n",
       "                                  'GarageType', 'GarageFinish', 'GarageQual',\n",
       "                                  'GarageCond', 'PavedDrive',\n",
       "                                  'SaleCondition'])])</pre></div></div></div><div class=\"sk-parallel\"><div class=\"sk-parallel-item\"><div class=\"sk-item\"><div class=\"sk-label-container\"><div class=\"sk-label sk-toggleable\"><input class=\"sk-toggleable__control sk-hidden--visually\" id=\"5bc7abd3-81fc-4afb-acf2-3eb51412106b\" type=\"checkbox\" ><label class=\"sk-toggleable__label\" for=\"5bc7abd3-81fc-4afb-acf2-3eb51412106b\">num_transformer</label><div class=\"sk-toggleable__content\"><pre>['Id', 'MSSubClass', 'LotArea', 'OverallQual', 'OverallCond', 'YearBuilt', 'YearRemodAdd', 'BsmtFinSF1', 'BsmtFinSF2', 'BsmtUnfSF', 'TotalBsmtSF', '1stFlrSF', '2ndFlrSF', 'LowQualFinSF', 'GrLivArea', 'BsmtFullBath', 'BsmtHalfBath', 'FullBath', 'HalfBath', 'BedroomAbvGr', 'KitchenAbvGr', 'TotRmsAbvGrd', 'Fireplaces', 'GarageCars', 'GarageArea', 'WoodDeckSF', 'OpenPorchSF', 'EnclosedPorch', '3SsnPorch', 'ScreenPorch', 'PoolArea', 'MiscVal', 'MoSold', 'YrSold', 'LotFrontage', 'MasVnrArea', 'GarageYrBlt']</pre></div></div></div><div class=\"sk-serial\"><div class=\"sk-item\"><div class=\"sk-serial\"><div class=\"sk-item\"><div class=\"sk-estimator sk-toggleable\"><input class=\"sk-toggleable__control sk-hidden--visually\" id=\"bce0caa5-f70b-4d00-a682-8728b746060a\" type=\"checkbox\" ><label class=\"sk-toggleable__label\" for=\"bce0caa5-f70b-4d00-a682-8728b746060a\">SimpleImputer</label><div class=\"sk-toggleable__content\"><pre>SimpleImputer()</pre></div></div></div><div class=\"sk-item\"><div class=\"sk-estimator sk-toggleable\"><input class=\"sk-toggleable__control sk-hidden--visually\" id=\"14a36bd5-287c-456e-8cbd-f8daa7fb7982\" type=\"checkbox\" ><label class=\"sk-toggleable__label\" for=\"14a36bd5-287c-456e-8cbd-f8daa7fb7982\">MinMaxScaler</label><div class=\"sk-toggleable__content\"><pre>MinMaxScaler()</pre></div></div></div></div></div></div></div></div><div class=\"sk-parallel-item\"><div class=\"sk-item\"><div class=\"sk-label-container\"><div class=\"sk-label sk-toggleable\"><input class=\"sk-toggleable__control sk-hidden--visually\" id=\"f5c36526-97db-4231-a5f6-af09f095f7d0\" type=\"checkbox\" ><label class=\"sk-toggleable__label\" for=\"f5c36526-97db-4231-a5f6-af09f095f7d0\">cat_transformer</label><div class=\"sk-toggleable__content\"><pre>['MSZoning', 'Street', 'LotShape', 'LandContour', 'Utilities', 'LotConfig', 'LandSlope', 'BldgType', 'RoofStyle', 'MasVnrType', 'ExterQual', 'ExterCond', 'Foundation', 'BsmtQual', 'BsmtCond', 'BsmtExposure', 'BsmtFinType1', 'BsmtFinType2', 'Heating', 'HeatingQC', 'CentralAir', 'Electrical', 'KitchenQual', 'GarageType', 'GarageFinish', 'GarageQual', 'GarageCond', 'PavedDrive', 'SaleCondition']</pre></div></div></div><div class=\"sk-serial\"><div class=\"sk-item\"><div class=\"sk-serial\"><div class=\"sk-item\"><div class=\"sk-estimator sk-toggleable\"><input class=\"sk-toggleable__control sk-hidden--visually\" id=\"bb401f74-1a00-4733-a369-a8db9d9e0fa7\" type=\"checkbox\" ><label class=\"sk-toggleable__label\" for=\"bb401f74-1a00-4733-a369-a8db9d9e0fa7\">SimpleImputer</label><div class=\"sk-toggleable__content\"><pre>SimpleImputer(strategy='most_frequent')</pre></div></div></div><div class=\"sk-item\"><div class=\"sk-estimator sk-toggleable\"><input class=\"sk-toggleable__control sk-hidden--visually\" id=\"68cf7189-b860-4f1c-8ac9-1ab13c9b73d4\" type=\"checkbox\" ><label class=\"sk-toggleable__label\" for=\"68cf7189-b860-4f1c-8ac9-1ab13c9b73d4\">OneHotEncoder</label><div class=\"sk-toggleable__content\"><pre>OneHotEncoder(handle_unknown='ignore', sparse=False)</pre></div></div></div></div></div></div></div></div></div></div><div class=\"sk-item\"><div class=\"sk-estimator sk-toggleable\"><input class=\"sk-toggleable__control sk-hidden--visually\" id=\"0b1c03da-90d2-4718-9c27-c95737a3c963\" type=\"checkbox\" ><label class=\"sk-toggleable__label\" for=\"0b1c03da-90d2-4718-9c27-c95737a3c963\">Ridge</label><div class=\"sk-toggleable__content\"><pre>Ridge()</pre></div></div></div></div></div></div></div>"
      ],
      "text/plain": [
       "Pipeline(memory='/tmp/tmp4dt566r5',\n",
       "         steps=[('transformer',\n",
       "                 ColumnTransformer(transformers=[('num_transformer',\n",
       "                                                  Pipeline(memory='/tmp/tmp4dt566r5',\n",
       "                                                           steps=[('num_imputer',\n",
       "                                                                   SimpleImputer()),\n",
       "                                                                  ('num_scaler',\n",
       "                                                                   MinMaxScaler())]),\n",
       "                                                  ['Id', 'MSSubClass',\n",
       "                                                   'LotArea', 'OverallQual',\n",
       "                                                   'OverallCond', 'YearBuilt',\n",
       "                                                   'YearRemodAdd', 'BsmtFinSF1',\n",
       "                                                   'BsmtFinSF2', 'BsmtUnfSF',\n",
       "                                                   'TotalBsmtSF',...\n",
       "                                                   'LotShape', 'LandContour',\n",
       "                                                   'Utilities', 'LotConfig',\n",
       "                                                   'LandSlope', 'BldgType',\n",
       "                                                   'RoofStyle', 'MasVnrType',\n",
       "                                                   'ExterQual', 'ExterCond',\n",
       "                                                   'Foundation', 'BsmtQual',\n",
       "                                                   'BsmtCond', 'BsmtExposure',\n",
       "                                                   'BsmtFinType1',\n",
       "                                                   'BsmtFinType2', 'Heating',\n",
       "                                                   'HeatingQC', 'CentralAir',\n",
       "                                                   'Electrical', 'KitchenQual',\n",
       "                                                   'GarageType', 'GarageFinish',\n",
       "                                                   'GarageQual', 'GarageCond',\n",
       "                                                   'PavedDrive',\n",
       "                                                   'SaleCondition'])])),\n",
       "                ('regressor', Ridge())])"
      ]
     },
     "execution_count": 24,
     "metadata": {},
     "output_type": "execute_result"
    }
   ],
   "source": [
    "pipe_iteration_1 = Pipeline([ ('transformer', preproc_iteration_1),('regressor', Ridge()) ],\n",
    "                           memory=cachedir)\n",
    "pipe_iteration_1"
   ]
  },
  {
   "cell_type": "code",
   "execution_count": 25,
   "metadata": {
    "hidden": true
   },
   "outputs": [
    {
     "name": "stdout",
     "output_type": "stream",
     "text": [
      "Delta score vs baseline = 0.002578876862761731\n"
     ]
    }
   ],
   "source": [
    "cv_results_1 = cross_validate(pipe_iteration_1, X_train_1, y_train_1, cv=5, scoring=rmsle)\n",
    "\n",
    "rmtree(cachedir)\n",
    "\n",
    "score_improvement_iter1 = cv_results_1['test_score'].mean() - score_baseline\n",
    "print(f\"Delta score vs baseline = {score_improvement_iter1}\")"
   ]
  },
  {
   "cell_type": "markdown",
   "metadata": {
    "heading_collapsed": true
   },
   "source": [
    "### Encoding categorical features: \"transform_iteration_2\"\n",
    "\n",
    "- 16 categorical features to be ordinally encoded\n",
    ">['LotShape', 'LandContour', 'LandSlope', 'ExterQual', 'ExterCond', 'BsmtQual', 'BsmtCond', 'BsmtFinType1', 'BsmtFinType2', >'HeatingQC', 'KitchenQual', 'CentralAir', 'GarageQual', 'GarageCond', 'GarageFinish', 'PavedDrive']\n",
    "- 13 categorical features to be OHE\n",
    ">['MSZoning', 'Street', 'Utilities', 'LotConfig', 'BldgType', 'RoofStyle', 'MasVnrType', 'Foundation', 'BsmtExposure', 'Heating', 'Electrical', 'GarageType', 'SaleCondition']"
   ]
  },
  {
   "cell_type": "code",
   "execution_count": 167,
   "metadata": {
    "hidden": true
   },
   "outputs": [
    {
     "name": "stdout",
     "output_type": "stream",
     "text": [
      "-----------------------------------------------\n",
      "29 categorical features to be encoded\n",
      "-----------------------------------------------\n",
      "13 categorical features to be OHE\n",
      "\n",
      "['LotShape', 'LandContour', 'LandSlope', 'ExterQual', 'ExterCond', 'BsmtQual', 'BsmtCond', 'BsmtFinType1', 'BsmtFinType2', 'HeatingQC', 'KitchenQual', 'CentralAir', 'GarageQual', 'GarageCond', 'GarageFinish', 'PavedDrive']\n",
      "-----------------------------------------------\n",
      "16 categorical features to be ordinally encoded\n",
      "\n",
      "['MSZoning', 'Street', 'Utilities', 'LotConfig', 'BldgType', 'RoofStyle', 'MasVnrType', 'Foundation', 'BsmtExposure', 'Heating', 'Electrical', 'GarageType', 'SaleCondition']\n",
      "-----------------------------------------------\n"
     ]
    }
   ],
   "source": [
    "cat_ordinal_2 = [\"LotShape\",\"LandContour\",\"LandSlope\",\"ExterQual\",\"ExterCond\",\"BsmtQual\",\n",
    "                \"BsmtCond\",\"BsmtFinType1\",\"BsmtFinType2\",\"HeatingQC\",\"KitchenQual\",\n",
    "                \"CentralAir\",\"GarageQual\",\"GarageCond\",\"GarageFinish\",\"PavedDrive\"]\n",
    "\n",
    "# Define specific order to ordinally encode some categorical features\n",
    "# Ordered from worst to best in terms of quality\n",
    "\n",
    "LotShape_sorted_values = [ 'IR3' , 'IR2', 'IR1', 'Reg'] \n",
    "LandContour_sorted_values = [ 'Low' , 'HLS', 'Bnk', 'Lvl']\n",
    "LandSlope_sorted_values = [ 'Sev' , 'Mod', 'Gtl']\n",
    "ExterQual_sorted_values = [ 'Po' , 'Fa', 'TA', 'Gd', 'Ex']\n",
    "ExterCond_sorted_values = [ 'Po' , 'Fa', 'TA', 'Gd', 'Ex']\n",
    "BsmtQual_sorted_values = [ 'NA', 'Po' , 'Fa', 'TA', 'Gd', 'Ex']\n",
    "BsmtCond_sorted_values = [ 'NA', 'Po' , 'Fa', 'TA', 'Gd', 'Ex']\n",
    "BsmtFinType1_sorted_values = [ 'NA', 'Unf' , 'LwQ', 'Rec', 'BLQ', 'ALQ', 'GLQ']\n",
    "BsmtFinType2_sorted_values = [ 'NA', 'Unf' , 'LwQ', 'Rec', 'BLQ', 'ALQ', 'GLQ']\n",
    "HeatingQC_sorted_values = [ 'Po' , 'Fa', 'TA', 'Gd', 'Ex']\n",
    "KitchenQual_sorted_values = [ 'Po' , 'Fa', 'TA', 'Gd', 'Ex']\n",
    "CentralAir_sorted_values = [ 'N' , 'Y']\n",
    "GarageQual_sorted_values = [ 'NA', 'Po' , 'Fa', 'TA', 'Gd', 'Ex']\n",
    "GarageCond_sorted_values = [ 'NA', 'Po' , 'Fa', 'TA', 'Gd', 'Ex']\n",
    "GarageFinish_sorted_values = [ 'NA', 'Unf' , 'RFn', 'Fin']\n",
    "PavedDrive_sorted_values = [ 'N' , 'P', 'Y']\n",
    "\n",
    "categories_2=[LotShape_sorted_values, \n",
    "            LandContour_sorted_values,\n",
    "            LandSlope_sorted_values,\n",
    "            ExterQual_sorted_values,\n",
    "            ExterCond_sorted_values,\n",
    "            BsmtQual_sorted_values,\n",
    "            BsmtCond_sorted_values,\n",
    "            BsmtFinType1_sorted_values,\n",
    "            BsmtFinType2_sorted_values,\n",
    "            HeatingQC_sorted_values,\n",
    "            KitchenQual_sorted_values,\n",
    "            CentralAir_sorted_values,\n",
    "            GarageQual_sorted_values,\n",
    "            GarageCond_sorted_values,\n",
    "            GarageFinish_sorted_values,\n",
    "            PavedDrive_sorted_values]\n",
    "\n",
    "# Segmentation of features iteration 2\n",
    "#     num_features_2 = numerical\n",
    "#     cat_ordinal_2  = categorical to be ordinal encoding\n",
    "#     cat_OHE_2      = categorical to be One Hot Encoding\n",
    "\n",
    "num_features_2 = num_features_1\n",
    "\n",
    "cat_OHE_2 = list(pd.DataFrame(cat_features_1).set_index(0).drop(index=cat_ordinal_2).index)\n",
    "\n",
    "print(\"-----------------------------------------------\")\n",
    "print(f\"{len(cat_features_1)} categorical features to be encoded\")\n",
    "print(\"-----------------------------------------------\")\n",
    "print(f\"{len(cat_OHE_2)} categorical features to be OHE\\n\\n{cat_ordinal_2}\")\n",
    "print(\"-----------------------------------------------\")\n",
    "print(f\"{len(cat_ordinal_2)} categorical features to be ordinally encoded\\n\\n{cat_OHE_2}\")\n",
    "print(\"-----------------------------------------------\")"
   ]
  },
  {
   "cell_type": "code",
   "execution_count": 34,
   "metadata": {
    "ExecuteTime": {
     "end_time": "2021-02-02T16:11:15.997343Z",
     "start_time": "2021-02-02T16:11:15.977031Z"
    },
    "hidden": true
   },
   "outputs": [
    {
     "data": {
      "text/html": [
       "<style>div.sk-top-container {color: black;background-color: white;}div.sk-toggleable {background-color: white;}label.sk-toggleable__label {cursor: pointer;display: block;width: 100%;margin-bottom: 0;padding: 0.2em 0.3em;box-sizing: border-box;text-align: center;}div.sk-toggleable__content {max-height: 0;max-width: 0;overflow: hidden;text-align: left;background-color: #f0f8ff;}div.sk-toggleable__content pre {margin: 0.2em;color: black;border-radius: 0.25em;background-color: #f0f8ff;}input.sk-toggleable__control:checked~div.sk-toggleable__content {max-height: 200px;max-width: 100%;overflow: auto;}div.sk-estimator input.sk-toggleable__control:checked~label.sk-toggleable__label {background-color: #d4ebff;}div.sk-label input.sk-toggleable__control:checked~label.sk-toggleable__label {background-color: #d4ebff;}input.sk-hidden--visually {border: 0;clip: rect(1px 1px 1px 1px);clip: rect(1px, 1px, 1px, 1px);height: 1px;margin: -1px;overflow: hidden;padding: 0;position: absolute;width: 1px;}div.sk-estimator {font-family: monospace;background-color: #f0f8ff;margin: 0.25em 0.25em;border: 1px dotted black;border-radius: 0.25em;box-sizing: border-box;}div.sk-estimator:hover {background-color: #d4ebff;}div.sk-parallel-item::after {content: \"\";width: 100%;border-bottom: 1px solid gray;flex-grow: 1;}div.sk-label:hover label.sk-toggleable__label {background-color: #d4ebff;}div.sk-serial::before {content: \"\";position: absolute;border-left: 1px solid gray;box-sizing: border-box;top: 2em;bottom: 0;left: 50%;}div.sk-serial {display: flex;flex-direction: column;align-items: center;background-color: white;}div.sk-item {z-index: 1;}div.sk-parallel {display: flex;align-items: stretch;justify-content: center;background-color: white;}div.sk-parallel-item {display: flex;flex-direction: column;position: relative;background-color: white;}div.sk-parallel-item:first-child::after {align-self: flex-end;width: 50%;}div.sk-parallel-item:last-child::after {align-self: flex-start;width: 50%;}div.sk-parallel-item:only-child::after {width: 0;}div.sk-dashed-wrapped {border: 1px dashed gray;margin: 0.2em;box-sizing: border-box;padding-bottom: 0.1em;background-color: white;position: relative;}div.sk-label label {font-family: monospace;font-weight: bold;background-color: white;display: inline-block;line-height: 1.2em;}div.sk-label-container {position: relative;z-index: 2;text-align: center;}div.sk-container {display: inline-block;position: relative;}</style><div class=\"sk-top-container\"><div class=\"sk-container\"><div class=\"sk-item sk-dashed-wrapped\"><div class=\"sk-label-container\"><div class=\"sk-label sk-toggleable\"><input class=\"sk-toggleable__control sk-hidden--visually\" id=\"4bae9e2d-d1ed-4e19-9a8a-c887e655234f\" type=\"checkbox\" ><label class=\"sk-toggleable__label\" for=\"4bae9e2d-d1ed-4e19-9a8a-c887e655234f\">ColumnTransformer</label><div class=\"sk-toggleable__content\"><pre>ColumnTransformer(transformers=[('cat_ord_encoding',\n",
       "                                 Pipeline(memory='/tmp/tmp4dt566r5',\n",
       "                                          steps=[('cat_imputer',\n",
       "                                                  SimpleImputer(strategy='most_frequent')),\n",
       "                                                 ('cat_encoder',\n",
       "                                                  OrdinalEncoder(categories=[['IR3',\n",
       "                                                                              'IR2',\n",
       "                                                                              'IR1',\n",
       "                                                                              'Reg'],\n",
       "                                                                             ['Low',\n",
       "                                                                              'HLS',\n",
       "                                                                              'Bnk',\n",
       "                                                                              'Lvl'],\n",
       "                                                                             ['Sev',\n",
       "                                                                              'Mod',\n",
       "                                                                              'Gtl'],\n",
       "                                                                             ['Po',\n",
       "                                                                              'Fa',\n",
       "                                                                              'TA',\n",
       "                                                                              'Gd',\n",
       "                                                                              'Ex'],\n",
       "                                                                             ['Po',\n",
       "                                                                              'Fa',\n",
       "                                                                              'TA',\n",
       "                                                                              'Gd',\n",
       "                                                                              'Ex'],\n",
       "                                                                             ['NA',\n",
       "                                                                              'Po',\n",
       "                                                                              'Fa',\n",
       "                                                                              'TA',\n",
       "                                                                              'Gd',\n",
       "                                                                              'Ex'],...\n",
       "                                  'OverallCond', 'YearBuilt', 'YearRemodAdd',\n",
       "                                  'BsmtFinSF1', 'BsmtFinSF2', 'BsmtUnfSF',\n",
       "                                  'TotalBsmtSF', '1stFlrSF', '2ndFlrSF',\n",
       "                                  'LowQualFinSF', 'GrLivArea', 'BsmtFullBath',\n",
       "                                  'BsmtHalfBath', 'FullBath', 'HalfBath',\n",
       "                                  'BedroomAbvGr', 'KitchenAbvGr',\n",
       "                                  'TotRmsAbvGrd', 'Fireplaces', 'GarageCars',\n",
       "                                  'GarageArea', 'WoodDeckSF', 'OpenPorchSF',\n",
       "                                  'EnclosedPorch', '3SsnPorch', 'ScreenPorch', ...])])</pre></div></div></div><div class=\"sk-parallel\"><div class=\"sk-parallel-item\"><div class=\"sk-item\"><div class=\"sk-label-container\"><div class=\"sk-label sk-toggleable\"><input class=\"sk-toggleable__control sk-hidden--visually\" id=\"def36f5b-84bb-4221-9263-544547192a0c\" type=\"checkbox\" ><label class=\"sk-toggleable__label\" for=\"def36f5b-84bb-4221-9263-544547192a0c\">cat_ord_encoding</label><div class=\"sk-toggleable__content\"><pre>['LotShape', 'LandContour', 'LandSlope', 'ExterQual', 'ExterCond', 'BsmtQual', 'BsmtCond', 'BsmtFinType1', 'BsmtFinType2', 'HeatingQC', 'KitchenQual', 'CentralAir', 'GarageQual', 'GarageCond', 'GarageFinish', 'PavedDrive']</pre></div></div></div><div class=\"sk-serial\"><div class=\"sk-item\"><div class=\"sk-serial\"><div class=\"sk-item\"><div class=\"sk-estimator sk-toggleable\"><input class=\"sk-toggleable__control sk-hidden--visually\" id=\"0513a8d8-2bd0-441c-b6a1-c7f3a15aae38\" type=\"checkbox\" ><label class=\"sk-toggleable__label\" for=\"0513a8d8-2bd0-441c-b6a1-c7f3a15aae38\">SimpleImputer</label><div class=\"sk-toggleable__content\"><pre>SimpleImputer(strategy='most_frequent')</pre></div></div></div><div class=\"sk-item\"><div class=\"sk-estimator sk-toggleable\"><input class=\"sk-toggleable__control sk-hidden--visually\" id=\"107d1141-196e-479e-9304-de6ae56d2ef5\" type=\"checkbox\" ><label class=\"sk-toggleable__label\" for=\"107d1141-196e-479e-9304-de6ae56d2ef5\">OrdinalEncoder</label><div class=\"sk-toggleable__content\"><pre>OrdinalEncoder(categories=[['IR3', 'IR2', 'IR1', 'Reg'],\n",
       "                           ['Low', 'HLS', 'Bnk', 'Lvl'], ['Sev', 'Mod', 'Gtl'],\n",
       "                           ['Po', 'Fa', 'TA', 'Gd', 'Ex'],\n",
       "                           ['Po', 'Fa', 'TA', 'Gd', 'Ex'],\n",
       "                           ['NA', 'Po', 'Fa', 'TA', 'Gd', 'Ex'],\n",
       "                           ['NA', 'Po', 'Fa', 'TA', 'Gd', 'Ex'],\n",
       "                           ['NA', 'Unf', 'LwQ', 'Rec', 'BLQ', 'ALQ', 'GLQ'],\n",
       "                           ['NA', 'Unf', 'LwQ', 'Rec', 'BLQ', 'ALQ', 'GLQ'],\n",
       "                           ['Po', 'Fa', 'TA', 'Gd', 'Ex'],\n",
       "                           ['Po', 'Fa', 'TA', 'Gd', 'Ex'], ['N', 'Y'],\n",
       "                           ['NA', 'Po', 'Fa', 'TA', 'Gd', 'Ex'],\n",
       "                           ['NA', 'Po', 'Fa', 'TA', 'Gd', 'Ex'],\n",
       "                           ['NA', 'Unf', 'RFn', 'Fin'], ['N', 'P', 'Y']],\n",
       "               handle_unknown='use_encoded_value', unknown_value=-1)</pre></div></div></div></div></div></div></div></div><div class=\"sk-parallel-item\"><div class=\"sk-item\"><div class=\"sk-label-container\"><div class=\"sk-label sk-toggleable\"><input class=\"sk-toggleable__control sk-hidden--visually\" id=\"8653e7fe-1123-4ea7-b345-53e95b477631\" type=\"checkbox\" ><label class=\"sk-toggleable__label\" for=\"8653e7fe-1123-4ea7-b345-53e95b477631\">cat_OHE_encoding</label><div class=\"sk-toggleable__content\"><pre>['MSZoning', 'Street', 'Utilities', 'LotConfig', 'BldgType', 'RoofStyle', 'MasVnrType', 'Foundation', 'BsmtExposure', 'Heating', 'Electrical', 'GarageType', 'SaleCondition']</pre></div></div></div><div class=\"sk-serial\"><div class=\"sk-item\"><div class=\"sk-serial\"><div class=\"sk-item\"><div class=\"sk-estimator sk-toggleable\"><input class=\"sk-toggleable__control sk-hidden--visually\" id=\"c149b2ab-8bae-405e-a37e-51eb29a43cfd\" type=\"checkbox\" ><label class=\"sk-toggleable__label\" for=\"c149b2ab-8bae-405e-a37e-51eb29a43cfd\">SimpleImputer</label><div class=\"sk-toggleable__content\"><pre>SimpleImputer(strategy='most_frequent')</pre></div></div></div><div class=\"sk-item\"><div class=\"sk-estimator sk-toggleable\"><input class=\"sk-toggleable__control sk-hidden--visually\" id=\"10b9f1c9-566f-4f38-9ea1-18454590306f\" type=\"checkbox\" ><label class=\"sk-toggleable__label\" for=\"10b9f1c9-566f-4f38-9ea1-18454590306f\">OneHotEncoder</label><div class=\"sk-toggleable__content\"><pre>OneHotEncoder(handle_unknown='ignore', sparse=False)</pre></div></div></div></div></div></div></div></div><div class=\"sk-parallel-item\"><div class=\"sk-item\"><div class=\"sk-label-container\"><div class=\"sk-label sk-toggleable\"><input class=\"sk-toggleable__control sk-hidden--visually\" id=\"2b564f4c-c596-4607-9338-cb9f84c86015\" type=\"checkbox\" ><label class=\"sk-toggleable__label\" for=\"2b564f4c-c596-4607-9338-cb9f84c86015\">num_tranformation</label><div class=\"sk-toggleable__content\"><pre>['Id', 'MSSubClass', 'LotArea', 'OverallQual', 'OverallCond', 'YearBuilt', 'YearRemodAdd', 'BsmtFinSF1', 'BsmtFinSF2', 'BsmtUnfSF', 'TotalBsmtSF', '1stFlrSF', '2ndFlrSF', 'LowQualFinSF', 'GrLivArea', 'BsmtFullBath', 'BsmtHalfBath', 'FullBath', 'HalfBath', 'BedroomAbvGr', 'KitchenAbvGr', 'TotRmsAbvGrd', 'Fireplaces', 'GarageCars', 'GarageArea', 'WoodDeckSF', 'OpenPorchSF', 'EnclosedPorch', '3SsnPorch', 'ScreenPorch', 'PoolArea', 'MiscVal', 'MoSold', 'YrSold', 'LotFrontage', 'MasVnrArea', 'GarageYrBlt']</pre></div></div></div><div class=\"sk-serial\"><div class=\"sk-item\"><div class=\"sk-serial\"><div class=\"sk-item\"><div class=\"sk-estimator sk-toggleable\"><input class=\"sk-toggleable__control sk-hidden--visually\" id=\"115d93fc-51bd-4067-af7d-1d17bcc1bb05\" type=\"checkbox\" ><label class=\"sk-toggleable__label\" for=\"115d93fc-51bd-4067-af7d-1d17bcc1bb05\">SimpleImputer</label><div class=\"sk-toggleable__content\"><pre>SimpleImputer()</pre></div></div></div><div class=\"sk-item\"><div class=\"sk-estimator sk-toggleable\"><input class=\"sk-toggleable__control sk-hidden--visually\" id=\"b87acb67-6869-4191-a0d4-9c9e5cf6a69c\" type=\"checkbox\" ><label class=\"sk-toggleable__label\" for=\"b87acb67-6869-4191-a0d4-9c9e5cf6a69c\">MinMaxScaler</label><div class=\"sk-toggleable__content\"><pre>MinMaxScaler()</pre></div></div></div></div></div></div></div></div></div></div></div></div>"
      ],
      "text/plain": [
       "ColumnTransformer(transformers=[('cat_ord_encoding',\n",
       "                                 Pipeline(memory='/tmp/tmp4dt566r5',\n",
       "                                          steps=[('cat_imputer',\n",
       "                                                  SimpleImputer(strategy='most_frequent')),\n",
       "                                                 ('cat_encoder',\n",
       "                                                  OrdinalEncoder(categories=[['IR3',\n",
       "                                                                              'IR2',\n",
       "                                                                              'IR1',\n",
       "                                                                              'Reg'],\n",
       "                                                                             ['Low',\n",
       "                                                                              'HLS',\n",
       "                                                                              'Bnk',\n",
       "                                                                              'Lvl'],\n",
       "                                                                             ['Sev',\n",
       "                                                                              'Mod',\n",
       "                                                                              'Gtl'],\n",
       "                                                                             ['Po',\n",
       "                                                                              'Fa',\n",
       "                                                                              'TA',\n",
       "                                                                              'Gd',\n",
       "                                                                              'Ex'],\n",
       "                                                                             ['Po',\n",
       "                                                                              'Fa',\n",
       "                                                                              'TA',\n",
       "                                                                              'Gd',\n",
       "                                                                              'Ex'],\n",
       "                                                                             ['NA',\n",
       "                                                                              'Po',\n",
       "                                                                              'Fa',\n",
       "                                                                              'TA',\n",
       "                                                                              'Gd',\n",
       "                                                                              'Ex'],...\n",
       "                                  'OverallCond', 'YearBuilt', 'YearRemodAdd',\n",
       "                                  'BsmtFinSF1', 'BsmtFinSF2', 'BsmtUnfSF',\n",
       "                                  'TotalBsmtSF', '1stFlrSF', '2ndFlrSF',\n",
       "                                  'LowQualFinSF', 'GrLivArea', 'BsmtFullBath',\n",
       "                                  'BsmtHalfBath', 'FullBath', 'HalfBath',\n",
       "                                  'BedroomAbvGr', 'KitchenAbvGr',\n",
       "                                  'TotRmsAbvGrd', 'Fireplaces', 'GarageCars',\n",
       "                                  'GarageArea', 'WoodDeckSF', 'OpenPorchSF',\n",
       "                                  'EnclosedPorch', '3SsnPorch', 'ScreenPorch', ...])])"
      ]
     },
     "execution_count": 34,
     "metadata": {},
     "output_type": "execute_result"
    }
   ],
   "source": [
    "# Encoding of features iteration 2\n",
    "#     num_features_2 = numerical\n",
    "#     cat_OHE_2      = categorical features to be One Hot Encoding\n",
    "#     cat_ordinal_2  = categorical features to be ordinal encoding\n",
    "#     categories_2   = order of encoding for the cat_ordinal_2 features  \n",
    "\n",
    "# Preparation of data sets for iteration 2\n",
    "\n",
    "features_iter_2 = num_features_2, cat_ordinal_2, cat_OHE_2\n",
    "X_train_2, y_train_2, X_test_2 = initialize_X_y(data_train, data_test, target, features_iter_1)\n",
    "\n",
    "# Encoder for categorical features\n",
    "\n",
    "cat_ord_encoder = Pipeline([ ('cat_imputer', SimpleImputer(strategy=\"most_frequent\")),\n",
    "                              ('cat_encoder', OrdinalEncoder(categories= categories_2,\n",
    "                              handle_unknown=\"use_encoded_value\",unknown_value=-1)) ],\n",
    "                          memory=cachedir)\n",
    "\n",
    "cat_OHE_encoder = Pipeline([ ('cat_imputer', SimpleImputer(strategy=\"most_frequent\")),\n",
    "                              ('cat_encoder', OneHotEncoder(handle_unknown='ignore',sparse=False)) ],\n",
    "                          memory=cachedir)\n",
    "\n",
    "# Encoder for numerical features\n",
    "\n",
    "num_transform_pipe_2 = Pipeline([ ('num_imputer', SimpleImputer(strategy=\"mean\")),\n",
    "                                ('num_scaler', MinMaxScaler()) ],\n",
    "                               memory=cachedir)\n",
    "\n",
    "# Preprocessor for iteration 2\n",
    "\n",
    "transform_iteration_2 = ColumnTransformer( [ ('cat_ord_encoding', cat_ord_encoder, cat_ordinal_2),\n",
    "                                           ('cat_OHE_encoding', cat_OHE_encoder, cat_OHE_2),\n",
    "                                           ('num_tranformation', num_transform_pipe_2, num_features_2)\n",
    "                                         ] )\n",
    "\n",
    "transform_iteration_2"
   ]
  },
  {
   "cell_type": "markdown",
   "metadata": {
    "heading_collapsed": true
   },
   "source": [
    "### Statistical Feature Selection: \"preproc_iteration_2\" \n",
    "\n",
    "- We use sklearn's [feature selection](https://scikit-learn.org/stable/modules/classes.html#module-sklearn.feature_selection) tools directly in the pipeline.We add a `SelectPercentile` filter (coupled with `mutual_info_regression` for the statistical test to use) at the end of the `preproc` pipeline. This will filter-out features that, taken individually, least explain the target!  \n",
    ">SelectPercentile(score_func= mutual_info_regression, percentile=80)\n",
    ">\n",
    ">*-This will recursively filter-out least important features according to `feature_permutation` importance!*  \n",
    "\n",
    " <details> \n",
    "    <summary> Other options would be (click to expand):</summary>\n",
    "    \n",
    "    >*- Multivariate feature selection based their common relationship with target `y`*\n",
    "    \n",
    "    >*- Filter based only on the properties of `X`. Use Pearson's correlation combined with a heatmap...to check visually whether some numerical features almost entirely explain others.Then, create a \"filter\" in your pipeline that removes any correlated below a certain threshold*\n",
    "    \n",
    "    >*- Use Spearman's rank correlation combined with a heatmap...to whether some ordinally encoded features are almost entirely \"ordered\" similarily than others. Then, create a \"filter\" in your pipeline that removes any ordinal features correlated below a certain threshold*\n",
    "    \n",
    "    >*- Another way to filter out feature relies solely on removing those with the lowest variance.Think about it: a feature which only takes one value is useless (and has a variance of 0).Try to add a `VarianceThreshold` to the end of your pipeline*\n",
    "</details>"
   ]
  },
  {
   "cell_type": "code",
   "execution_count": 166,
   "metadata": {
    "hidden": true
   },
   "outputs": [
    {
     "data": {
      "text/html": [
       "<style>div.sk-top-container {color: black;background-color: white;}div.sk-toggleable {background-color: white;}label.sk-toggleable__label {cursor: pointer;display: block;width: 100%;margin-bottom: 0;padding: 0.2em 0.3em;box-sizing: border-box;text-align: center;}div.sk-toggleable__content {max-height: 0;max-width: 0;overflow: hidden;text-align: left;background-color: #f0f8ff;}div.sk-toggleable__content pre {margin: 0.2em;color: black;border-radius: 0.25em;background-color: #f0f8ff;}input.sk-toggleable__control:checked~div.sk-toggleable__content {max-height: 200px;max-width: 100%;overflow: auto;}div.sk-estimator input.sk-toggleable__control:checked~label.sk-toggleable__label {background-color: #d4ebff;}div.sk-label input.sk-toggleable__control:checked~label.sk-toggleable__label {background-color: #d4ebff;}input.sk-hidden--visually {border: 0;clip: rect(1px 1px 1px 1px);clip: rect(1px, 1px, 1px, 1px);height: 1px;margin: -1px;overflow: hidden;padding: 0;position: absolute;width: 1px;}div.sk-estimator {font-family: monospace;background-color: #f0f8ff;margin: 0.25em 0.25em;border: 1px dotted black;border-radius: 0.25em;box-sizing: border-box;}div.sk-estimator:hover {background-color: #d4ebff;}div.sk-parallel-item::after {content: \"\";width: 100%;border-bottom: 1px solid gray;flex-grow: 1;}div.sk-label:hover label.sk-toggleable__label {background-color: #d4ebff;}div.sk-serial::before {content: \"\";position: absolute;border-left: 1px solid gray;box-sizing: border-box;top: 2em;bottom: 0;left: 50%;}div.sk-serial {display: flex;flex-direction: column;align-items: center;background-color: white;}div.sk-item {z-index: 1;}div.sk-parallel {display: flex;align-items: stretch;justify-content: center;background-color: white;}div.sk-parallel-item {display: flex;flex-direction: column;position: relative;background-color: white;}div.sk-parallel-item:first-child::after {align-self: flex-end;width: 50%;}div.sk-parallel-item:last-child::after {align-self: flex-start;width: 50%;}div.sk-parallel-item:only-child::after {width: 0;}div.sk-dashed-wrapped {border: 1px dashed gray;margin: 0.2em;box-sizing: border-box;padding-bottom: 0.1em;background-color: white;position: relative;}div.sk-label label {font-family: monospace;font-weight: bold;background-color: white;display: inline-block;line-height: 1.2em;}div.sk-label-container {position: relative;z-index: 2;text-align: center;}div.sk-container {display: inline-block;position: relative;}</style><div class=\"sk-top-container\"><div class=\"sk-container\"><div class=\"sk-item sk-dashed-wrapped\"><div class=\"sk-label-container\"><div class=\"sk-label sk-toggleable\"><input class=\"sk-toggleable__control sk-hidden--visually\" id=\"73be0ed5-1854-4109-bee5-090dbf0b210a\" type=\"checkbox\" ><label class=\"sk-toggleable__label\" for=\"73be0ed5-1854-4109-bee5-090dbf0b210a\">Pipeline</label><div class=\"sk-toggleable__content\"><pre>Pipeline(memory='/tmp/tmp4dt566r5',\n",
       "         steps=[('transformer',\n",
       "                 ColumnTransformer(transformers=[('cat_ord_encoding',\n",
       "                                                  Pipeline(memory='/tmp/tmp4dt566r5',\n",
       "                                                           steps=[('cat_imputer',\n",
       "                                                                   SimpleImputer(strategy='most_frequent')),\n",
       "                                                                  ('cat_encoder',\n",
       "                                                                   OrdinalEncoder(categories=[['IR3',\n",
       "                                                                                               'IR2',\n",
       "                                                                                               'IR1',\n",
       "                                                                                               'Reg'],\n",
       "                                                                                              ['Low',\n",
       "                                                                                               'HLS',\n",
       "                                                                                               'Bnk',\n",
       "                                                                                               'Lvl'],\n",
       "                                                                                              ['Sev',\n",
       "                                                                                               'Mod',\n",
       "                                                                                               'Gtl'],\n",
       "                                                                                              ['Po',\n",
       "                                                                                               'Fa',\n",
       "                                                                                               'TA',\n",
       "                                                                                               'Gd',\n",
       "                                                                                               'Ex'],\n",
       "                                                                                              ['...\n",
       "                                                   '2ndFlrSF', 'LowQualFinSF',\n",
       "                                                   'GrLivArea', 'BsmtFullBath',\n",
       "                                                   'BsmtHalfBath', 'FullBath',\n",
       "                                                   'HalfBath', 'BedroomAbvGr',\n",
       "                                                   'KitchenAbvGr',\n",
       "                                                   'TotRmsAbvGrd', 'Fireplaces',\n",
       "                                                   'GarageCars', 'GarageArea',\n",
       "                                                   'WoodDeckSF', 'OpenPorchSF',\n",
       "                                                   'EnclosedPorch', '3SsnPorch',\n",
       "                                                   'ScreenPorch', ...])])),\n",
       "                ('selector',\n",
       "                 SelectPercentile(percentile=80,\n",
       "                                  score_func=<function mutual_info_regression at 0x7f87dff9e550>))])</pre></div></div></div><div class=\"sk-serial\"><div class=\"sk-item sk-dashed-wrapped\"><div class=\"sk-label-container\"><div class=\"sk-label sk-toggleable\"><input class=\"sk-toggleable__control sk-hidden--visually\" id=\"55e86d20-9410-4276-81a0-e9918191e16b\" type=\"checkbox\" ><label class=\"sk-toggleable__label\" for=\"55e86d20-9410-4276-81a0-e9918191e16b\">transformer: ColumnTransformer</label><div class=\"sk-toggleable__content\"><pre>ColumnTransformer(transformers=[('cat_ord_encoding',\n",
       "                                 Pipeline(memory='/tmp/tmp4dt566r5',\n",
       "                                          steps=[('cat_imputer',\n",
       "                                                  SimpleImputer(strategy='most_frequent')),\n",
       "                                                 ('cat_encoder',\n",
       "                                                  OrdinalEncoder(categories=[['IR3',\n",
       "                                                                              'IR2',\n",
       "                                                                              'IR1',\n",
       "                                                                              'Reg'],\n",
       "                                                                             ['Low',\n",
       "                                                                              'HLS',\n",
       "                                                                              'Bnk',\n",
       "                                                                              'Lvl'],\n",
       "                                                                             ['Sev',\n",
       "                                                                              'Mod',\n",
       "                                                                              'Gtl'],\n",
       "                                                                             ['Po',\n",
       "                                                                              'Fa',\n",
       "                                                                              'TA',\n",
       "                                                                              'Gd',\n",
       "                                                                              'Ex'],\n",
       "                                                                             ['Po',\n",
       "                                                                              'Fa',\n",
       "                                                                              'TA',\n",
       "                                                                              'Gd',\n",
       "                                                                              'Ex'],\n",
       "                                                                             ['NA',\n",
       "                                                                              'Po',\n",
       "                                                                              'Fa',\n",
       "                                                                              'TA',\n",
       "                                                                              'Gd',\n",
       "                                                                              'Ex'],...\n",
       "                                  'OverallCond', 'YearBuilt', 'YearRemodAdd',\n",
       "                                  'BsmtFinSF1', 'BsmtFinSF2', 'BsmtUnfSF',\n",
       "                                  'TotalBsmtSF', '1stFlrSF', '2ndFlrSF',\n",
       "                                  'LowQualFinSF', 'GrLivArea', 'BsmtFullBath',\n",
       "                                  'BsmtHalfBath', 'FullBath', 'HalfBath',\n",
       "                                  'BedroomAbvGr', 'KitchenAbvGr',\n",
       "                                  'TotRmsAbvGrd', 'Fireplaces', 'GarageCars',\n",
       "                                  'GarageArea', 'WoodDeckSF', 'OpenPorchSF',\n",
       "                                  'EnclosedPorch', '3SsnPorch', 'ScreenPorch', ...])])</pre></div></div></div><div class=\"sk-parallel\"><div class=\"sk-parallel-item\"><div class=\"sk-item\"><div class=\"sk-label-container\"><div class=\"sk-label sk-toggleable\"><input class=\"sk-toggleable__control sk-hidden--visually\" id=\"674e0a5e-0936-4b17-a1dd-19d903e64c04\" type=\"checkbox\" ><label class=\"sk-toggleable__label\" for=\"674e0a5e-0936-4b17-a1dd-19d903e64c04\">cat_ord_encoding</label><div class=\"sk-toggleable__content\"><pre>['LotShape', 'LandContour', 'LandSlope', 'ExterQual', 'ExterCond', 'BsmtQual', 'BsmtCond', 'BsmtFinType1', 'BsmtFinType2', 'HeatingQC', 'KitchenQual', 'CentralAir', 'GarageQual', 'GarageCond', 'GarageFinish', 'PavedDrive']</pre></div></div></div><div class=\"sk-serial\"><div class=\"sk-item\"><div class=\"sk-serial\"><div class=\"sk-item\"><div class=\"sk-estimator sk-toggleable\"><input class=\"sk-toggleable__control sk-hidden--visually\" id=\"b79227f4-b4ee-4803-bd30-ad98b22a1b62\" type=\"checkbox\" ><label class=\"sk-toggleable__label\" for=\"b79227f4-b4ee-4803-bd30-ad98b22a1b62\">SimpleImputer</label><div class=\"sk-toggleable__content\"><pre>SimpleImputer(strategy='most_frequent')</pre></div></div></div><div class=\"sk-item\"><div class=\"sk-estimator sk-toggleable\"><input class=\"sk-toggleable__control sk-hidden--visually\" id=\"50c86420-2c5b-4593-b18f-6f52010382b7\" type=\"checkbox\" ><label class=\"sk-toggleable__label\" for=\"50c86420-2c5b-4593-b18f-6f52010382b7\">OrdinalEncoder</label><div class=\"sk-toggleable__content\"><pre>OrdinalEncoder(categories=[['IR3', 'IR2', 'IR1', 'Reg'],\n",
       "                           ['Low', 'HLS', 'Bnk', 'Lvl'], ['Sev', 'Mod', 'Gtl'],\n",
       "                           ['Po', 'Fa', 'TA', 'Gd', 'Ex'],\n",
       "                           ['Po', 'Fa', 'TA', 'Gd', 'Ex'],\n",
       "                           ['NA', 'Po', 'Fa', 'TA', 'Gd', 'Ex'],\n",
       "                           ['NA', 'Po', 'Fa', 'TA', 'Gd', 'Ex'],\n",
       "                           ['NA', 'Unf', 'LwQ', 'Rec', 'BLQ', 'ALQ', 'GLQ'],\n",
       "                           ['NA', 'Unf', 'LwQ', 'Rec', 'BLQ', 'ALQ', 'GLQ'],\n",
       "                           ['Po', 'Fa', 'TA', 'Gd', 'Ex'],\n",
       "                           ['Po', 'Fa', 'TA', 'Gd', 'Ex'], ['N', 'Y'],\n",
       "                           ['NA', 'Po', 'Fa', 'TA', 'Gd', 'Ex'],\n",
       "                           ['NA', 'Po', 'Fa', 'TA', 'Gd', 'Ex'],\n",
       "                           ['NA', 'Unf', 'RFn', 'Fin'], ['N', 'P', 'Y']],\n",
       "               handle_unknown='use_encoded_value', unknown_value=-1)</pre></div></div></div></div></div></div></div></div><div class=\"sk-parallel-item\"><div class=\"sk-item\"><div class=\"sk-label-container\"><div class=\"sk-label sk-toggleable\"><input class=\"sk-toggleable__control sk-hidden--visually\" id=\"a0196879-3c98-4ca4-9997-6d595b8ebd58\" type=\"checkbox\" ><label class=\"sk-toggleable__label\" for=\"a0196879-3c98-4ca4-9997-6d595b8ebd58\">cat_OHE_encoding</label><div class=\"sk-toggleable__content\"><pre>['MSZoning', 'Street', 'Utilities', 'LotConfig', 'BldgType', 'RoofStyle', 'MasVnrType', 'Foundation', 'BsmtExposure', 'Heating', 'Electrical', 'GarageType', 'SaleCondition']</pre></div></div></div><div class=\"sk-serial\"><div class=\"sk-item\"><div class=\"sk-serial\"><div class=\"sk-item\"><div class=\"sk-estimator sk-toggleable\"><input class=\"sk-toggleable__control sk-hidden--visually\" id=\"77f0c007-478e-443e-9432-7f58e38731bc\" type=\"checkbox\" ><label class=\"sk-toggleable__label\" for=\"77f0c007-478e-443e-9432-7f58e38731bc\">SimpleImputer</label><div class=\"sk-toggleable__content\"><pre>SimpleImputer(strategy='most_frequent')</pre></div></div></div><div class=\"sk-item\"><div class=\"sk-estimator sk-toggleable\"><input class=\"sk-toggleable__control sk-hidden--visually\" id=\"206ee6bd-3058-4239-8a36-9969279427d6\" type=\"checkbox\" ><label class=\"sk-toggleable__label\" for=\"206ee6bd-3058-4239-8a36-9969279427d6\">OneHotEncoder</label><div class=\"sk-toggleable__content\"><pre>OneHotEncoder(handle_unknown='ignore', sparse=False)</pre></div></div></div></div></div></div></div></div><div class=\"sk-parallel-item\"><div class=\"sk-item\"><div class=\"sk-label-container\"><div class=\"sk-label sk-toggleable\"><input class=\"sk-toggleable__control sk-hidden--visually\" id=\"b67aa9dd-ef87-4ff5-a736-2c19de003930\" type=\"checkbox\" ><label class=\"sk-toggleable__label\" for=\"b67aa9dd-ef87-4ff5-a736-2c19de003930\">num_tranformation</label><div class=\"sk-toggleable__content\"><pre>['Id', 'MSSubClass', 'LotArea', 'OverallQual', 'OverallCond', 'YearBuilt', 'YearRemodAdd', 'BsmtFinSF1', 'BsmtFinSF2', 'BsmtUnfSF', 'TotalBsmtSF', '1stFlrSF', '2ndFlrSF', 'LowQualFinSF', 'GrLivArea', 'BsmtFullBath', 'BsmtHalfBath', 'FullBath', 'HalfBath', 'BedroomAbvGr', 'KitchenAbvGr', 'TotRmsAbvGrd', 'Fireplaces', 'GarageCars', 'GarageArea', 'WoodDeckSF', 'OpenPorchSF', 'EnclosedPorch', '3SsnPorch', 'ScreenPorch', 'PoolArea', 'MiscVal', 'MoSold', 'YrSold', 'LotFrontage', 'MasVnrArea', 'GarageYrBlt']</pre></div></div></div><div class=\"sk-serial\"><div class=\"sk-item\"><div class=\"sk-serial\"><div class=\"sk-item\"><div class=\"sk-estimator sk-toggleable\"><input class=\"sk-toggleable__control sk-hidden--visually\" id=\"7357342e-801f-4b7f-9d04-8660453bffd7\" type=\"checkbox\" ><label class=\"sk-toggleable__label\" for=\"7357342e-801f-4b7f-9d04-8660453bffd7\">SimpleImputer</label><div class=\"sk-toggleable__content\"><pre>SimpleImputer()</pre></div></div></div><div class=\"sk-item\"><div class=\"sk-estimator sk-toggleable\"><input class=\"sk-toggleable__control sk-hidden--visually\" id=\"fccbf60b-8571-448d-aed2-9b34a456e53c\" type=\"checkbox\" ><label class=\"sk-toggleable__label\" for=\"fccbf60b-8571-448d-aed2-9b34a456e53c\">MinMaxScaler</label><div class=\"sk-toggleable__content\"><pre>MinMaxScaler()</pre></div></div></div></div></div></div></div></div></div></div><div class=\"sk-item\"><div class=\"sk-estimator sk-toggleable\"><input class=\"sk-toggleable__control sk-hidden--visually\" id=\"3b14eee5-755a-44c6-b7c2-b1a1af1b06da\" type=\"checkbox\" ><label class=\"sk-toggleable__label\" for=\"3b14eee5-755a-44c6-b7c2-b1a1af1b06da\">SelectPercentile</label><div class=\"sk-toggleable__content\"><pre>SelectPercentile(percentile=80,\n",
       "                 score_func=<function mutual_info_regression at 0x7f87dff9e550>)</pre></div></div></div></div></div></div></div>"
      ],
      "text/plain": [
       "Pipeline(memory='/tmp/tmp4dt566r5',\n",
       "         steps=[('transformer',\n",
       "                 ColumnTransformer(transformers=[('cat_ord_encoding',\n",
       "                                                  Pipeline(memory='/tmp/tmp4dt566r5',\n",
       "                                                           steps=[('cat_imputer',\n",
       "                                                                   SimpleImputer(strategy='most_frequent')),\n",
       "                                                                  ('cat_encoder',\n",
       "                                                                   OrdinalEncoder(categories=[['IR3',\n",
       "                                                                                               'IR2',\n",
       "                                                                                               'IR1',\n",
       "                                                                                               'Reg'],\n",
       "                                                                                              ['Low',\n",
       "                                                                                               'HLS',\n",
       "                                                                                               'Bnk',\n",
       "                                                                                               'Lvl'],\n",
       "                                                                                              ['Sev',\n",
       "                                                                                               'Mod',\n",
       "                                                                                               'Gtl'],\n",
       "                                                                                              ['Po',\n",
       "                                                                                               'Fa',\n",
       "                                                                                               'TA',\n",
       "                                                                                               'Gd',\n",
       "                                                                                               'Ex'],\n",
       "                                                                                              ['...\n",
       "                                                   '2ndFlrSF', 'LowQualFinSF',\n",
       "                                                   'GrLivArea', 'BsmtFullBath',\n",
       "                                                   'BsmtHalfBath', 'FullBath',\n",
       "                                                   'HalfBath', 'BedroomAbvGr',\n",
       "                                                   'KitchenAbvGr',\n",
       "                                                   'TotRmsAbvGrd', 'Fireplaces',\n",
       "                                                   'GarageCars', 'GarageArea',\n",
       "                                                   'WoodDeckSF', 'OpenPorchSF',\n",
       "                                                   'EnclosedPorch', '3SsnPorch',\n",
       "                                                   'ScreenPorch', ...])])),\n",
       "                ('selector',\n",
       "                 SelectPercentile(percentile=80,\n",
       "                                  score_func=<function mutual_info_regression at 0x7f87dff9e550>))])"
      ]
     },
     "execution_count": 166,
     "metadata": {},
     "output_type": "execute_result"
    }
   ],
   "source": [
    "select_perc = SelectPercentile(score_func= mutual_info_regression, percentile=80)\n",
    "\n",
    "preproc_iteration_2 = Pipeline([ ('transformer', transform_iteration_2),('selector', select_perc) ],\n",
    "                              memory=cachedir)\n",
    "\n",
    "preproc_iteration_2"
   ]
  },
  {
   "cell_type": "markdown",
   "metadata": {
    "hidden": true
   },
   "source": [
    "#### Final preproc pipeline\n",
    "\n",
    ">- Baseline rmsle => score_baseline\n",
    ">- preproc pipeline => preproc_iteration_2\n",
    ">- target => y_log_train_2\n",
    ">- training data set => X_train_2\n",
    ">- score function: rmsle_log, rmsle_log_neg\n",
    ">- predictions => exp( y_log_pred )"
   ]
  },
  {
   "attachments": {
    "Target_histograms-3.PNG": {
     "image/png": "[encoded data removed]"
    }
   },
   "cell_type": "markdown",
   "metadata": {
    "heading_collapsed": true
   },
   "source": [
    "### Target engineering \n",
    "\n",
    "- We are asked to minimize the RMSLE. Why don't we transform our target to directly predict its log?\n",
    ">**Normally distributed variables should be easier to predict with linear models**\n",
    ">![Target_histograms-3.PNG](attachment:Target_histograms-3.PNG)\n",
    "\n",
    "- Let's create `y_log` and the new performance metrics. \n",
    ">- y_log_train = pd.Series(y_train).apply(lambda x: math.log(x))\n",
    ">- def rmsle_log_metric(y_true, y_pred)\n",
    ">- def rmsle_log_neg_metric(y_true, y_pred)\n",
    "\n",
    "- At the end, we have to take the exponential of the predictions!\n",
    ">- y_test_pred = pd.Series(best_model.predict(X_test)).apply(lambda y: math.exp(y))"
   ]
  },
  {
   "cell_type": "code",
   "execution_count": 168,
   "metadata": {
    "hidden": true
   },
   "outputs": [
    {
     "data": {
      "image/png": "[encoded data removed]",
      "text/plain": [
       "<Figure size 1152x288 with 4 Axes>"
      ]
     },
     "metadata": {
      "needs_background": "light"
     },
     "output_type": "display_data"
    }
   ],
   "source": [
    "# Create y_log and new performance metrics\n",
    "# Don't forget at the end to take the exponential of your predictions!\n",
    "\n",
    "y_log_train_2 = pd.Series(y_train_2).apply(lambda x: math.log(x))\n",
    "\n",
    "fig, axes = plt.subplots(1,4,figsize=(16,4)) \n",
    "sns.histplot(y_train_2, ax=axes[0])\n",
    "axes[0].set_title(\"Target\")\n",
    "sm.qqplot(y_train_2, ax=axes[1])\n",
    "axes[1].set_title(\"Target qqplot\")\n",
    "sns.histplot(y_log_train_2, ax=axes[2])\n",
    "axes[2].set_title(\"log (Target)\")\n",
    "sm.qqplot(y_log_train_2, ax=axes[3])\n",
    "axes[3].set_title(\"log (Target) qqplot\")\n",
    "plt.show()"
   ]
  },
  {
   "cell_type": "code",
   "execution_count": 154,
   "metadata": {
    "hidden": true
   },
   "outputs": [],
   "source": [
    "# rmsle_log: RMSE between the logarithm of the predicted value and the logarithm of the observed price\n",
    "# rmsle_log_neg : -rmsle which is best when maximized through \"GridSearchCV\" \n",
    "# RMSE stands for Root-Mean-Squared-Error\n",
    "\n",
    "def rmsle_log_metric(y_true, y_pred):\n",
    "    \n",
    "    return mean_squared_error (y_true, y_pred, squared=False )\n",
    "\n",
    "def rmsle_log_neg_metric(y_true, y_pred):\n",
    "    \n",
    "    return - mean_squared_error (y_true, y_pred, squared=False )\n",
    "\n",
    "rmsle_log = make_scorer(rmsle_log_metric, greater_is_better=False)\n",
    "rmsle_log_neg = make_scorer(rmsle_log_neg_metric, greater_is_better=True)"
   ]
  },
  {
   "attachments": {
    "lcurves_model2.PNG": {
     "image/png": "[encoded data removed]"
    }
   },
   "cell_type": "markdown",
   "metadata": {},
   "source": [
    "## Models Iteration\n",
    "\n",
    "**Regression models** \n",
    ">- Decision Tree Regression\n",
    ">- Ridge\n",
    ">- SVR\n",
    ">##### Let's try to reduce the bias by using some boosting ensemble methods\n",
    ">There is not overfitting (bagging is not needed)*\n",
    ">![lcurves_model2.PNG](attachment:lcurves_model2.PNG)\n",
    "\n",
    "**Boosting**\n",
    ">- AdaBoost(SVR)\n",
    ">- AdaBoost (DecisionTreeRegressor)\n",
    ">- GradientBoostingRegressor\n",
    ">- xgboost\n",
    "\n",
    "**Stacking ensemble method to make the predictions**\n",
    ">- VotingRegressor"
   ]
  },
  {
   "cell_type": "markdown",
   "metadata": {
    "heading_collapsed": true
   },
   "source": [
    "### Model 1 : Ridge\n",
    "\n",
    "- Model 1: rmsle score = 0.14359082351411573, Delta vs baseline = -0.022728309882146802\n",
    "- Model 1: params {'regressor__alpha': 2.705697399060696}"
   ]
  },
  {
   "cell_type": "code",
   "execution_count": 50,
   "metadata": {
    "hidden": true
   },
   "outputs": [
    {
     "name": "stdout",
     "output_type": "stream",
     "text": [
      "Model 1: rmsle score = 0.14460668965055126, Delta vs baseline = -0.02171244374571127\n"
     ]
    }
   ],
   "source": [
    "pipe_baseline_ridge = Pipeline([ ('transformer', preproc_iteration_2),('regressor', Ridge(alpha=1)) ],\n",
    "                              memory=cachedir)\n",
    "\n",
    "cv_ridge = cross_validate(pipe_baseline_ridge, X_train_2, y_log_train_2, cv=5, scoring=rmsle_log_neg)\n",
    "\n",
    "rmtree(cachedir)\n",
    "\n",
    "model1_score = - cv_ridge['test_score'].mean() \n",
    "print(f\"Model 1: rmsle score = {model1_score}, Delta vs baseline = {model1_score - score_baseline}\")"
   ]
  },
  {
   "cell_type": "code",
   "execution_count": 53,
   "metadata": {
    "hidden": true
   },
   "outputs": [],
   "source": [
    "grid_model1 = {'regressor__alpha': stats.loguniform(0.01, 3)}\n",
    "\n",
    "search_model1 = RandomizedSearchCV(pipe_baseline_ridge, grid_model1,cv = 5, n_iter= 100, scoring=rmsle_log_neg, n_jobs=-1)\n",
    "search_model1.fit(X_train_2, y_log_train_2)\n",
    "\n",
    "rmtree(cachedir)"
   ]
  },
  {
   "cell_type": "code",
   "execution_count": 54,
   "metadata": {
    "hidden": true
   },
   "outputs": [
    {
     "name": "stdout",
     "output_type": "stream",
     "text": [
      "Model 1: rmsle score = 0.14359082351411573, Delta vs baseline = -0.022728309882146802\n",
      "Model 1: params {'regressor__alpha': 2.705697399060696}\n"
     ]
    }
   ],
   "source": [
    "model1_score = - search_model1.best_score_\n",
    "print(f\"Model 1: rmsle score = {model1_score}, Delta vs baseline = {model1_score - score_baseline}\")\n",
    "print(f\"Model 1: params {search_model1.best_params_}\")"
   ]
  },
  {
   "cell_type": "code",
   "execution_count": 59,
   "metadata": {
    "hidden": true
   },
   "outputs": [
    {
     "data": {
      "text/plain": [
       "<matplotlib.legend.Legend at 0x7f884d1296a0>"
      ]
     },
     "execution_count": 59,
     "metadata": {},
     "output_type": "execute_result"
    },
    {
     "data": {
      "image/png": "[encoded data removed]",
      "text/plain": [
       "<Figure size 432x288 with 1 Axes>"
      ]
     },
     "metadata": {
      "needs_background": "light"
     },
     "output_type": "display_data"
    }
   ],
   "source": [
    "## Learning curves of search_model1.best_estimator_\n",
    "\n",
    "estimator_model1 = search_model1.best_estimator_\n",
    "\n",
    "train_sizes = [100, 200, 300, 500, 800, 1100]\n",
    "\n",
    "# Get train scores, train sizes, and validation scores using `learning_curve`\n",
    "\n",
    "y_log_train = pd.Series(y_train).apply(lambda x: math.log(x))\n",
    "\n",
    "train_sizes, train_scores, test_scores = \\\n",
    "         learning_curve(estimator=estimator_model1, X=X_train, y=y_log_train, \n",
    "                        scoring=rmsle_log_neg, train_sizes=train_sizes, cv=5)\n",
    "\n",
    "# Take the mean of cross-validated train scores and validation scores\n",
    "\n",
    "train_scores_mean = np.mean(train_scores, axis=1)\n",
    "test_scores_mean = np.mean(test_scores, axis=1)\n",
    "\n",
    "plt.plot(train_sizes, train_scores_mean, label = 'Training score')\n",
    "plt.plot(train_sizes, test_scores_mean, label = 'Test score')\n",
    "plt.ylabel('rmsle_log_neg score', fontsize = 14)\n",
    "plt.xlabel('Training set size', fontsize = 14)\n",
    "plt.title('Learning curves', fontsize = 18, y = 1.03)\n",
    "plt.legend()"
   ]
  },
  {
   "cell_type": "markdown",
   "metadata": {
    "heading_collapsed": true
   },
   "source": [
    "### Model 2.a : Support Vector Regression\n",
    "\n",
    "- Model 2a: rmsle score = 0.14022233241160953, Delta vs baseline = -0.02609832995379699\n",
    "- Model 2a best params => {'regressor__C': 0.24626481244539566, 'regressor__epsilon': 0.08747649515484607, 'regressor__kernel': 'linear'}"
   ]
  },
  {
   "cell_type": "code",
   "execution_count": 55,
   "metadata": {
    "hidden": true
   },
   "outputs": [
    {
     "name": "stdout",
     "output_type": "stream",
     "text": [
      "Model 2: rmsle score = 0.1450145126057219, Delta vs baseline = -0.02130462079054063\n"
     ]
    }
   ],
   "source": [
    "pipe_baseline_svr = Pipeline([ ('transformer', preproc_iteration_2),('regressor', SVR()) ],\n",
    "                            memory=cachedir)\n",
    "\n",
    "cv_svr = cross_validate(pipe_baseline_svr, X_train_2, y_log_train_2, cv=5, scoring=rmsle_log_neg)\n",
    "\n",
    "rmtree(cachedir)\n",
    "\n",
    "model2_score = - cv_svr['test_score'].mean() \n",
    "print(f\"Model 2: rmsle score = {model2_score}, Delta vs baseline = {model2_score - score_baseline}\")"
   ]
  },
  {
   "cell_type": "code",
   "execution_count": 56,
   "metadata": {
    "hidden": true
   },
   "outputs": [
    {
     "name": "stderr",
     "output_type": "stream",
     "text": [
      "/home/jm/.pyenv/versions/3.8.6/envs/lewagon/lib/python3.8/site-packages/sklearn/model_selection/_search.py:918: UserWarning: One or more of the test scores are non-finite: [        nan         nan -0.1475468          nan -0.14068847         nan\n",
      "         nan         nan -0.33475017         nan         nan         nan\n",
      " -0.14472097         nan         nan -0.15308498 -0.1430556  -0.14196137\n",
      "         nan         nan         nan         nan -0.15103201 -0.28630544\n",
      "         nan -0.15348288 -0.14410914         nan -0.16116044         nan\n",
      " -0.39992264 -0.1519559  -0.33208149 -0.14155644 -0.14530356         nan\n",
      "         nan         nan -0.16633725 -0.38101532         nan -0.16971259\n",
      " -0.14432394 -0.14641123 -0.16878523         nan -0.16912782         nan\n",
      "         nan         nan         nan -0.22661821         nan         nan\n",
      " -0.20481618 -0.14434726 -0.29207127         nan -0.14446078         nan\n",
      " -0.15781293 -0.16684081 -0.15761957         nan         nan         nan\n",
      "         nan         nan         nan -0.23025325         nan         nan\n",
      " -0.24643288         nan -0.16785659         nan         nan         nan\n",
      "         nan         nan -0.23734492         nan         nan -0.14405553\n",
      " -0.14296226 -0.39992264 -0.1480415          nan         nan -0.14527632\n",
      " -0.22686753 -0.14305306         nan         nan         nan         nan\n",
      " -0.39992264 -0.14984125 -0.14412779         nan         nan         nan\n",
      "         nan -0.14368212         nan         nan         nan         nan\n",
      "         nan         nan -0.14783249 -0.14987749 -0.14493159         nan\n",
      " -0.25560017         nan -0.1667822          nan -0.15365033         nan\n",
      " -0.14518969         nan -0.14255515 -0.27546022         nan -0.14411618\n",
      " -0.15370191         nan         nan         nan -0.24094121 -0.14262744\n",
      " -0.15767067         nan -0.15547621         nan -0.14300085 -0.21103546\n",
      " -0.15789616         nan -0.15976411         nan         nan         nan\n",
      "         nan -0.15223167 -0.15845834 -0.16380307 -0.14453988         nan\n",
      "         nan -0.18311529 -0.39992264 -0.15023062         nan         nan\n",
      "         nan -0.14418759         nan         nan         nan         nan\n",
      "         nan         nan -0.22477037 -0.14513527 -0.18039954         nan\n",
      "         nan -0.37304496         nan         nan -0.14358613         nan\n",
      "         nan         nan         nan         nan -0.21252351         nan\n",
      "         nan -0.15190416 -0.15403906         nan         nan -0.14512288\n",
      " -0.22142887 -0.2372051  -0.19114386         nan -0.14475674         nan\n",
      "         nan -0.39992264 -0.14557028 -0.14504606         nan         nan\n",
      " -0.29979827 -0.14640269]\n",
      "  warnings.warn(\n"
     ]
    }
   ],
   "source": [
    "grid_model2 = {'regressor__C': stats.uniform(-1.0,2.0),\n",
    "               'regressor__epsilon': stats.loguniform(0.01, 2),\n",
    "               'regressor__kernel': [\"linear\", \"rbf\"] }\n",
    "\n",
    "search_model2 = RandomizedSearchCV(pipe_baseline_svr, grid_model2,cv = 5, n_iter= 200, scoring=rmsle_log_neg, n_jobs=-1)\n",
    "search_model2.fit(X_train_2, y_log_train_2)\n",
    "\n",
    "rmtree(cachedir)"
   ]
  },
  {
   "cell_type": "code",
   "execution_count": 57,
   "metadata": {
    "hidden": true
   },
   "outputs": [
    {
     "name": "stdout",
     "output_type": "stream",
     "text": [
      "Model 2: rmsle score = 0.14068846755093073, Delta vs baseline = -0.0256306658453318\n",
      "Model 2 best params => {'regressor__C': 0.19062245846789083, 'regressor__epsilon': 0.106579558170773, 'regressor__kernel': 'linear'}\n"
     ]
    }
   ],
   "source": [
    "model2_score = - search_model2.best_score_\n",
    "\n",
    "print(f\"Model 2: rmsle score = {model2_score}, Delta vs baseline = {model2_score - score_baseline}\")\n",
    "print(f\"Model 2 best params => {search_model2.best_params_}\")"
   ]
  },
  {
   "cell_type": "code",
   "execution_count": 60,
   "metadata": {
    "hidden": true
   },
   "outputs": [
    {
     "data": {
      "text/plain": [
       "<matplotlib.legend.Legend at 0x7f884d133f40>"
      ]
     },
     "execution_count": 60,
     "metadata": {},
     "output_type": "execute_result"
    },
    {
     "data": {
      "image/png": "[encoded data removed]",
      "text/plain": [
       "<Figure size 432x288 with 1 Axes>"
      ]
     },
     "metadata": {
      "needs_background": "light"
     },
     "output_type": "display_data"
    }
   ],
   "source": [
    "## Learning curves of search_model2.best_estimator_\n",
    "\n",
    "estimator_model2 = search_model2.best_estimator_\n",
    "\n",
    "train_sizes = [100, 200, 300, 500, 800, 1100]\n",
    "\n",
    "# Get train scores, train sizes, and validation scores using `learning_curve`\n",
    "\n",
    "y_log_train = pd.Series(y_train).apply(lambda x: math.log(x))\n",
    "\n",
    "train_sizes, train_scores, test_scores = \\\n",
    "         learning_curve(estimator=estimator_model2, X=X_train, y=y_log_train, \n",
    "                        scoring=rmsle_log_neg, train_sizes=train_sizes, cv=5)\n",
    "\n",
    "# Take the mean of cross-validated train scores and validation scores\n",
    "\n",
    "train_scores_mean = np.mean(train_scores, axis=1)\n",
    "test_scores_mean = np.mean(test_scores, axis=1)\n",
    "\n",
    "plt.plot(train_sizes, train_scores_mean, label = 'Training score')\n",
    "plt.plot(train_sizes, test_scores_mean, label = 'Test score')\n",
    "plt.ylabel('rmsle_log_neg score', fontsize = 14)\n",
    "plt.xlabel('Training set size', fontsize = 14)\n",
    "plt.title('Learning curves', fontsize = 18, y = 1.03)\n",
    "plt.legend()"
   ]
  },
  {
   "cell_type": "markdown",
   "metadata": {
    "heading_collapsed": true
   },
   "source": [
    "### Model 2.b   AdaBoost (Support Vector Regression)\n",
    "\n",
    "- Model 2b adaboost: rmsle score = 0.15071633393438555, Delta vs baseline = -0.01560432843102097\n",
    "- Model 2b adaboost best params => {'adaboost__loss': 'exponential', 'adaboost__n_estimators': 10}"
   ]
  },
  {
   "cell_type": "code",
   "execution_count": 61,
   "metadata": {
    "hidden": true
   },
   "outputs": [],
   "source": [
    "# adaboost_base_estimator = SVR with best estimator params  \n",
    "# best.estimator_ does not work as base_estimator for AdaBoost because it is already fitted\n",
    "            \n",
    "adaboost_regressor = AdaBoostRegressor(base_estimator = SVR(kernel=search_model2.best_params_['regressor__kernel'], \n",
    "                                        C=search_model2.best_params_['regressor__C'],\n",
    "                                        epsilon=search_model2.best_params_['regressor__epsilon']))\n",
    "\n",
    "pipe_baseline_adaboost = Pipeline([ ('transformer', preproc_iteration_2),\n",
    "                                    ('adaboost',adaboost_regressor)], memory=cachedir)\n",
    "\n",
    "adaboost_parameters = {'adaboost__n_estimators': (10, 20, 30, 40, 50),\n",
    "                       'adaboost__loss': [\"linear\", \"square\", \"exponential\"]}\n",
    "\n",
    "search_adaboost = GridSearchCV(pipe_baseline_adaboost, adaboost_parameters, cv = 5, \n",
    "                               scoring=rmsle_log_neg, n_jobs=-1)\n",
    "search_adaboost.fit(X_train, y_log_train)\n",
    "\n",
    "rmtree(cachedir)"
   ]
  },
  {
   "cell_type": "code",
   "execution_count": 63,
   "metadata": {
    "hidden": true
   },
   "outputs": [
    {
     "name": "stdout",
     "output_type": "stream",
     "text": [
      "Model 2 adaboost: rmsle score = 0.15450689017673153, Delta vs baseline = -0.011812243219531005\n",
      "Model 2 adaboost best params => {'adaboost__loss': 'exponential', 'adaboost__n_estimators': 10}\n"
     ]
    }
   ],
   "source": [
    "adaboost_score = - search_adaboost.best_score_\n",
    "\n",
    "print(f\"Model 2 adaboost: rmsle score = {adaboost_score}, Delta vs baseline = {adaboost_score - score_baseline}\")\n",
    "print(f\"Model 2 adaboost best params => {search_adaboost.best_params_}\")"
   ]
  },
  {
   "cell_type": "markdown",
   "metadata": {
    "heading_collapsed": true
   },
   "source": [
    "### Model 3 : Decision Tree Regression\n",
    "\n",
    "- Model 3: rmsle score = 0.18154549548422536, Delta vs baseline = 0.015224833118818837\n",
    "- Model 3 best params => {'regressor__max_depth': 18, 'regressor__min_samples_leaf': 9}"
   ]
  },
  {
   "cell_type": "code",
   "execution_count": 64,
   "metadata": {
    "hidden": true
   },
   "outputs": [
    {
     "name": "stdout",
     "output_type": "stream",
     "text": [
      "Model 3: rmsle score = 0.18452309320471513, Delta vs baseline = 0.018203959808452602\n"
     ]
    }
   ],
   "source": [
    "pipe_baseline_dtree = Pipeline([ ('transformer', preproc_iteration_2),\n",
    "                    ('regressor', DecisionTreeRegressor(max_depth=15, min_samples_leaf=8)) ],\n",
    "                    memory=cachedir)\n",
    "\n",
    "cv_dtree = cross_validate(pipe_baseline_dtree, X_train_2, y_log_train_2, cv=5, scoring=rmsle_log_neg)\n",
    "\n",
    "rmtree(cachedir)\n",
    "\n",
    "model3_score = - cv_dtree['test_score'].mean() \n",
    "print(f\"Model 3: rmsle score = {model3_score}, Delta vs baseline = {model3_score - score_baseline}\")"
   ]
  },
  {
   "cell_type": "code",
   "execution_count": 65,
   "metadata": {
    "hidden": true
   },
   "outputs": [],
   "source": [
    "grid_model3 = {'regressor__max_depth': stats.randint(5,20),\n",
    "               'regressor__min_samples_leaf': stats.randint(5,10)}\n",
    "\n",
    "search_model3 = RandomizedSearchCV(pipe_baseline_dtree, grid_model3, cv = 5, n_iter= 100, scoring=rmsle_log_neg, n_jobs=-1)\n",
    "\n",
    "search_model3.fit(X_train_2, y_log_train_2)\n",
    "\n",
    "rmtree(cachedir)"
   ]
  },
  {
   "cell_type": "code",
   "execution_count": 66,
   "metadata": {
    "hidden": true
   },
   "outputs": [
    {
     "name": "stdout",
     "output_type": "stream",
     "text": [
      "Model 3: rmsle score = 0.18219600256866017, Delta vs baseline = 0.01587686917239764\n",
      "Model 3 best params => {'regressor__max_depth': 12, 'regressor__min_samples_leaf': 9}\n"
     ]
    }
   ],
   "source": [
    "model3_score = - search_model3.best_score_\n",
    "\n",
    "print(f\"Model 3: rmsle score = {model3_score}, Delta vs baseline = {model3_score - score_baseline}\")\n",
    "print(f\"Model 3 best params => {search_model3.best_params_}\")"
   ]
  },
  {
   "cell_type": "markdown",
   "metadata": {
    "heading_collapsed": true
   },
   "source": [
    "### Model 4 : AdaBoost (DecisionTreeRegressor)\n",
    "\n",
    "- Model 4 adaboost decision tree: rmsle score = 0.13942298626107166, Delta vs baseline = -0.026896147135190868\n",
    "- Model 4 adaboost params \n",
    "> base_estimator = DecisionTreeRegressor(max_depth=20, min_samples_leaf=10), loss=\"square\",n_estimators=50"
   ]
  },
  {
   "cell_type": "code",
   "execution_count": 67,
   "metadata": {
    "hidden": true
   },
   "outputs": [],
   "source": [
    "# adaboost_base_estimator = Decision Tree \n",
    "\n",
    "adaboost_regressor4 = AdaBoostRegressor(base_estimator = DecisionTreeRegressor(max_depth=20, min_samples_leaf=10))\n",
    "\n",
    "pipe_baseline_adaboost4 = Pipeline([ ('transformer', preproc_iteration_2),\n",
    "                                    ('adaboost',adaboost_regressor4)], memory=cachedir)\n",
    "\n",
    "adaboost_parameters4 = {'adaboost__n_estimators': (20, 30, 40, 50),\n",
    "                       'adaboost__loss': [\"linear\", \"square\"]}\n",
    "\n",
    "search_adaboost4 = GridSearchCV(pipe_baseline_adaboost4, adaboost_parameters4, cv = 5, scoring=rmsle_log_neg, n_jobs=-1)\n",
    "\n",
    "search_adaboost4.fit(X_train, y_log_train)\n",
    "\n",
    "rmtree(cachedir)"
   ]
  },
  {
   "cell_type": "code",
   "execution_count": 68,
   "metadata": {
    "hidden": true
   },
   "outputs": [
    {
     "name": "stdout",
     "output_type": "stream",
     "text": [
      "Model 4 adaboost decision tree: rmsle score = 0.13942298626107166, Delta vs baseline = -0.026896147135190868\n",
      "Model 4 adaboost decision tree best params => {'adaboost__loss': 'square', 'adaboost__n_estimators': 50}\n"
     ]
    }
   ],
   "source": [
    "adaboost4_score = - search_adaboost4.best_score_\n",
    "\n",
    "print(f\"Model 4 adaboost decision tree: rmsle score = {adaboost4_score}, Delta vs baseline = {adaboost4_score - score_baseline}\")\n",
    "print(f\"Model 4 adaboost decision tree best params => {search_adaboost4.best_params_}\")"
   ]
  },
  {
   "cell_type": "code",
   "execution_count": 70,
   "metadata": {
    "hidden": true
   },
   "outputs": [
    {
     "data": {
      "text/plain": [
       "<matplotlib.legend.Legend at 0x7f884cf2d280>"
      ]
     },
     "execution_count": 70,
     "metadata": {},
     "output_type": "execute_result"
    },
    {
     "data": {
      "image/png": "[encoded data removed]",
      "text/plain": [
       "<Figure size 432x288 with 1 Axes>"
      ]
     },
     "metadata": {
      "needs_background": "light"
     },
     "output_type": "display_data"
    }
   ],
   "source": [
    "## Learning curves of search_model4.best_estimator_\n",
    "\n",
    "estimator_model4 = search_adaboost4.best_estimator_\n",
    "\n",
    "train_sizes = [100, 200, 300, 500, 800, 1100]\n",
    "\n",
    "# Get train scores, train sizes, and validation scores using `learning_curve`\n",
    "\n",
    "y_log_train = pd.Series(y_train).apply(lambda x: math.log(x))\n",
    "\n",
    "train_sizes, train_scores, test_scores = \\\n",
    "         learning_curve(estimator=estimator_model4, X=X_train, y=y_log_train, \n",
    "                        scoring=rmsle_log_neg, train_sizes=train_sizes, cv=5)\n",
    "\n",
    "# Take the mean of cross-validated train scores and validation scores\n",
    "\n",
    "train_scores_mean = np.mean(train_scores, axis=1)\n",
    "test_scores_mean = np.mean(test_scores, axis=1)\n",
    "\n",
    "plt.plot(train_sizes, train_scores_mean, label = 'Training score')\n",
    "plt.plot(train_sizes, test_scores_mean, label = 'Test score')\n",
    "plt.ylabel('rmsle_log_neg score', fontsize = 14)\n",
    "plt.xlabel('Training set size', fontsize = 14)\n",
    "plt.title('Learning curves', fontsize = 18, y = 1.03)\n",
    "plt.legend()"
   ]
  },
  {
   "cell_type": "markdown",
   "metadata": {
    "heading_collapsed": true
   },
   "source": [
    "### Model 5 : GradientBoostingRegressor\n",
    "\n",
    "- Model 5: rmsle score = 0.12401223231779508, Delta vs baseline = -0.04230690107846745\n",
    "- Model 5 best params => {'regressor__alpha': 0.15202758438591388, 'regressor__loss': 'ls', 'regressor__max_depth': 4, 'regressor__n_estimators': 191}"
   ]
  },
  {
   "cell_type": "code",
   "execution_count": 74,
   "metadata": {
    "hidden": true
   },
   "outputs": [
    {
     "name": "stdout",
     "output_type": "stream",
     "text": [
      "Model 5: rmsle score = 0.12776962439501618, Delta vs baseline = -0.038549509001246346\n"
     ]
    }
   ],
   "source": [
    "pipe_baseline_gboost = Pipeline([ ('transformer', preproc_iteration_2),\n",
    "                                ('regressor', GradientBoostingRegressor(n_estimators=100)) ],\n",
    "                               memory=cachedir)\n",
    "\n",
    "cv_gboost = cross_validate(pipe_baseline_gboost, X_train_2, y_log_train_2, cv=5, scoring=rmsle_log_neg)\n",
    "\n",
    "rmtree(cachedir)\n",
    "\n",
    "model5_score = - cv_gboost['test_score'].mean() \n",
    "print(f\"Model 5: rmsle score = {model5_score}, Delta vs baseline = {model5_score - score_baseline}\")"
   ]
  },
  {
   "cell_type": "code",
   "execution_count": 75,
   "metadata": {
    "hidden": true
   },
   "outputs": [
    {
     "name": "stderr",
     "output_type": "stream",
     "text": [
      "/home/jm/.pyenv/versions/3.8.6/envs/lewagon/lib/python3.8/site-packages/sklearn/model_selection/_search.py:918: UserWarning: One or more of the test scores are non-finite: [        nan         nan         nan -0.13336791 -0.13553145         nan\n",
      " -0.12454177 -0.14817269         nan -0.13308843 -0.13569073 -0.13426672\n",
      " -0.13016517 -0.13330789 -0.13624058 -0.13807635 -0.12455666 -0.1250695\n",
      " -0.1247234  -0.12980205 -0.12645439 -0.13164279 -0.13371265 -0.12547521\n",
      " -0.13342046         nan -0.12677607         nan         nan -0.12468609\n",
      "         nan -0.13335475 -0.25194896         nan -0.13345996 -0.13210943\n",
      "         nan -0.14085207 -0.1241711  -0.1315608  -0.14542752 -0.12626468\n",
      "         nan -0.12701493 -0.13333176         nan         nan -0.12582962\n",
      " -0.13403434 -0.12523151 -0.12574104 -0.13345641         nan -0.1345798\n",
      " -0.13610248 -0.1547636  -0.17270021 -0.12585179         nan -0.19877419\n",
      " -0.14805847 -0.13188998 -0.1324485  -0.12631083 -0.13683377         nan\n",
      "         nan -0.1456606          nan -0.1341333  -0.16490744 -0.1271095\n",
      " -0.13749696         nan -0.1334215  -0.15757377         nan -0.16846125\n",
      " -0.17478055         nan -0.13651664 -0.15994486 -0.12605218         nan\n",
      "         nan         nan         nan -0.1259008  -0.12512907 -0.12865069\n",
      " -0.12538109 -0.13232912 -0.13356014 -0.12516424 -0.15592707 -0.12701769\n",
      " -0.15614597         nan -0.12560973         nan -0.13430247 -0.12607521\n",
      " -0.13620523 -0.13443703 -0.12531441 -0.12556622 -0.1323375  -0.12737467\n",
      "         nan -0.13076889         nan -0.12569742 -0.12555274 -0.2296945\n",
      " -0.12798042 -0.16150029 -0.13409316 -0.1275372  -0.13137507 -0.13021748\n",
      " -0.12735644 -0.13246169 -0.12752025 -0.14394656 -0.12501692 -0.12619586\n",
      " -0.12554869         nan         nan -0.12629225 -0.24119985 -0.14859956\n",
      " -0.13353411 -0.13519699 -0.13260988 -0.12593319 -0.12678795 -0.13497225\n",
      " -0.13937505 -0.13355955 -0.13100482 -0.13614609 -0.12568169 -0.13235186\n",
      " -0.12531228 -0.13573123 -0.13633771 -0.15242659 -0.12703998 -0.13199696\n",
      " -0.13388122 -0.12700927 -0.1253468  -0.1273882  -0.13732431         nan\n",
      " -0.13421116 -0.13479721 -0.12538374 -0.12523401         nan -0.12459097\n",
      " -0.13254672 -0.13276567         nan -0.12761841         nan         nan\n",
      "         nan -0.13343487         nan -0.12401223 -0.13000763 -0.12523319\n",
      " -0.17245793 -0.15136184 -0.12531543 -0.12545238 -0.1266395          nan\n",
      " -0.13506957         nan -0.12496739 -0.13209113 -0.16732215         nan\n",
      " -0.12759684 -0.12604457 -0.14916628 -0.12781686 -0.13545654 -0.21798806\n",
      "         nan -0.13935825 -0.13228431 -0.13372943 -0.13107603 -0.13527848\n",
      " -0.16260146 -0.14716845]\n",
      "  warnings.warn(\n"
     ]
    }
   ],
   "source": [
    "grid_model5 = { 'regressor__alpha': stats.loguniform(0.1,2.0),\n",
    "                'regressor__loss': [\"ls\", \"huber\", \"quantile\"],\n",
    "                'regressor__max_depth': [3,4,5],\n",
    "                'regressor__n_estimators': stats.randint(100,200)}\n",
    "    \n",
    "search_model5 = RandomizedSearchCV(pipe_baseline_gboost, grid_model5, cv = 5, n_iter= 200, scoring=rmsle_log_neg, n_jobs=-1)\n",
    "\n",
    "search_model5.fit(X_train_2, y_log_train_2)\n",
    "\n",
    "rmtree(cachedir)"
   ]
  },
  {
   "cell_type": "code",
   "execution_count": 76,
   "metadata": {
    "hidden": true
   },
   "outputs": [
    {
     "name": "stdout",
     "output_type": "stream",
     "text": [
      "Model 5: rmsle score = 0.12401223231779508, Delta vs baseline = -0.04230690107846745\n",
      "Model 5 best params => {'regressor__alpha': 0.15202758438591388, 'regressor__loss': 'ls', 'regressor__max_depth': 4, 'regressor__n_estimators': 191}\n"
     ]
    }
   ],
   "source": [
    "model5_score = - search_model5.best_score_\n",
    "\n",
    "print(f\"Model 5: rmsle score = {model5_score}, Delta vs baseline = {model5_score - score_baseline}\")\n",
    "print(f\"Model 5 best params => {search_model5.best_params_}\")"
   ]
  },
  {
   "cell_type": "markdown",
   "metadata": {
    "heading_collapsed": true
   },
   "source": [
    "### Model 6 : xgboost\n",
    "- Model 6: rmsle score = 0.12891671585694828, Delta vs baseline = -0.03740241753931425\n",
    "- n_estimators=300, learning_rate=0.05"
   ]
  },
  {
   "cell_type": "code",
   "execution_count": 126,
   "metadata": {
    "hidden": true
   },
   "outputs": [
    {
     "name": "stdout",
     "output_type": "stream",
     "text": [
      "Model 6: rmsle score = 0.12891671585694828, Delta vs baseline = -0.03740241753931425\n"
     ]
    }
   ],
   "source": [
    "pipe_baseline_xgboost = Pipeline([ ('transformer', preproc_iteration_2),\n",
    "                                ('regressor', XGBRegressor(n_estimators=300, learning_rate=0.05)) ],\n",
    "                                 memory=cachedir)\n",
    "\n",
    "cv_xgboost = cross_validate(pipe_baseline_xgboost, X_train_2, y_log_train_2, cv=5, scoring=rmsle_log_neg)\n",
    "\n",
    "rmtree(cachedir)\n",
    "\n",
    "model6_score = - cv_xgboost['test_score'].mean() \n",
    "print(f\"Model 6: rmsle score = {model6_score}, Delta vs baseline = {model6_score - score_baseline}\")"
   ]
  },
  {
   "cell_type": "code",
   "execution_count": 95,
   "metadata": {
    "hidden": true
   },
   "outputs": [],
   "source": [
    "# grid_model6 = { 'regressor__learning_rate': stats.loguniform(0.01, 1.5),\n",
    "#                 'regressor__n_estimators': stats.randint(250,500)}\n",
    "\n",
    "# search_model6 = RandomizedSearchCV(pipe_baseline_xgboost, grid_model6, cv = 5, n_iter=100, scoring=rmsle_log_neg, n_jobs=-1)\n",
    "\n",
    "# search_model6.fit(X_train_2, y_log_train_2)\n",
    "\n",
    "# rmtree(cachedir)"
   ]
  },
  {
   "cell_type": "code",
   "execution_count": 128,
   "metadata": {
    "hidden": true
   },
   "outputs": [],
   "source": [
    "# model6_score = - search_model6.best_score_\n",
    "\n",
    "# print(f\"Model 6: rmsle score = {model6_score}, Delta vs baseline = {model6_score - score_baseline}\")\n",
    "# print(f\"Model 6 best params => {search_model6.best_params_}\")"
   ]
  },
  {
   "attachments": {
    "Model7a.PNG": {
     "image/png": "[encoded data removed]"
    }
   },
   "cell_type": "markdown",
   "metadata": {
    "heading_collapsed": true
   },
   "source": [
    "# Making the prediction with VotingRegressor\n",
    "\n",
    ">![Model7a.PNG](attachment:Model7a.PNG)\n",
    ">\n",
    ">|Weight 7a|Weight 7b|Stack of models|Params|\n",
    ">| :-: | :-: | :- | :- |\n",
    ">|1|2|XGBRegressor()|n_estimators=300, learning_rate=0.05|\n",
    ">|1|3|GradientBoostingRegressor()|n_estimators=191, max_depth=4, loss=\"ls\", alpha=0.15202758438591388|\n",
    ">|1|2|AdaBoostRegressor()|base_estimator = DecisionTreeRegressor(max_depth=20, min_samples_leaf=10),                      loss=\"square\",n_estimators=50|\n",
    ">|1|2|SVR()|C=0.24626481244539566, epsilon=0.08747649515484607, kernel=\"linear\"|\n",
    ">|1|1|Ridge()|alpha=2.2668622173975823|\n",
    ">\n",
    ">**Pipeline 7a - uniform weights**\n",
    ">- rmsle score = 0.12425934704510803, Delta vs baseline = -0.042059786351154496 (Cross Validation of the training data)\n",
    ">\n",
    ">**Pipeline 7b - the better rmsle score the higher weight**\n",
    ">- rmsle score = 0.12221600304529381, Delta vs baseline = -0.04410313035096872 (Cross Validation of the training data)\n",
    ">- kaggle score = 0.12761 (Test data)"
   ]
  },
  {
   "cell_type": "code",
   "execution_count": 129,
   "metadata": {
    "hidden": true
   },
   "outputs": [],
   "source": [
    "# Stacking the models\n",
    "\n",
    "ridge = Ridge(alpha=2.2668622173975823)\n",
    "\n",
    "svm = SVR(C=0.24626481244539566, epsilon=0.08747649515484607, kernel=\"linear\")\n",
    "\n",
    "adaboost = AdaBoostRegressor(base_estimator = DecisionTreeRegressor(max_depth=20, min_samples_leaf=10), \n",
    "                             loss=\"square\",n_estimators=50)\n",
    "\n",
    "gboost = GradientBoostingRegressor(n_estimators=191, max_depth=4, loss=\"ls\", alpha=0.15202758438591388)\n",
    "\n",
    "xgboost = XGBRegressor(n_estimators=300, learning_rate=0.05)"
   ]
  },
  {
   "cell_type": "code",
   "execution_count": 130,
   "metadata": {
    "hidden": true
   },
   "outputs": [
    {
     "name": "stdout",
     "output_type": "stream",
     "text": [
      "Model 7a: rmsle score = 0.12425934704510803, Delta vs baseline = -0.042059786351154496\n"
     ]
    }
   ],
   "source": [
    "# Voting Regressor 7a - uniform weights\n",
    "\n",
    "model7a = VotingRegressor( estimators = [(\"xgboost\", xgboost),(\"gboost\", gboost),(\"adaboost\", adaboost),(\"svm\", svm), \n",
    "                                        (\"ridge\", ridge)], weights = [1,1,1,1,1], n_jobs=-1 )\n",
    "\n",
    "pipe_baseline_stacking_7a = Pipeline([ ('transformer', preproc_iteration_2),\n",
    "                                    ('regressor', model7a ) ], memory=cachedir)\n",
    "\n",
    "cv_stacking_7a = cross_validate(pipe_baseline_stacking_7a, X_train_2, y_log_train_2, cv=5,scoring=rmsle_log_neg)\n",
    "\n",
    "rmtree(cachedir)\n",
    "\n",
    "model7a_score = - cv_stacking_7a['test_score'].mean() \n",
    "print(f\"Model 7a: rmsle score = {model7a_score}, Delta vs baseline = {model7a_score - score_baseline}\")"
   ]
  },
  {
   "cell_type": "code",
   "execution_count": 136,
   "metadata": {
    "hidden": true
   },
   "outputs": [
    {
     "name": "stdout",
     "output_type": "stream",
     "text": [
      "Model 7b: rmsle score = 0.12221600304529381, Delta vs baseline = -0.04410313035096872\n"
     ]
    }
   ],
   "source": [
    "# Voting Regressor 7b\n",
    "\n",
    "model7b = VotingRegressor( estimators = [(\"xgboost\", xgboost),(\"gboost\", gboost),(\"adaboost\", adaboost),(\"svm\", svm), \n",
    "                                        (\"ridge\", ridge)], weights = [2,3,2,2,1], n_jobs=-1 )\n",
    "\n",
    "pipe_baseline_stacking_7b = Pipeline([ ('transformer', preproc_iteration_2),\n",
    "                                    ('regressor', model7b ) ], memory=cachedir)\n",
    "\n",
    "cv_stacking_7b = cross_validate(pipe_baseline_stacking_7b, X_train_2, y_log_train_2, cv=5,scoring=rmsle_log_neg)\n",
    "\n",
    "rmtree(cachedir)\n",
    "\n",
    "model7b_score = - cv_stacking_7b['test_score'].mean() \n",
    "print(f\"Model 7b: rmsle score = {model7b_score}, Delta vs baseline = {model7b_score - score_baseline}\")"
   ]
  },
  {
   "cell_type": "code",
   "execution_count": 137,
   "metadata": {
    "hidden": true
   },
   "outputs": [
    {
     "name": "stdout",
     "output_type": "stream",
     "text": [
      "---------------------------\n",
      "Pipeline for the prediction\n",
      "---------------------------\n"
     ]
    },
    {
     "data": {
      "text/html": [
       "<style>div.sk-top-container {color: black;background-color: white;}div.sk-toggleable {background-color: white;}label.sk-toggleable__label {cursor: pointer;display: block;width: 100%;margin-bottom: 0;padding: 0.2em 0.3em;box-sizing: border-box;text-align: center;}div.sk-toggleable__content {max-height: 0;max-width: 0;overflow: hidden;text-align: left;background-color: #f0f8ff;}div.sk-toggleable__content pre {margin: 0.2em;color: black;border-radius: 0.25em;background-color: #f0f8ff;}input.sk-toggleable__control:checked~div.sk-toggleable__content {max-height: 200px;max-width: 100%;overflow: auto;}div.sk-estimator input.sk-toggleable__control:checked~label.sk-toggleable__label {background-color: #d4ebff;}div.sk-label input.sk-toggleable__control:checked~label.sk-toggleable__label {background-color: #d4ebff;}input.sk-hidden--visually {border: 0;clip: rect(1px 1px 1px 1px);clip: rect(1px, 1px, 1px, 1px);height: 1px;margin: -1px;overflow: hidden;padding: 0;position: absolute;width: 1px;}div.sk-estimator {font-family: monospace;background-color: #f0f8ff;margin: 0.25em 0.25em;border: 1px dotted black;border-radius: 0.25em;box-sizing: border-box;}div.sk-estimator:hover {background-color: #d4ebff;}div.sk-parallel-item::after {content: \"\";width: 100%;border-bottom: 1px solid gray;flex-grow: 1;}div.sk-label:hover label.sk-toggleable__label {background-color: #d4ebff;}div.sk-serial::before {content: \"\";position: absolute;border-left: 1px solid gray;box-sizing: border-box;top: 2em;bottom: 0;left: 50%;}div.sk-serial {display: flex;flex-direction: column;align-items: center;background-color: white;}div.sk-item {z-index: 1;}div.sk-parallel {display: flex;align-items: stretch;justify-content: center;background-color: white;}div.sk-parallel-item {display: flex;flex-direction: column;position: relative;background-color: white;}div.sk-parallel-item:first-child::after {align-self: flex-end;width: 50%;}div.sk-parallel-item:last-child::after {align-self: flex-start;width: 50%;}div.sk-parallel-item:only-child::after {width: 0;}div.sk-dashed-wrapped {border: 1px dashed gray;margin: 0.2em;box-sizing: border-box;padding-bottom: 0.1em;background-color: white;position: relative;}div.sk-label label {font-family: monospace;font-weight: bold;background-color: white;display: inline-block;line-height: 1.2em;}div.sk-label-container {position: relative;z-index: 2;text-align: center;}div.sk-container {display: inline-block;position: relative;}</style><div class=\"sk-top-container\"><div class=\"sk-container\"><div class=\"sk-item sk-dashed-wrapped\"><div class=\"sk-label-container\"><div class=\"sk-label sk-toggleable\"><input class=\"sk-toggleable__control sk-hidden--visually\" id=\"3f6977d8-47de-4b90-835b-1c181ba79e36\" type=\"checkbox\" ><label class=\"sk-toggleable__label\" for=\"3f6977d8-47de-4b90-835b-1c181ba79e36\">Pipeline</label><div class=\"sk-toggleable__content\"><pre>Pipeline(memory='/tmp/tmp4dt566r5',\n",
       "         steps=[('transformer',\n",
       "                 Pipeline(memory='/tmp/tmp4dt566r5',\n",
       "                          steps=[('transformer',\n",
       "                                  ColumnTransformer(transformers=[('cat_ord_encoding',\n",
       "                                                                   Pipeline(memory='/tmp/tmp4dt566r5',\n",
       "                                                                            steps=[('cat_imputer',\n",
       "                                                                                    SimpleImputer(strategy='most_frequent')),\n",
       "                                                                                   ('cat_encoder',\n",
       "                                                                                    OrdinalEncoder(categories=[['IR3',\n",
       "                                                                                                                'IR2',\n",
       "                                                                                                                'IR1',\n",
       "                                                                                                                'Reg'],\n",
       "                                                                                                               ['Low',\n",
       "                                                                                                                'HLS',\n",
       "                                                                                                                'Bnk'...\n",
       "                                              GradientBoostingRegressor(alpha=0.15202758438591388,\n",
       "                                                                        max_depth=4,\n",
       "                                                                        n_estimators=191)),\n",
       "                                             ('adaboost',\n",
       "                                              AdaBoostRegressor(base_estimator=DecisionTreeRegressor(max_depth=20,\n",
       "                                                                                                     min_samples_leaf=10),\n",
       "                                                                loss='square')),\n",
       "                                             ('svm',\n",
       "                                              SVR(C=0.24626481244539566,\n",
       "                                                  epsilon=0.08747649515484607,\n",
       "                                                  kernel='linear')),\n",
       "                                             ('ridge',\n",
       "                                              Ridge(alpha=2.2668622173975823))],\n",
       "                                 n_jobs=-1, weights=[2, 3, 2, 2, 1]))])</pre></div></div></div><div class=\"sk-serial\"><div class=\"sk-item\"><div class=\"sk-label-container\"><div class=\"sk-label sk-toggleable\"><input class=\"sk-toggleable__control sk-hidden--visually\" id=\"d8878078-6ca0-49e4-ad10-359026ccc959\" type=\"checkbox\" ><label class=\"sk-toggleable__label\" for=\"d8878078-6ca0-49e4-ad10-359026ccc959\">transformer: Pipeline</label><div class=\"sk-toggleable__content\"><pre>Pipeline(memory='/tmp/tmp4dt566r5',\n",
       "         steps=[('transformer',\n",
       "                 ColumnTransformer(transformers=[('cat_ord_encoding',\n",
       "                                                  Pipeline(memory='/tmp/tmp4dt566r5',\n",
       "                                                           steps=[('cat_imputer',\n",
       "                                                                   SimpleImputer(strategy='most_frequent')),\n",
       "                                                                  ('cat_encoder',\n",
       "                                                                   OrdinalEncoder(categories=[['IR3',\n",
       "                                                                                               'IR2',\n",
       "                                                                                               'IR1',\n",
       "                                                                                               'Reg'],\n",
       "                                                                                              ['Low',\n",
       "                                                                                               'HLS',\n",
       "                                                                                               'Bnk',\n",
       "                                                                                               'Lvl'],\n",
       "                                                                                              ['Sev',\n",
       "                                                                                               'Mod',\n",
       "                                                                                               'Gtl'],\n",
       "                                                                                              ['Po',\n",
       "                                                                                               'Fa',\n",
       "                                                                                               'TA',\n",
       "                                                                                               'Gd',\n",
       "                                                                                               'Ex'],\n",
       "                                                                                              ['...\n",
       "                                                   '2ndFlrSF', 'LowQualFinSF',\n",
       "                                                   'GrLivArea', 'BsmtFullBath',\n",
       "                                                   'BsmtHalfBath', 'FullBath',\n",
       "                                                   'HalfBath', 'BedroomAbvGr',\n",
       "                                                   'KitchenAbvGr',\n",
       "                                                   'TotRmsAbvGrd', 'Fireplaces',\n",
       "                                                   'GarageCars', 'GarageArea',\n",
       "                                                   'WoodDeckSF', 'OpenPorchSF',\n",
       "                                                   'EnclosedPorch', '3SsnPorch',\n",
       "                                                   'ScreenPorch', ...])])),\n",
       "                ('selector',\n",
       "                 SelectPercentile(percentile=80,\n",
       "                                  score_func=<function mutual_info_regression at 0x7f87dff9e550>))])</pre></div></div></div><div class=\"sk-serial\"><div class=\"sk-item sk-dashed-wrapped\"><div class=\"sk-label-container\"><div class=\"sk-label sk-toggleable\"><input class=\"sk-toggleable__control sk-hidden--visually\" id=\"6d488c15-922b-4d62-8b37-9d0309a2b6db\" type=\"checkbox\" ><label class=\"sk-toggleable__label\" for=\"6d488c15-922b-4d62-8b37-9d0309a2b6db\">transformer: ColumnTransformer</label><div class=\"sk-toggleable__content\"><pre>ColumnTransformer(transformers=[('cat_ord_encoding',\n",
       "                                 Pipeline(memory='/tmp/tmp4dt566r5',\n",
       "                                          steps=[('cat_imputer',\n",
       "                                                  SimpleImputer(strategy='most_frequent')),\n",
       "                                                 ('cat_encoder',\n",
       "                                                  OrdinalEncoder(categories=[['IR3',\n",
       "                                                                              'IR2',\n",
       "                                                                              'IR1',\n",
       "                                                                              'Reg'],\n",
       "                                                                             ['Low',\n",
       "                                                                              'HLS',\n",
       "                                                                              'Bnk',\n",
       "                                                                              'Lvl'],\n",
       "                                                                             ['Sev',\n",
       "                                                                              'Mod',\n",
       "                                                                              'Gtl'],\n",
       "                                                                             ['Po',\n",
       "                                                                              'Fa',\n",
       "                                                                              'TA',\n",
       "                                                                              'Gd',\n",
       "                                                                              'Ex'],\n",
       "                                                                             ['Po',\n",
       "                                                                              'Fa',\n",
       "                                                                              'TA',\n",
       "                                                                              'Gd',\n",
       "                                                                              'Ex'],\n",
       "                                                                             ['NA',\n",
       "                                                                              'Po',\n",
       "                                                                              'Fa',\n",
       "                                                                              'TA',\n",
       "                                                                              'Gd',\n",
       "                                                                              'Ex'],...\n",
       "                                  'OverallCond', 'YearBuilt', 'YearRemodAdd',\n",
       "                                  'BsmtFinSF1', 'BsmtFinSF2', 'BsmtUnfSF',\n",
       "                                  'TotalBsmtSF', '1stFlrSF', '2ndFlrSF',\n",
       "                                  'LowQualFinSF', 'GrLivArea', 'BsmtFullBath',\n",
       "                                  'BsmtHalfBath', 'FullBath', 'HalfBath',\n",
       "                                  'BedroomAbvGr', 'KitchenAbvGr',\n",
       "                                  'TotRmsAbvGrd', 'Fireplaces', 'GarageCars',\n",
       "                                  'GarageArea', 'WoodDeckSF', 'OpenPorchSF',\n",
       "                                  'EnclosedPorch', '3SsnPorch', 'ScreenPorch', ...])])</pre></div></div></div><div class=\"sk-parallel\"><div class=\"sk-parallel-item\"><div class=\"sk-item\"><div class=\"sk-label-container\"><div class=\"sk-label sk-toggleable\"><input class=\"sk-toggleable__control sk-hidden--visually\" id=\"cff6ca83-1946-4efd-8736-6b227e3fa815\" type=\"checkbox\" ><label class=\"sk-toggleable__label\" for=\"cff6ca83-1946-4efd-8736-6b227e3fa815\">cat_ord_encoding</label><div class=\"sk-toggleable__content\"><pre>['LotShape', 'LandContour', 'LandSlope', 'ExterQual', 'ExterCond', 'BsmtQual', 'BsmtCond', 'BsmtFinType1', 'BsmtFinType2', 'HeatingQC', 'KitchenQual', 'CentralAir', 'GarageQual', 'GarageCond', 'GarageFinish', 'PavedDrive']</pre></div></div></div><div class=\"sk-serial\"><div class=\"sk-item\"><div class=\"sk-serial\"><div class=\"sk-item\"><div class=\"sk-estimator sk-toggleable\"><input class=\"sk-toggleable__control sk-hidden--visually\" id=\"b57c20ae-eeea-410b-a512-8420e23b838e\" type=\"checkbox\" ><label class=\"sk-toggleable__label\" for=\"b57c20ae-eeea-410b-a512-8420e23b838e\">SimpleImputer</label><div class=\"sk-toggleable__content\"><pre>SimpleImputer(strategy='most_frequent')</pre></div></div></div><div class=\"sk-item\"><div class=\"sk-estimator sk-toggleable\"><input class=\"sk-toggleable__control sk-hidden--visually\" id=\"e1c82c2f-ea6a-4a56-9703-4a1df35453b1\" type=\"checkbox\" ><label class=\"sk-toggleable__label\" for=\"e1c82c2f-ea6a-4a56-9703-4a1df35453b1\">OrdinalEncoder</label><div class=\"sk-toggleable__content\"><pre>OrdinalEncoder(categories=[['IR3', 'IR2', 'IR1', 'Reg'],\n",
       "                           ['Low', 'HLS', 'Bnk', 'Lvl'], ['Sev', 'Mod', 'Gtl'],\n",
       "                           ['Po', 'Fa', 'TA', 'Gd', 'Ex'],\n",
       "                           ['Po', 'Fa', 'TA', 'Gd', 'Ex'],\n",
       "                           ['NA', 'Po', 'Fa', 'TA', 'Gd', 'Ex'],\n",
       "                           ['NA', 'Po', 'Fa', 'TA', 'Gd', 'Ex'],\n",
       "                           ['NA', 'Unf', 'LwQ', 'Rec', 'BLQ', 'ALQ', 'GLQ'],\n",
       "                           ['NA', 'Unf', 'LwQ', 'Rec', 'BLQ', 'ALQ', 'GLQ'],\n",
       "                           ['Po', 'Fa', 'TA', 'Gd', 'Ex'],\n",
       "                           ['Po', 'Fa', 'TA', 'Gd', 'Ex'], ['N', 'Y'],\n",
       "                           ['NA', 'Po', 'Fa', 'TA', 'Gd', 'Ex'],\n",
       "                           ['NA', 'Po', 'Fa', 'TA', 'Gd', 'Ex'],\n",
       "                           ['NA', 'Unf', 'RFn', 'Fin'], ['N', 'P', 'Y']],\n",
       "               handle_unknown='use_encoded_value', unknown_value=-1)</pre></div></div></div></div></div></div></div></div><div class=\"sk-parallel-item\"><div class=\"sk-item\"><div class=\"sk-label-container\"><div class=\"sk-label sk-toggleable\"><input class=\"sk-toggleable__control sk-hidden--visually\" id=\"8a8fbf7a-5350-46bc-b3b1-cf8d6c22d6f1\" type=\"checkbox\" ><label class=\"sk-toggleable__label\" for=\"8a8fbf7a-5350-46bc-b3b1-cf8d6c22d6f1\">cat_OHE_encoding</label><div class=\"sk-toggleable__content\"><pre>['MSZoning', 'Street', 'Utilities', 'LotConfig', 'BldgType', 'RoofStyle', 'MasVnrType', 'Foundation', 'BsmtExposure', 'Heating', 'Electrical', 'GarageType', 'SaleCondition']</pre></div></div></div><div class=\"sk-serial\"><div class=\"sk-item\"><div class=\"sk-serial\"><div class=\"sk-item\"><div class=\"sk-estimator sk-toggleable\"><input class=\"sk-toggleable__control sk-hidden--visually\" id=\"e7388c41-d5c7-4526-8838-8673614c8c09\" type=\"checkbox\" ><label class=\"sk-toggleable__label\" for=\"e7388c41-d5c7-4526-8838-8673614c8c09\">SimpleImputer</label><div class=\"sk-toggleable__content\"><pre>SimpleImputer(strategy='most_frequent')</pre></div></div></div><div class=\"sk-item\"><div class=\"sk-estimator sk-toggleable\"><input class=\"sk-toggleable__control sk-hidden--visually\" id=\"7b8bf8e4-22ff-4091-aee2-d680fade76fe\" type=\"checkbox\" ><label class=\"sk-toggleable__label\" for=\"7b8bf8e4-22ff-4091-aee2-d680fade76fe\">OneHotEncoder</label><div class=\"sk-toggleable__content\"><pre>OneHotEncoder(handle_unknown='ignore', sparse=False)</pre></div></div></div></div></div></div></div></div><div class=\"sk-parallel-item\"><div class=\"sk-item\"><div class=\"sk-label-container\"><div class=\"sk-label sk-toggleable\"><input class=\"sk-toggleable__control sk-hidden--visually\" id=\"251c76cf-8982-4afd-b95e-39371799dd51\" type=\"checkbox\" ><label class=\"sk-toggleable__label\" for=\"251c76cf-8982-4afd-b95e-39371799dd51\">num_tranformation</label><div class=\"sk-toggleable__content\"><pre>['Id', 'MSSubClass', 'LotArea', 'OverallQual', 'OverallCond', 'YearBuilt', 'YearRemodAdd', 'BsmtFinSF1', 'BsmtFinSF2', 'BsmtUnfSF', 'TotalBsmtSF', '1stFlrSF', '2ndFlrSF', 'LowQualFinSF', 'GrLivArea', 'BsmtFullBath', 'BsmtHalfBath', 'FullBath', 'HalfBath', 'BedroomAbvGr', 'KitchenAbvGr', 'TotRmsAbvGrd', 'Fireplaces', 'GarageCars', 'GarageArea', 'WoodDeckSF', 'OpenPorchSF', 'EnclosedPorch', '3SsnPorch', 'ScreenPorch', 'PoolArea', 'MiscVal', 'MoSold', 'YrSold', 'LotFrontage', 'MasVnrArea', 'GarageYrBlt']</pre></div></div></div><div class=\"sk-serial\"><div class=\"sk-item\"><div class=\"sk-serial\"><div class=\"sk-item\"><div class=\"sk-estimator sk-toggleable\"><input class=\"sk-toggleable__control sk-hidden--visually\" id=\"2478268e-118e-41d0-b701-eff0af534e5c\" type=\"checkbox\" ><label class=\"sk-toggleable__label\" for=\"2478268e-118e-41d0-b701-eff0af534e5c\">SimpleImputer</label><div class=\"sk-toggleable__content\"><pre>SimpleImputer()</pre></div></div></div><div class=\"sk-item\"><div class=\"sk-estimator sk-toggleable\"><input class=\"sk-toggleable__control sk-hidden--visually\" id=\"366ae794-e1fc-40c2-8b4f-afccbb545399\" type=\"checkbox\" ><label class=\"sk-toggleable__label\" for=\"366ae794-e1fc-40c2-8b4f-afccbb545399\">MinMaxScaler</label><div class=\"sk-toggleable__content\"><pre>MinMaxScaler()</pre></div></div></div></div></div></div></div></div></div></div><div class=\"sk-item\"><div class=\"sk-estimator sk-toggleable\"><input class=\"sk-toggleable__control sk-hidden--visually\" id=\"c42f3990-4c6f-47aa-a402-844d377aca00\" type=\"checkbox\" ><label class=\"sk-toggleable__label\" for=\"c42f3990-4c6f-47aa-a402-844d377aca00\">SelectPercentile</label><div class=\"sk-toggleable__content\"><pre>SelectPercentile(percentile=80,\n",
       "                 score_func=<function mutual_info_regression at 0x7f87dff9e550>)</pre></div></div></div></div></div><div class=\"sk-item sk-dashed-wrapped\"><div class=\"sk-label-container\"><div class=\"sk-label sk-toggleable\"><input class=\"sk-toggleable__control sk-hidden--visually\" id=\"67383ff2-b67d-420f-b125-8e258aae888a\" type=\"checkbox\" ><label class=\"sk-toggleable__label\" for=\"67383ff2-b67d-420f-b125-8e258aae888a\">regressor: VotingRegressor</label><div class=\"sk-toggleable__content\"><pre>VotingRegressor(estimators=[('xgboost',\n",
       "                             XGBRegressor(base_score=None, booster=None,\n",
       "                                          colsample_bylevel=None,\n",
       "                                          colsample_bynode=None,\n",
       "                                          colsample_bytree=None, gamma=None,\n",
       "                                          gpu_id=None, importance_type='gain',\n",
       "                                          interaction_constraints=None,\n",
       "                                          learning_rate=0.05,\n",
       "                                          max_delta_step=None, max_depth=None,\n",
       "                                          min_child_weight=None, missing=nan,\n",
       "                                          monotone_constraints=None,\n",
       "                                          n_estimators=...\n",
       "                             GradientBoostingRegressor(alpha=0.15202758438591388,\n",
       "                                                       max_depth=4,\n",
       "                                                       n_estimators=191)),\n",
       "                            ('adaboost',\n",
       "                             AdaBoostRegressor(base_estimator=DecisionTreeRegressor(max_depth=20,\n",
       "                                                                                    min_samples_leaf=10),\n",
       "                                               loss='square')),\n",
       "                            ('svm',\n",
       "                             SVR(C=0.24626481244539566,\n",
       "                                 epsilon=0.08747649515484607,\n",
       "                                 kernel='linear')),\n",
       "                            ('ridge', Ridge(alpha=2.2668622173975823))],\n",
       "                n_jobs=-1, weights=[2, 3, 2, 2, 1])</pre></div></div></div><div class=\"sk-parallel\"><div class=\"sk-parallel-item\"><div class=\"sk-item\"><div class=\"sk-label-container\"><div class=\"sk-label sk-toggleable\"><label>xgboost</label></div></div><div class=\"sk-serial\"><div class=\"sk-item\"><div class=\"sk-estimator sk-toggleable\"><input class=\"sk-toggleable__control sk-hidden--visually\" id=\"944f4163-3b4f-4eff-9e59-ff701fed019e\" type=\"checkbox\" ><label class=\"sk-toggleable__label\" for=\"944f4163-3b4f-4eff-9e59-ff701fed019e\">XGBRegressor</label><div class=\"sk-toggleable__content\"><pre>XGBRegressor(base_score=None, booster=None, colsample_bylevel=None,\n",
       "             colsample_bynode=None, colsample_bytree=None, gamma=None,\n",
       "             gpu_id=None, importance_type='gain', interaction_constraints=None,\n",
       "             learning_rate=0.05, max_delta_step=None, max_depth=None,\n",
       "             min_child_weight=None, missing=nan, monotone_constraints=None,\n",
       "             n_estimators=300, n_jobs=None, num_parallel_tree=None,\n",
       "             random_state=None, reg_alpha=None, reg_lambda=None,\n",
       "             scale_pos_weight=None, subsample=None, tree_method=None,\n",
       "             validate_parameters=None, verbosity=None)</pre></div></div></div></div></div></div><div class=\"sk-parallel-item\"><div class=\"sk-item\"><div class=\"sk-label-container\"><div class=\"sk-label sk-toggleable\"><label>gboost</label></div></div><div class=\"sk-serial\"><div class=\"sk-item\"><div class=\"sk-estimator sk-toggleable\"><input class=\"sk-toggleable__control sk-hidden--visually\" id=\"e32972b9-4db1-4825-a246-5f5d98ccef3c\" type=\"checkbox\" ><label class=\"sk-toggleable__label\" for=\"e32972b9-4db1-4825-a246-5f5d98ccef3c\">GradientBoostingRegressor</label><div class=\"sk-toggleable__content\"><pre>GradientBoostingRegressor(alpha=0.15202758438591388, max_depth=4,\n",
       "                          n_estimators=191)</pre></div></div></div></div></div></div><div class=\"sk-parallel-item\"><div class=\"sk-item\"><div class=\"sk-label-container\"><div class=\"sk-label sk-toggleable\"><label>adaboost</label></div></div><div class=\"sk-serial\"><div class=\"sk-item sk-dashed-wrapped\"><div class=\"sk-parallel\"><div class=\"sk-parallel-item\"><div class=\"sk-item\"><div class=\"sk-serial\"><div class=\"sk-item\"><div class=\"sk-estimator sk-toggleable\"><input class=\"sk-toggleable__control sk-hidden--visually\" id=\"24913d49-7877-4b91-85df-96da84d835da\" type=\"checkbox\" ><label class=\"sk-toggleable__label\" for=\"24913d49-7877-4b91-85df-96da84d835da\">DecisionTreeRegressor</label><div class=\"sk-toggleable__content\"><pre>DecisionTreeRegressor(max_depth=20, min_samples_leaf=10)</pre></div></div></div></div></div></div></div></div></div></div></div><div class=\"sk-parallel-item\"><div class=\"sk-item\"><div class=\"sk-label-container\"><div class=\"sk-label sk-toggleable\"><label>svm</label></div></div><div class=\"sk-serial\"><div class=\"sk-item\"><div class=\"sk-estimator sk-toggleable\"><input class=\"sk-toggleable__control sk-hidden--visually\" id=\"557aedd5-5e57-4dc1-9f07-705140f54570\" type=\"checkbox\" ><label class=\"sk-toggleable__label\" for=\"557aedd5-5e57-4dc1-9f07-705140f54570\">SVR</label><div class=\"sk-toggleable__content\"><pre>SVR(C=0.24626481244539566, epsilon=0.08747649515484607, kernel='linear')</pre></div></div></div></div></div></div><div class=\"sk-parallel-item\"><div class=\"sk-item\"><div class=\"sk-label-container\"><div class=\"sk-label sk-toggleable\"><label>ridge</label></div></div><div class=\"sk-serial\"><div class=\"sk-item\"><div class=\"sk-estimator sk-toggleable\"><input class=\"sk-toggleable__control sk-hidden--visually\" id=\"930804fe-568b-4792-9185-8e8356bc9631\" type=\"checkbox\" ><label class=\"sk-toggleable__label\" for=\"930804fe-568b-4792-9185-8e8356bc9631\">Ridge</label><div class=\"sk-toggleable__content\"><pre>Ridge(alpha=2.2668622173975823)</pre></div></div></div></div></div></div></div></div></div></div></div></div>"
      ],
      "text/plain": [
       "Pipeline(memory='/tmp/tmp4dt566r5',\n",
       "         steps=[('transformer',\n",
       "                 Pipeline(memory='/tmp/tmp4dt566r5',\n",
       "                          steps=[('transformer',\n",
       "                                  ColumnTransformer(transformers=[('cat_ord_encoding',\n",
       "                                                                   Pipeline(memory='/tmp/tmp4dt566r5',\n",
       "                                                                            steps=[('cat_imputer',\n",
       "                                                                                    SimpleImputer(strategy='most_frequent')),\n",
       "                                                                                   ('cat_encoder',\n",
       "                                                                                    OrdinalEncoder(categories=[['IR3',\n",
       "                                                                                                                'IR2',\n",
       "                                                                                                                'IR1',\n",
       "                                                                                                                'Reg'],\n",
       "                                                                                                               ['Low',\n",
       "                                                                                                                'HLS',\n",
       "                                                                                                                'Bnk'...\n",
       "                                              GradientBoostingRegressor(alpha=0.15202758438591388,\n",
       "                                                                        max_depth=4,\n",
       "                                                                        n_estimators=191)),\n",
       "                                             ('adaboost',\n",
       "                                              AdaBoostRegressor(base_estimator=DecisionTreeRegressor(max_depth=20,\n",
       "                                                                                                     min_samples_leaf=10),\n",
       "                                                                loss='square')),\n",
       "                                             ('svm',\n",
       "                                              SVR(C=0.24626481244539566,\n",
       "                                                  epsilon=0.08747649515484607,\n",
       "                                                  kernel='linear')),\n",
       "                                             ('ridge',\n",
       "                                              Ridge(alpha=2.2668622173975823))],\n",
       "                                 n_jobs=-1, weights=[2, 3, 2, 2, 1]))])"
      ]
     },
     "execution_count": 137,
     "metadata": {},
     "output_type": "execute_result"
    }
   ],
   "source": [
    "# Choosing the best model for predictions\n",
    "\n",
    "# --- Pipeline stacking_7a\n",
    "\n",
    "# best_model = pipe_baseline_stacking_7a\n",
    "# file_name = \"./data/submission_best_model_Voting_7a.csv\"\n",
    "\n",
    "# ---- Pipeline stacking_7b\n",
    "\n",
    "best_model = pipe_baseline_stacking_7b\n",
    "file_name = \"./data/submission_best_model_Voting_7b.csv\"\n",
    "\n",
    "print(\"---------------------------\")\n",
    "print(\"Pipeline for the prediction\")\n",
    "print(\"---------------------------\")\n",
    "\n",
    "best_model"
   ]
  },
  {
   "cell_type": "code",
   "execution_count": 140,
   "metadata": {
    "hidden": true
   },
   "outputs": [
    {
     "data": {
      "text/html": [
       "<div>\n",
       "<style scoped>\n",
       "    .dataframe tbody tr th:only-of-type {\n",
       "        vertical-align: middle;\n",
       "    }\n",
       "\n",
       "    .dataframe tbody tr th {\n",
       "        vertical-align: top;\n",
       "    }\n",
       "\n",
       "    .dataframe thead th {\n",
       "        text-align: right;\n",
       "    }\n",
       "</style>\n",
       "<table border=\"1\" class=\"dataframe\">\n",
       "  <thead>\n",
       "    <tr style=\"text-align: right;\">\n",
       "      <th>Id</th>\n",
       "      <th>1625</th>\n",
       "      <th>1730</th>\n",
       "      <th>2494</th>\n",
       "      <th>1994</th>\n",
       "      <th>2806</th>\n",
       "      <th>1610</th>\n",
       "      <th>2248</th>\n",
       "      <th>2026</th>\n",
       "      <th>2624</th>\n",
       "      <th>1754</th>\n",
       "      <th>1972</th>\n",
       "      <th>2406</th>\n",
       "      <th>1510</th>\n",
       "      <th>2153</th>\n",
       "      <th>1537</th>\n",
       "      <th>2505</th>\n",
       "      <th>1697</th>\n",
       "      <th>1993</th>\n",
       "      <th>1839</th>\n",
       "      <th>1549</th>\n",
       "    </tr>\n",
       "  </thead>\n",
       "  <tbody>\n",
       "    <tr>\n",
       "      <th>SalePrice_best</th>\n",
       "      <td>119281.276378</td>\n",
       "      <td>160337.128374</td>\n",
       "      <td>161093.625424</td>\n",
       "      <td>238031.636076</td>\n",
       "      <td>83798.440364</td>\n",
       "      <td>153686.291441</td>\n",
       "      <td>123051.660755</td>\n",
       "      <td>178531.238615</td>\n",
       "      <td>306265.162311</td>\n",
       "      <td>190177.909583</td>\n",
       "      <td>362687.417439</td>\n",
       "      <td>142232.309869</td>\n",
       "      <td>143412.782684</td>\n",
       "      <td>167406.753669</td>\n",
       "      <td>64829.391818</td>\n",
       "      <td>225929.714306</td>\n",
       "      <td>171162.084027</td>\n",
       "      <td>174943.420759</td>\n",
       "      <td>83996.066577</td>\n",
       "      <td>109766.784166</td>\n",
       "    </tr>\n",
       "    <tr>\n",
       "      <th>SalePrice_base</th>\n",
       "      <td>109716.274540</td>\n",
       "      <td>160143.976392</td>\n",
       "      <td>156337.053682</td>\n",
       "      <td>238088.938102</td>\n",
       "      <td>71819.636419</td>\n",
       "      <td>146866.878279</td>\n",
       "      <td>123350.855682</td>\n",
       "      <td>183460.541414</td>\n",
       "      <td>306463.325412</td>\n",
       "      <td>192958.028693</td>\n",
       "      <td>356379.740084</td>\n",
       "      <td>139048.557116</td>\n",
       "      <td>136716.466497</td>\n",
       "      <td>191331.394525</td>\n",
       "      <td>26402.713612</td>\n",
       "      <td>220376.595608</td>\n",
       "      <td>174352.927749</td>\n",
       "      <td>185257.195012</td>\n",
       "      <td>96863.815020</td>\n",
       "      <td>108544.972758</td>\n",
       "    </tr>\n",
       "  </tbody>\n",
       "</table>\n",
       "</div>"
      ],
      "text/plain": [
       "Id                       1625           1730           2494           1994  \\\n",
       "SalePrice_best  119281.276378  160337.128374  161093.625424  238031.636076   \n",
       "SalePrice_base  109716.274540  160143.976392  156337.053682  238088.938102   \n",
       "\n",
       "Id                      2806           1610           2248           2026  \\\n",
       "SalePrice_best  83798.440364  153686.291441  123051.660755  178531.238615   \n",
       "SalePrice_base  71819.636419  146866.878279  123350.855682  183460.541414   \n",
       "\n",
       "Id                       2624           1754           1972           2406  \\\n",
       "SalePrice_best  306265.162311  190177.909583  362687.417439  142232.309869   \n",
       "SalePrice_base  306463.325412  192958.028693  356379.740084  139048.557116   \n",
       "\n",
       "Id                       1510           2153          1537           2505  \\\n",
       "SalePrice_best  143412.782684  167406.753669  64829.391818  225929.714306   \n",
       "SalePrice_base  136716.466497  191331.394525  26402.713612  220376.595608   \n",
       "\n",
       "Id                       1697           1993          1839           1549  \n",
       "SalePrice_best  171162.084027  174943.420759  83996.066577  109766.784166  \n",
       "SalePrice_base  174352.927749  185257.195012  96863.815020  108544.972758  "
      ]
     },
     "execution_count": 140,
     "metadata": {},
     "output_type": "execute_result"
    }
   ],
   "source": [
    "# Training the best model with the whole training data set\n",
    "\n",
    "y_log_train = pd.Series(y_train).apply(lambda y: math.log(y))\n",
    "best_model.fit(X_train,y_log_train)\n",
    "\n",
    "# Making the prediction for the test data set\n",
    "\n",
    "y_test_pred = pd.Series(best_model.predict(X_test)).apply(lambda y: math.exp(y))\n",
    "\n",
    "# We create a dataframe with the predictions for the test data set\n",
    "\n",
    "y_pred_best_model = pd.DataFrame(y_test_pred).rename(columns={0:'SalePrice'})\n",
    "y_pred_best_model[\"Id\"] = X_test[\"Id\"]\n",
    "\n",
    "# Let's compare with baseline predictions\n",
    "\n",
    "y_pred = y_pred_best_model.set_index(\"Id\").join(y_pred_baseline.set_index(\"Id\"),lsuffix=\"_best\",rsuffix=\"_base\")\n",
    "y_pred.sample(20, axis=0).T"
   ]
  },
  {
   "cell_type": "markdown",
   "metadata": {
    "heading_collapsed": true
   },
   "source": [
    "# 🏅SUBMISSION \n",
    "\n",
    "Discover your real test score by submitting your prediction to the open competition [House Prices - Advanced Regression Techniques](https://www.kaggle.com/c/house-prices-advanced-regression-techniques/data)\n",
    "\n",
    ">- First submit \"submission_best_model.csv\" >> Kaggle score = 0.14041, Position leaderboard = 3158\n",
    ">- Second submit \"submission_best_model5.csv\" >> Kaggle score = 0.13535, Position leaderboard = 2648\n",
    ">- Third submit \"submission_best_model5_V2.csv\" >> Kaggle score = 0.13583\n",
    ">- Fourth submit \"submission_best_model_Voting.csv\" >> Kaggle score = 0.12880, Position leaderboard = 1813\n",
    ">- Fifth submit \"submission_best_model_Voting_7b.csv\" >> Kaggle score = 0.12761, Position leaderboard = 1686 \n",
    "\n",
    "👉 Write down your test score on the [result spreadsheet here](https://docs.google.com/spreadsheets/d/1bVNoHRxTP6-xZg4ALfpoznH9AX9U8xKCzFk2dY5RVkE/edit?usp=sharing) (pick the correct batch!)"
   ]
  },
  {
   "cell_type": "code",
   "execution_count": 141,
   "metadata": {
    "hidden": true
   },
   "outputs": [
    {
     "data": {
      "text/plain": [
       "'./data/submission_best_model_Voting_7b.csv'"
      ]
     },
     "execution_count": 141,
     "metadata": {},
     "output_type": "execute_result"
    }
   ],
   "source": [
    "file_name"
   ]
  },
  {
   "cell_type": "code",
   "execution_count": 144,
   "metadata": {
    "ExecuteTime": {
     "end_time": "2021-01-27T14:05:37.861551Z",
     "start_time": "2021-01-27T14:04:03.536Z"
    },
    "hidden": true
   },
   "outputs": [
    {
     "name": "stdout",
     "output_type": "stream",
     "text": [
      "------------------------------------------------------------------------\n",
      "./data/submission_best_model_Voting_7b.csv is ready to be submitted\n",
      "------------------------------------------------------------------------\n"
     ]
    }
   ],
   "source": [
    "# df.to_csv(\"./data/submission_baseline.csv\",index=False,columns=columns_to_write,mode=\"w\")\n",
    "\n",
    "columns_to_write = [\"Id\",\"SalePrice\"]\n",
    "\n",
    "csv_ready_to_submit (y_pred_best_model, columns_to_write, file_name)\n",
    "\n",
    "print(\"------------------------------------------------------------------------\")\n",
    "print(f\"{file_name} is ready to be submitted\")\n",
    "print(\"------------------------------------------------------------------------\")"
   ]
  }
 ],
 "metadata": {
  "kernelspec": {
   "display_name": "Python 3 (ipykernel)",
   "language": "python",
   "name": "python3"
  },
  "language_info": {
   "codemirror_mode": {
    "name": "ipython",
    "version": 3
   },
   "file_extension": ".py",
   "mimetype": "text/x-python",
   "name": "python",
   "nbconvert_exporter": "python",
   "pygments_lexer": "ipython3",
   "version": "3.10.1"
  },
  "toc": {
   "base_numbering": 1,
   "nav_menu": {},
   "number_sections": true,
   "sideBar": true,
   "skip_h1_title": false,
   "title_cell": "Table of Contents",
   "title_sidebar": "Contents",
   "toc_cell": false,
   "toc_position": {
    "height": "calc(100% - 180px)",
    "left": "10px",
    "top": "150px",
    "width": "282.997px"
   },
   "toc_section_display": true,
   "toc_window_display": true
  },
  "varInspector": {
   "cols": {
    "lenName": 16,
    "lenType": 16,
    "lenVar": 40
   },
   "kernels_config": {
    "python": {
     "delete_cmd_postfix": "",
     "delete_cmd_prefix": "del ",
     "library": "var_list.py",
     "varRefreshCmd": "print(var_dic_list())"
    },
    "r": {
     "delete_cmd_postfix": ") ",
     "delete_cmd_prefix": "rm(",
     "library": "var_list.r",
     "varRefreshCmd": "cat(var_dic_list()) "
    }
   },
   "types_to_exclude": [
    "module",
    "function",
    "builtin_function_or_method",
    "instance",
    "_Feature"
   ],
   "window_display": false
  }
 },
 "nbformat": 4,
 "nbformat_minor": 4
}
